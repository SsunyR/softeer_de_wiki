{
 "cells": [
  {
   "cell_type": "markdown",
   "id": "8812821e",
   "metadata": {},
   "source": [
    "IMF에서 제공하는 국가별 GDP를 구하세요. (https://en.wikipedia.org/wiki/List_of_countries_by_GDP_%28nominal%29)\n",
    "\n",
    "국가별 GDP를 확인할 수 있는 테이블을 만드세요.\n",
    "\n",
    "해당 테이블에는 GDP가 높은 국가들이 먼저 나와야 합니다.\n",
    "\n",
    "GDP의 단위는 1B USD이어야 하고 소수점 2자리까지만 표시해 주세요.\n",
    "\n",
    "IMF에서 매년 2회 이 자료를 제공하기 때문에 정보가 갱신되더라도 해당 코드를 재사용해서 정보를 얻을 수 있어야 합니다.\n",
    "\n",
    "\n",
    "\n",
    "GDP가 100B USD이상이 되는 국가만을 구해서 화면에 출력해야 합니다.\n",
    "\n",
    "각 Region별로 top5 국가의 GDP 평균을 구해서 화면에 출력해야 합니다."
   ]
  },
  {
   "cell_type": "code",
   "execution_count": 1,
   "id": "3901f96f",
   "metadata": {},
   "outputs": [
    {
     "name": "stdout",
     "output_type": "stream",
     "text": [
      "Start Extraction\n",
      "End Extraction\n"
     ]
    }
   ],
   "source": [
    "from bs4 import BeautifulSoup\n",
    "import pandas as pd\n",
    "import numpy as np\n",
    "from datetime import datetime\n",
    "import requests\n",
    "\n",
    "# Extract\n",
    "\n",
    "# url에서 원본 HTML 로드, bs4 객체회\n",
    "print(\"Start Extraction\")\n",
    "response = requests.get('https://en.wikipedia.org/wiki/List_of_countries_by_GDP_%28nominal%29')\n",
    "if response.status_code != 200:\n",
    "    print(response.status_code)\n",
    "    raise Exception(\"Failed to load page\")\n",
    "else:\n",
    "    html = response.text\n",
    "    soup = BeautifulSoup(html, 'html.parser')\n",
    "\n",
    "# \n",
    "table = soup.find('table', {'class':'wikitable'})\n",
    "rows = table.find_all('tr')\n",
    "\n",
    "print(\"End Extraction\")\n"
   ]
  },
  {
   "cell_type": "code",
   "execution_count": 2,
   "id": "b7ee5b39",
   "metadata": {},
   "outputs": [
    {
     "name": "stdout",
     "output_type": "stream",
     "text": [
      "Start Transformation\n"
     ]
    }
   ],
   "source": [
    "print(\"Start Transformation\")\n",
    "\n",
    "countrys = []\n",
    "gdps = []\n",
    "\n",
    "for i, row in enumerate(rows):\n",
    "    # 테이블 메타데이터\n",
    "    if i in [0, 1, 2]:\n",
    "        continue\n",
    "    # 각 행의 열 정보들 리스트화\n",
    "    cols = row.find_all('td')\n",
    "    for j, col in enumerate(cols):\n",
    "        # 국가 정보\n",
    "        if j == 0:\n",
    "            # print(col.get_text(strip=True))\n",
    "            countrys.append(col.get_text(strip=True))\n",
    "        # IMF의 GDP정보.\n",
    "        if j == 1:\n",
    "            content = col.get_text(strip=True)\n",
    "            # IMF 미가입 국가\n",
    "            if content == '—':\n",
    "                gdps.append(-1)\n",
    "            else:\n",
    "                gdps.append(float(content.replace(',', '')))"
   ]
  },
  {
   "cell_type": "code",
   "execution_count": 3,
   "id": "8e7ab026",
   "metadata": {},
   "outputs": [],
   "source": [
    "# Pandas DataFrame화\n",
    "df = pd.DataFrame({'Country':countrys, 'GDP':gdps})\n",
    "\n",
    "# IMF 미가입 국가의 데이터값 Not a Number로 변경\n",
    "df['GDP'] = df['GDP'].replace(-1, np.nan)\n",
    "# GDP 값 1B USD 단위로 변경\n",
    "df['GDP'] = (df['GDP']/1000).round(2)\n",
    "\n",
    "# 생성한 DF .json으로 저장\n",
    "# df.to_json(\"Countries_by_GDP.json\")"
   ]
  },
  {
   "cell_type": "code",
   "execution_count": 4,
   "id": "2dee68e5",
   "metadata": {},
   "outputs": [
    {
     "data": {
      "text/html": [
       "<div>\n",
       "<style scoped>\n",
       "    .dataframe tbody tr th:only-of-type {\n",
       "        vertical-align: middle;\n",
       "    }\n",
       "\n",
       "    .dataframe tbody tr th {\n",
       "        vertical-align: top;\n",
       "    }\n",
       "\n",
       "    .dataframe thead th {\n",
       "        text-align: right;\n",
       "    }\n",
       "</style>\n",
       "<table border=\"1\" class=\"dataframe\">\n",
       "  <thead>\n",
       "    <tr style=\"text-align: right;\">\n",
       "      <th></th>\n",
       "      <th>Country</th>\n",
       "      <th>GDP</th>\n",
       "    </tr>\n",
       "  </thead>\n",
       "  <tbody>\n",
       "    <tr>\n",
       "      <th>0</th>\n",
       "      <td>United States</td>\n",
       "      <td>30507.22</td>\n",
       "    </tr>\n",
       "    <tr>\n",
       "      <th>1</th>\n",
       "      <td>China</td>\n",
       "      <td>19231.71</td>\n",
       "    </tr>\n",
       "    <tr>\n",
       "      <th>2</th>\n",
       "      <td>Germany</td>\n",
       "      <td>4744.80</td>\n",
       "    </tr>\n",
       "    <tr>\n",
       "      <th>3</th>\n",
       "      <td>India</td>\n",
       "      <td>4187.02</td>\n",
       "    </tr>\n",
       "    <tr>\n",
       "      <th>4</th>\n",
       "      <td>Japan</td>\n",
       "      <td>4186.43</td>\n",
       "    </tr>\n",
       "    <tr>\n",
       "      <th>...</th>\n",
       "      <td>...</td>\n",
       "      <td>...</td>\n",
       "    </tr>\n",
       "    <tr>\n",
       "      <th>69</th>\n",
       "      <td>Bulgaria</td>\n",
       "      <td>117.01</td>\n",
       "    </tr>\n",
       "    <tr>\n",
       "      <th>70</th>\n",
       "      <td>Angola</td>\n",
       "      <td>113.34</td>\n",
       "    </tr>\n",
       "    <tr>\n",
       "      <th>71</th>\n",
       "      <td>Venezuela</td>\n",
       "      <td>108.51</td>\n",
       "    </tr>\n",
       "    <tr>\n",
       "      <th>72</th>\n",
       "      <td>Oman</td>\n",
       "      <td>104.35</td>\n",
       "    </tr>\n",
       "    <tr>\n",
       "      <th>73</th>\n",
       "      <td>Costa Rica</td>\n",
       "      <td>102.59</td>\n",
       "    </tr>\n",
       "  </tbody>\n",
       "</table>\n",
       "<p>72 rows × 2 columns</p>\n",
       "</div>"
      ],
      "text/plain": [
       "          Country       GDP\n",
       "0   United States  30507.22\n",
       "1           China  19231.71\n",
       "2         Germany   4744.80\n",
       "3           India   4187.02\n",
       "4           Japan   4186.43\n",
       "..            ...       ...\n",
       "69       Bulgaria    117.01\n",
       "70         Angola    113.34\n",
       "71      Venezuela    108.51\n",
       "72           Oman    104.35\n",
       "73     Costa Rica    102.59\n",
       "\n",
       "[72 rows x 2 columns]"
      ]
     },
     "execution_count": 4,
     "metadata": {},
     "output_type": "execute_result"
    }
   ],
   "source": [
    "# GDP 100B USD 이상의 국가 출력\n",
    "df_100B = df[df['GDP'] >= 100]\n",
    "df_100B"
   ]
  },
  {
   "cell_type": "code",
   "execution_count": null,
   "id": "6f614fb9",
   "metadata": {},
   "outputs": [],
   "source": []
  }
 ],
 "metadata": {
  "kernelspec": {
   "display_name": ".venv",
   "language": "python",
   "name": ".venv"
  },
  "language_info": {
   "codemirror_mode": {
    "name": "ipython",
    "version": 3
   },
   "file_extension": ".py",
   "mimetype": "text/x-python",
   "name": "python",
   "nbconvert_exporter": "python",
   "pygments_lexer": "ipython3",
   "version": "3.11.13"
  }
 },
 "nbformat": 4,
 "nbformat_minor": 5
}
