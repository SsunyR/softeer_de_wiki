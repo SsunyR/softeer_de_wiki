{
 "cells": [
  {
   "cell_type": "code",
   "execution_count": 1,
   "id": "5ad8fd7a",
   "metadata": {},
   "outputs": [
    {
     "name": "stdout",
     "output_type": "stream",
     "text": [
      "Opened SQLite database with version 3.43.2 successfully.\n"
     ]
    }
   ],
   "source": [
    "import sqlite3\n",
    "\n",
    "try:\n",
    "    with sqlite3.connect(\":memory:\") as conn:\n",
    "        print(f\"Opened SQLite database with version {sqlite3.sqlite_version} successfully.\")\n",
    "\n",
    "except sqlite3.OperationalError as e:\n",
    "    print(\"Failed to open database:\", e)"
   ]
  },
  {
   "cell_type": "code",
   "execution_count": 2,
   "id": "46d2644e",
   "metadata": {},
   "outputs": [],
   "source": [
    "cs = conn.cursor()"
   ]
  },
  {
   "cell_type": "code",
   "execution_count": 3,
   "id": "5008a44a",
   "metadata": {},
   "outputs": [],
   "source": [
    "with open('customers.sql', 'r') as file:\n",
    "    sql = file.read()\n",
    "\n",
    "cs.executescript(sql)\n",
    "\n",
    "conn.commit()"
   ]
  },
  {
   "cell_type": "code",
   "execution_count": 4,
   "id": "2e3780b3",
   "metadata": {},
   "outputs": [
    {
     "name": "stdout",
     "output_type": "stream",
     "text": [
      "(1, 'Alfreds Futterkiste', 'Maria Anders', 'Obere Str. 57', 'Berlin', '12209', 'Germany')\n",
      "(2, 'Ana Trujillo Emparedados y helados', 'Ana Trujillo', 'Avda. de la Constitución 2222', 'México D.F.', '5021', 'Mexico')\n",
      "(3, 'Antonio Moreno Taquería', 'Antonio Moreno', 'Mataderos 2312', 'México D.F.', '5023', 'Mexico')\n",
      "(4, 'Around the Horn', 'Thomas Hardy', '120 Hanover Sq.', 'London', 'WA1 1DP', 'UK')\n",
      "(5, 'Berglunds snabbköp', 'Christina Berglund', 'Berguvsvägen 8', 'Luleå', 'S-958 22', 'Sweden')\n"
     ]
    }
   ],
   "source": [
    "cs.execute(\"SELECT * FROM customers\")\n",
    "\n",
    "rows = cs.fetchall()\n",
    "for i, row in enumerate(rows):\n",
    "    if(i == 5):\n",
    "        break\n",
    "    print(row)"
   ]
  },
  {
   "cell_type": "code",
   "execution_count": 5,
   "id": "43360305",
   "metadata": {},
   "outputs": [
    {
     "name": "stdout",
     "output_type": "stream",
     "text": [
      "('Alfreds Futterkiste', 'Berlin')\n",
      "(1, 'Alfreds Futterkiste', 'Maria Anders', 'Obere Str. 57', 'Berlin', '12209', 'Germany')\n"
     ]
    }
   ],
   "source": [
    "# SQL Select\n",
    "\n",
    "cs.execute(\"SELECT CustomerName, City FROM Customers;\")\n",
    "row = cs.fetchone()\n",
    "print(row)\n",
    "\n",
    "cs.execute(\"SELECT * FROM Customers;\")\n",
    "row = cs.fetchone()\n",
    "print(row)"
   ]
  },
  {
   "cell_type": "code",
   "execution_count": 6,
   "id": "45e3d39f",
   "metadata": {},
   "outputs": [
    {
     "name": "stdout",
     "output_type": "stream",
     "text": [
      "('Germany',)\n",
      "('Mexico',)\n",
      "('UK',)\n",
      "('Sweden',)\n",
      "('France',)\n",
      "('Spain',)\n",
      "('Canada',)\n",
      "('Argentina',)\n",
      "('Switzerland',)\n",
      "('Brazil',)\n",
      "('Austria',)\n",
      "('Italy',)\n",
      "('Portugal',)\n",
      "('USA',)\n",
      "('Venezuela',)\n",
      "('Ireland',)\n",
      "('Belgium',)\n",
      "('Norway',)\n",
      "('Denmark',)\n",
      "('Finland',)\n",
      "('Poland',)\n"
     ]
    }
   ],
   "source": [
    "# SQL Select Distinct\n",
    "\n",
    "cs.execute(\"SELECT DISTINCT country FROM customers;\")\n",
    "rows = cs.fetchall()\n",
    "for row in rows:\n",
    "    print(row)"
   ]
  },
  {
   "cell_type": "code",
   "execution_count": 7,
   "id": "bb46feda",
   "metadata": {},
   "outputs": [
    {
     "name": "stdout",
     "output_type": "stream",
     "text": [
      "(2, 'Ana Trujillo Emparedados y helados', 'Ana Trujillo', 'Avda. de la Constitución 2222', 'México D.F.', '5021', 'Mexico')\n",
      "(3, 'Antonio Moreno Taquería', 'Antonio Moreno', 'Mataderos 2312', 'México D.F.', '5023', 'Mexico')\n",
      "(13, 'Centro comercial Moctezuma', 'Francisco Chang', 'Sierras de Granada 9993', 'México D.F.', '5022', 'Mexico')\n",
      "(58, 'Pericles Comidas clásicas', 'Guillermo Fernández', 'Calle Dr. Jorge Cash 321', 'México D.F.', '5033', 'Mexico')\n",
      "(80, 'Tortuga Restaurante', 'Miguel Angel Paolino', 'Avda. Azteca 123', 'México D.F.', '5033', 'Mexico')\n"
     ]
    }
   ],
   "source": [
    "# SQL Where\n",
    "\n",
    "cs.execute(\"SELECT * FROM Customers \\\n",
    "    WHERE Country='Mexico';\")\n",
    "rows = cs.fetchmany(5)\n",
    "for row in rows:\n",
    "    print(row)"
   ]
  },
  {
   "cell_type": "code",
   "execution_count": 8,
   "id": "b0c92562",
   "metadata": {},
   "outputs": [],
   "source": [
    "with open('products.sql', 'r') as file:\n",
    "    sql = file.read()\n",
    "\n",
    "cs.executescript(sql)\n",
    "\n",
    "conn.commit()"
   ]
  },
  {
   "cell_type": "code",
   "execution_count": 9,
   "id": "96521146",
   "metadata": {},
   "outputs": [
    {
     "name": "stdout",
     "output_type": "stream",
     "text": [
      "(33, 'Geitost', 15, 4, '500 g', 2.5)\n",
      "(24, 'Guaraná Fantástica', 10, 1, '12 - 355 ml cans', 4.5)\n",
      "(13, 'Konbu', 6, 8, '2 kg box', 6)\n",
      "(52, 'Filo Mix', 24, 5, '16 - 2 kg boxes', 7)\n",
      "(54, 'Tourtière', 25, 6, '16 pies', 7.45)\n"
     ]
    }
   ],
   "source": [
    "# SQL Order By\n",
    "\n",
    "cs.execute(\"SELECT * FROM Products \\\n",
    "    ORDER BY Price;\")\n",
    "rows = cs.fetchmany(5)\n",
    "for row in rows:\n",
    "    print(row)\n"
   ]
  },
  {
   "cell_type": "code",
   "execution_count": 10,
   "id": "aa17fd23",
   "metadata": {},
   "outputs": [
    {
     "name": "stdout",
     "output_type": "stream",
     "text": [
      "(29, 'Galería del gastrónomo', 'Eduardo Saavedra', 'Rambla de Cataluña, 23', 'Barcelona', '8022', 'Spain')\n",
      "(30, 'Godos Cocina Típica', 'José Pedro Freyre', 'C/ Romero, 33', 'Sevilla', '41101', 'Spain')\n"
     ]
    }
   ],
   "source": [
    "# SQL And\n",
    "\n",
    "cs.execute(\"SELECT * \\\n",
    "        FROM Customers \\\n",
    "        WHERE Country = 'Spain' AND CustomerName LIKE 'G%';\")\n",
    "\n",
    "rows = cs.fetchall()\n",
    "for row in rows:\n",
    "    print(row)"
   ]
  },
  {
   "cell_type": "code",
   "execution_count": 11,
   "id": "fd8d91ba",
   "metadata": {},
   "outputs": [
    {
     "name": "stdout",
     "output_type": "stream",
     "text": [
      "(1, 'Alfreds Futterkiste', 'Maria Anders', 'Obere Str. 57', 'Berlin', '12209', 'Germany')\n",
      "(6, 'Blauer See Delikatessen', 'Hanna Moos', 'Forsterstr. 57', 'Mannheim', '68306', 'Germany')\n",
      "(8, 'Bólido Comidas preparadas', 'Martín Sommer', 'C/ Araquil, 67', 'Madrid', '28023', 'Spain')\n",
      "(17, 'Drachenblut Delikatessend', 'Sven Ottlieb', 'Walserweg 21', 'Aachen', '52066', 'Germany')\n",
      "(22, 'FISSA Fabrica Inter. Salchichas S.A.', 'Diego Roel', 'C/ Moralzarzal, 86', 'Madrid', '28034', 'Spain')\n",
      "(25, 'Frankenversand', 'Peter Franken', 'Berliner Platz 43', 'München', '80805', 'Germany')\n",
      "(29, 'Galería del gastrónomo', 'Eduardo Saavedra', 'Rambla de Cataluña, 23', 'Barcelona', '8022', 'Spain')\n",
      "(30, 'Godos Cocina Típica', 'José Pedro Freyre', 'C/ Romero, 33', 'Sevilla', '41101', 'Spain')\n",
      "(39, 'Königlich Essen', 'Philip Cramer', 'Maubelstr. 90', 'Brandenburg', '14776', 'Germany')\n",
      "(44, 'Lehmanns Marktstand', 'Renate Messner', 'Magazinweg 7', 'Frankfurt a.M.', '60528', 'Germany')\n",
      "(52, 'Morgenstern Gesundkost', 'Alexander Feuer', 'Heerstr. 22', 'Leipzig', '4179', 'Germany')\n",
      "(56, 'Ottilies Käseladen', 'Henriette Pfalzheim', 'Mehrheimerstr. 369', 'Köln', '50739', 'Germany')\n",
      "(63, 'QUICK-Stop', 'Horst Kloss', 'Taucherstraße 10', 'Cunewalde', '1307', 'Germany')\n",
      "(69, 'Romero y tomillo', 'Alejandra Camino', 'Gran Vía, 1', 'Madrid', '28001', 'Spain')\n",
      "(79, 'Toms Spezialitäten', 'Karin Josephs', 'Luisenstr. 48', 'Münster', '44087', 'Germany')\n",
      "(86, 'Die Wandernde Kuh', 'Rita Müller', 'Adenauerallee 900', 'Stuttgart', '70563', 'Germany')\n"
     ]
    }
   ],
   "source": [
    "# SQL Or\n",
    "\n",
    "cs.execute(\"SELECT * \\\n",
    "        FROM Customers \\\n",
    "        WHERE Country = 'Germany' OR Country = 'Spain';\")\n",
    "\n",
    "rows = cs.fetchall()\n",
    "for row in rows:\n",
    "    print(row)"
   ]
  },
  {
   "cell_type": "code",
   "execution_count": 12,
   "id": "d61a2fe9",
   "metadata": {},
   "outputs": [
    {
     "name": "stdout",
     "output_type": "stream",
     "text": [
      "(1, 'Alfreds Futterkiste', 'Maria Anders', 'Obere Str. 57', 'Berlin', '12209', 'Germany')\n",
      "(2, 'Ana Trujillo Emparedados y helados', 'Ana Trujillo', 'Avda. de la Constitución 2222', 'México D.F.', '5021', 'Mexico')\n",
      "(3, 'Antonio Moreno Taquería', 'Antonio Moreno', 'Mataderos 2312', 'México D.F.', '5023', 'Mexico')\n",
      "(4, 'Around the Horn', 'Thomas Hardy', '120 Hanover Sq.', 'London', 'WA1 1DP', 'UK')\n",
      "(5, 'Berglunds snabbköp', 'Christina Berglund', 'Berguvsvägen 8', 'Luleå', 'S-958 22', 'Sweden')\n"
     ]
    }
   ],
   "source": [
    "# SQL Not\n",
    "\n",
    "cs.execute(\"SELECT * FROM customers \\\n",
    "           WHERE NOT country = 'Spain'\")\n",
    "rows = cs.fetchmany(5)\n",
    "for row in rows:\n",
    "    print(row)"
   ]
  },
  {
   "cell_type": "code",
   "execution_count": 13,
   "id": "92fb51da",
   "metadata": {},
   "outputs": [
    {
     "name": "stdout",
     "output_type": "stream",
     "text": [
      "(92, 'Cardinal', 'Tom B. Erichsen', 'Skagen 21', 'Stavanger', '4006', 'Norway')\n"
     ]
    }
   ],
   "source": [
    "# SQL Insert Into\n",
    "\n",
    "cs.execute(\"INSERT INTO customers (customername, contactname, address, city, postalcode, country) \\\n",
    "           VALUES ('Cardinal', 'Tom B. Erichsen', 'Skagen 21', 'Stavanger', '4006', 'Norway')\")\n",
    "\n",
    "cs.execute(\"SELECT * FROM customers \\\n",
    "           WHERE customername = 'Cardinal'\")\n",
    "\n",
    "print(cs.fetchone())"
   ]
  },
  {
   "cell_type": "code",
   "execution_count": 14,
   "id": "233a8fa9",
   "metadata": {},
   "outputs": [
    {
     "name": "stdout",
     "output_type": "stream",
     "text": [
      "---NULL Address---\n",
      "---NOT NULL Address---\n",
      "('Alfreds Futterkiste', 'Maria Anders', 'Obere Str. 57')\n",
      "('Ana Trujillo Emparedados y helados', 'Ana Trujillo', 'Avda. de la Constitución 2222')\n",
      "('Antonio Moreno Taquería', 'Antonio Moreno', 'Mataderos 2312')\n",
      "('Around the Horn', 'Thomas Hardy', '120 Hanover Sq.')\n",
      "('Berglunds snabbköp', 'Christina Berglund', 'Berguvsvägen 8')\n"
     ]
    }
   ],
   "source": [
    "# SQL Null Values\n",
    "\n",
    "print('---NULL Address---')\n",
    "cs.execute(\"SELECT customername, contactname, address \\\n",
    "           FROM customers \\\n",
    "           WHERE address IS NULL\")\n",
    "rows = cs.fetchall()\n",
    "for row in rows:\n",
    "    print(row)\n",
    "\n",
    "print('---NOT NULL Address---')\n",
    "cs.execute(\"SELECT customername, contactname, address \\\n",
    "           FROM customers \\\n",
    "           WHERE address IS NOT NULL;\")\n",
    "rows = cs.fetchmany(5)\n",
    "for row in rows:\n",
    "    print(row)\n"
   ]
  },
  {
   "cell_type": "code",
   "execution_count": 15,
   "id": "2719cbe3",
   "metadata": {},
   "outputs": [
    {
     "name": "stdout",
     "output_type": "stream",
     "text": [
      "(1, 'Alfreds Futterkiste', 'Alfred Schmidt', 'Obere Str. 57', 'Frankfurt', '12209', 'Germany')\n"
     ]
    }
   ],
   "source": [
    "# SLQ Update\n",
    "\n",
    "cs.execute(\"UPDATE customers \\\n",
    "           SET contactname = 'Alfred Schmidt', city = 'Frankfurt' \\\n",
    "           WHERE customerid = 1;\")\n",
    "\n",
    "cs.execute(\"SELECT * FROM customers \\\n",
    "           WHERE customerid = 1;\")\n",
    "print(cs.fetchone())\n",
    "\n",
    "conn.commit()"
   ]
  },
  {
   "cell_type": "code",
   "execution_count": 16,
   "id": "f72d9d7d",
   "metadata": {},
   "outputs": [
    {
     "name": "stdout",
     "output_type": "stream",
     "text": [
      "DELETE 전 레코드 개수: 92\n",
      "DELETE 후 레코드 개수: 91\n"
     ]
    }
   ],
   "source": [
    "# SQL Delete\n",
    "\n",
    "cs.execute(\"SELECT * FROM customers\")\n",
    "print(f\"DELETE 전 레코드 개수: {len(cs.fetchall())}\")\n",
    "\n",
    "cs.execute(\"DELETE FROM customers \\\n",
    "           WHERE customername = 'Alfreds Futterkiste';\")\n",
    "\n",
    "cs.execute(\"SELECT * FROM customers\")\n",
    "print(f\"DELETE 후 레코드 개수: {len(cs.fetchall())}\")\n",
    "\n",
    "conn.commit()"
   ]
  },
  {
   "cell_type": "code",
   "execution_count": 17,
   "id": "8b440cf0",
   "metadata": {},
   "outputs": [
    {
     "name": "stdout",
     "output_type": "stream",
     "text": [
      "---결과를 3개까지만 조회---\n",
      "(2, 'Ana Trujillo Emparedados y helados', 'Ana Trujillo', 'Avda. de la Constitución 2222', 'México D.F.', '5021', 'Mexico')\n",
      "(3, 'Antonio Moreno Taquería', 'Antonio Moreno', 'Mataderos 2312', 'México D.F.', '5023', 'Mexico')\n",
      "(4, 'Around the Horn', 'Thomas Hardy', '120 Hanover Sq.', 'London', 'WA1 1DP', 'UK')\n"
     ]
    }
   ],
   "source": [
    "# SQL Select Top\n",
    "\n",
    "cs.execute(\"SELECT * FROM customers \\\n",
    "           LIMIT 3\")\n",
    "rows = cs.fetchall()\n",
    "print(\"---결과를 3개까지만 조회---\")\n",
    "for row in rows:\n",
    "    print(row)"
   ]
  },
  {
   "cell_type": "code",
   "execution_count": 18,
   "id": "9add7e73",
   "metadata": {},
   "outputs": [
    {
     "name": "stdout",
     "output_type": "stream",
     "text": [
      "최저가 상품의 가격: [(2.5,)]\n",
      "최고가 상품의 가격: [(263.5,)]\n"
     ]
    }
   ],
   "source": [
    "# SQL Min and Max\n",
    "\n",
    "cs.execute(\"SELECT MIN(price) FROM products\")\n",
    "row = cs.fetchall()\n",
    "print(f\"최저가 상품의 가격: {row}\")\n",
    "\n",
    "cs.execute(\"SELECT MAX(price) FROM products\")\n",
    "row = cs.fetchall()\n",
    "print(f\"최고가 상품의 가격: {row}\")"
   ]
  },
  {
   "cell_type": "code",
   "execution_count": 19,
   "id": "5f6e0bcc",
   "metadata": {},
   "outputs": [
    {
     "name": "stdout",
     "output_type": "stream",
     "text": [
      "상품의 개수: (77,)\n",
      "20달러 이상의 가격을 가진 제품의 개수: [(37,)]\n",
      "서로 다른 가격의 개수: [(62,)]\n"
     ]
    }
   ],
   "source": [
    "# SQL Count\n",
    "\n",
    "cs.execute(\"SELECT COUNT(*) \\\n",
    "           FROM products;\")\n",
    "print(f\"상품의 개수: {cs.fetchone()}\")\n",
    "\n",
    "cs.execute(\"SELECT COUNT(*) \\\n",
    "           FROM products \\\n",
    "           WHERE price > 20\")\n",
    "print(f\"20달러 이상의 가격을 가진 제품의 개수: {cs.fetchall()}\")\n",
    "\n",
    "cs.execute(\"SELECT COUNT(DISTINCT price) \\\n",
    "           FROM products\")\n",
    "print(f\"서로 다른 가격의 개수: {cs.fetchall()}\")"
   ]
  },
  {
   "cell_type": "code",
   "execution_count": 20,
   "id": "04bcd981",
   "metadata": {},
   "outputs": [],
   "source": [
    "with open('orderdetails.sql', 'r') as file:\n",
    "    sql = file.read()\n",
    "\n",
    "cs.executescript(sql)\n",
    "\n",
    "conn.commit()"
   ]
  },
  {
   "cell_type": "code",
   "execution_count": 21,
   "id": "e6c717ac",
   "metadata": {},
   "outputs": [
    {
     "name": "stdout",
     "output_type": "stream",
     "text": [
      "전체 주문 상품의 개수: [(12743,)]\n",
      "상품 번호 11번 상품의 전체 주문 개수: [(182,)]\n"
     ]
    }
   ],
   "source": [
    "# SQL Sum\n",
    "\n",
    "cs.execute(\"SELECT SUM(quantity) \\\n",
    "           FROM orderdetails;\")\n",
    "print(f\"전체 주문 상품의 개수: {cs.fetchall()}\")\n",
    "\n",
    "cs.execute(\"SELECT SUM(quantity) \\\n",
    "           FROM orderdetails \\\n",
    "           WHERE productid = 11;\")\n",
    "print(f\"상품 번호 11번 상품의 전체 주문 개수: {cs.fetchall()}\")"
   ]
  },
  {
   "cell_type": "code",
   "execution_count": 22,
   "id": "b6dfa9de",
   "metadata": {},
   "outputs": [
    {
     "name": "stdout",
     "output_type": "stream",
     "text": [
      "전체 상품 가격의 평균: [(28.866363636363637,)]\n",
      "카테고리 번호가 1인 상품 가격의 평균: [(37.979166666666664,)]\n",
      "---상품의 가격이 평균 가격보다 높은 상품들---\n",
      "(7, \"Uncle Bob's Organic Dried Pears\", 3, 7, '12 - 1 lb pkgs.', 30)\n",
      "(8, 'Northwoods Cranberry Sauce', 3, 2, '12 - 12 oz jars', 40)\n",
      "(9, 'Mishi Kobe Niku', 4, 6, '18 - 500 g pkgs.', 97)\n",
      "(10, 'Ikura', 4, 8, '12 - 200 ml jars', 31)\n",
      "(12, 'Queso Manchego La Pastora', 5, 4, '10 - 500 g pkgs.', 38)\n"
     ]
    }
   ],
   "source": [
    "# SQL Avg\n",
    "\n",
    "cs.execute(\"SELECT AVG(price) \\\n",
    "           FROM products;\")\n",
    "print(f\"전체 상품 가격의 평균: {cs.fetchall()}\")\n",
    "\n",
    "cs.execute(\"SELECT AVG(price) \\\n",
    "           FROM products \\\n",
    "           WHERE categoryid = 1;\")\n",
    "print(f\"카테고리 번호가 1인 상품 가격의 평균: {cs.fetchall()}\")\n",
    "\n",
    "cs.execute(\"SELECT * FROM products \\\n",
    "           WHERE price > (SELECT AVG(price) FROM products);\")\n",
    "print(f\"---상품의 가격이 평균 가격보다 높은 상품들---\")\n",
    "rows = cs.fetchmany(5)\n",
    "for row in rows:\n",
    "    print(row)"
   ]
  },
  {
   "cell_type": "code",
   "execution_count": 23,
   "id": "903520f4",
   "metadata": {},
   "outputs": [
    {
     "name": "stdout",
     "output_type": "stream",
     "text": [
      "---a로 시작하는 이름을 가진 고객 정보---\n",
      "(2, 'Ana Trujillo Emparedados y helados', 'Ana Trujillo', 'Avda. de la Constitución 2222', 'México D.F.', '5021', 'Mexico')\n",
      "(3, 'Antonio Moreno Taquería', 'Antonio Moreno', 'Mataderos 2312', 'México D.F.', '5023', 'Mexico')\n",
      "(4, 'Around the Horn', 'Thomas Hardy', '120 Hanover Sq.', 'London', 'WA1 1DP', 'UK')\n",
      "\n",
      "---L_nd__와 같은 이름의 도시에 살고 있는 고객 정보---\n",
      "(4, 'Around the Horn', 'Thomas Hardy', '120 Hanover Sq.', 'London', 'WA1 1DP', 'UK')\n",
      "(11, \"B's Beverages\", 'Victoria Ashworth', 'Fauntleroy Circus', 'London', 'EC2 5NT', 'UK')\n",
      "(16, 'Consolidated Holdings', 'Elizabeth Brown', 'Berkeley Gardens 12 Brewery', 'London', 'WX1 6LT', 'UK')\n",
      "\n",
      "---도시 이름 L이 들어가는 고객의 정보---\n",
      "(4, 'Around the Horn', 'Thomas Hardy', '120 Hanover Sq.', 'London', 'WA1 1DP', 'UK')\n",
      "(5, 'Berglunds snabbköp', 'Christina Berglund', 'Berguvsvägen 8', 'Luleå', 'S-958 22', 'Sweden')\n",
      "(9, \"Bon app'\", 'Laurence Lebihans', '12, rue des Bouchers', 'Marseille', '13008', 'France')\n",
      "\n",
      "---이름이 La로 시작하는 고객의 정보---\n",
      "(40, \"La corne d'abondance\", 'Daniel Tonini', \"67, avenue de l'Europe\", 'Versailles', '78000', 'France')\n",
      "(41, \"La maison d'Asie\", 'Annette Roulet', '1 rue Alsace-Lorraine', 'Toulouse', '31000', 'France')\n",
      "(42, 'Laughing Bacchus Wine Cellars', 'Yoshi Tannamuri', '1900 Oak St.', 'Vancouver', 'V3F 2K1', 'Canada')\n",
      "\n",
      "---이름이 a 또는 b로 시작하는 고객의 정보---\n",
      "(2, 'Ana Trujillo Emparedados y helados', 'Ana Trujillo', 'Avda. de la Constitución 2222', 'México D.F.', '5021', 'Mexico')\n",
      "(3, 'Antonio Moreno Taquería', 'Antonio Moreno', 'Mataderos 2312', 'México D.F.', '5023', 'Mexico')\n",
      "(4, 'Around the Horn', 'Thomas Hardy', '120 Hanover Sq.', 'London', 'WA1 1DP', 'UK')\n",
      "\n"
     ]
    }
   ],
   "source": [
    "# SQL Like\n",
    "\n",
    "cs.execute(\"SELECT * FROM customers \\\n",
    "           WHERE customername LIKE 'a%';\")\n",
    "rows = cs.fetchmany(3)\n",
    "print(\"---a로 시작하는 이름을 가진 고객 정보---\")\n",
    "for row in rows:\n",
    "    print(row)\n",
    "print()\n",
    "\n",
    "cs.execute(\"SELECT * FROM customers \\\n",
    "           WHERE city LIKE 'L_nd__'\")\n",
    "rows = cs.fetchmany(3)\n",
    "print(\"---L_nd__와 같은 이름의 도시에 살고 있는 고객 정보---\")\n",
    "for row in rows:\n",
    "    print(row)\n",
    "print()\n",
    "\n",
    "cs.execute(\"SELECT * FROM customers \\\n",
    "           WHERE city LIKE '%L%';\")\n",
    "rows = cs.fetchmany(3)\n",
    "print(\"---도시 이름 L이 들어가는 고객의 정보---\")\n",
    "for row in rows:\n",
    "    print(row)\n",
    "print()\n",
    "\n",
    "cs.execute(\"SELECT * FROM customers \\\n",
    "           WHERE customername LIKE 'La%';\")\n",
    "rows = cs.fetchmany(3)\n",
    "print(\"---이름이 La로 시작하는 고객의 정보---\")\n",
    "for row in rows:\n",
    "    print(row)\n",
    "print()\n",
    "\n",
    "cs.execute(\"SELECT * FROM customers \\\n",
    "           WHERE customername LIKE 'a%' OR customername LIKE 'b%';\")\n",
    "rows = cs.fetchmany(3)\n",
    "print(\"---이름이 a 또는 b로 시작하는 고객의 정보---\")\n",
    "for row in rows:\n",
    "    print(row)\n",
    "print()\n",
    "\n"
   ]
  },
  {
   "cell_type": "code",
   "execution_count": 24,
   "id": "ed37ff9d",
   "metadata": {},
   "outputs": [
    {
     "name": "stdout",
     "output_type": "stream",
     "text": [
      "---이름이 a로 끝나는 고객의 정보---\n",
      "(3, 'Antonio Moreno Taquería', 'Antonio Moreno', 'Mataderos 2312', 'México D.F.', '5023', 'Mexico')\n",
      "(13, 'Centro comercial Moctezuma', 'Francisco Chang', 'Sierras de Granada 9993', 'México D.F.', '5022', 'Mexico')\n",
      "(30, 'Godos Cocina Típica', 'José Pedro Freyre', 'C/ Romero, 33', 'Sevilla', '41101', 'Spain')\n",
      "\n",
      "---이름이 b로 시작해 s로 끝나는 고객의 정보---\n",
      "(7, 'Blondel père et fils', 'Frédérique Citeaux', '24, place Kléber', 'Strasbourg', '67000', 'France')\n",
      "(8, 'Bólido Comidas preparadas', 'Martín Sommer', 'C/ Araquil, 67', 'Madrid', '28023', 'Spain')\n",
      "(11, \"B's Beverages\", 'Victoria Ashworth', 'Fauntleroy Circus', 'London', 'EC2 5NT', 'UK')\n",
      "\n",
      "---이름 가운데에 or이 포함된 고객의 정보---\n",
      "(3, 'Antonio Moreno Taquería', 'Antonio Moreno', 'Mataderos 2312', 'México D.F.', '5023', 'Mexico')\n",
      "(4, 'Around the Horn', 'Thomas Hardy', '120 Hanover Sq.', 'London', 'WA1 1DP', 'UK')\n",
      "(36, 'Hungry Coyote Import Store', 'Yoshi Latimer', 'City Center Plaza 516 Main St.', 'Elgin', '97827', 'USA')\n",
      "\n",
      "---이름이 a로 시작하고 세 글자 이상인 고객의 정보---\n",
      "(2, 'Ana Trujillo Emparedados y helados', 'Ana Trujillo', 'Avda. de la Constitución 2222', 'México D.F.', '5021', 'Mexico')\n",
      "(3, 'Antonio Moreno Taquería', 'Antonio Moreno', 'Mataderos 2312', 'México D.F.', '5023', 'Mexico')\n",
      "(4, 'Around the Horn', 'Thomas Hardy', '120 Hanover Sq.', 'London', 'WA1 1DP', 'UK')\n",
      "\n",
      "---이름 두 번째 글자가 r인 고객의 정보---\n",
      "(4, 'Around the Horn', 'Thomas Hardy', '120 Hanover Sq.', 'London', 'WA1 1DP', 'UK')\n",
      "(17, 'Drachenblut Delikatessend', 'Sven Ottlieb', 'Walserweg 21', 'Aachen', '52066', 'Germany')\n",
      "(20, 'Ernst Handel', 'Roland Mendel', 'Kirchgasse 6', 'Graz', '8010', 'Austria')\n",
      "\n",
      "---국가가 스페인인 고객의 정보---\n",
      "(8, 'Bólido Comidas preparadas', 'Martín Sommer', 'C/ Araquil, 67', 'Madrid', '28023', 'Spain')\n",
      "(22, 'FISSA Fabrica Inter. Salchichas S.A.', 'Diego Roel', 'C/ Moralzarzal, 86', 'Madrid', '28034', 'Spain')\n",
      "(29, 'Galería del gastrónomo', 'Eduardo Saavedra', 'Rambla de Cataluña, 23', 'Barcelona', '8022', 'Spain')\n",
      "\n"
     ]
    }
   ],
   "source": [
    "cs.execute(\"SELECT * FROM customers \\\n",
    "           WHERE customername LIKE '%a';\")\n",
    "rows = cs.fetchmany(3)\n",
    "print(\"---이름이 a로 끝나는 고객의 정보---\")\n",
    "for row in rows:\n",
    "    print(row)\n",
    "print()\n",
    "\n",
    "cs.execute(\"SELECT * FROM customers \\\n",
    "           WHERE customername LIKE 'b%s';\")\n",
    "rows = cs.fetchmany(3)\n",
    "print(\"---이름이 b로 시작해 s로 끝나는 고객의 정보---\")\n",
    "for row in rows:\n",
    "    print(row)\n",
    "print()\n",
    "\n",
    "cs.execute(\"SELECT * FROM customers \\\n",
    "           WHERE customername LIKE '%or%';\")\n",
    "rows = cs.fetchmany(3)\n",
    "print(\"---이름 가운데에 or이 포함된 고객의 정보---\")\n",
    "for row in rows:\n",
    "    print(row)\n",
    "print()\n",
    "\n",
    "cs.execute(\"SELECT * FROM customers \\\n",
    "           WHERE customername LIKE 'a__%';\")\n",
    "rows = cs.fetchmany(3)\n",
    "print(\"---이름이 a로 시작하고 세 글자 이상인 고객의 정보---\")\n",
    "for row in rows:\n",
    "    print(row)\n",
    "print()\n",
    "\n",
    "cs.execute(\"SELECT * FROM customers \\\n",
    "           WHERE customername LIKE '_r%';\")\n",
    "rows = cs.fetchmany(3)\n",
    "print(\"---이름 두 번째 글자가 r인 고객의 정보---\")\n",
    "for row in rows:\n",
    "    print(row)\n",
    "print()\n",
    "\n",
    "cs.execute(\"SELECT * FROM customers \\\n",
    "           WHERE country LIKE 'Spain';\")\n",
    "rows = cs.fetchmany(3)\n",
    "print(\"---국가가 스페인인 고객의 정보---\")\n",
    "for row in rows:\n",
    "    print(row)\n",
    "print()"
   ]
  },
  {
   "cell_type": "code",
   "execution_count": 25,
   "id": "8894b243",
   "metadata": {},
   "outputs": [
    {
     "name": "stdout",
     "output_type": "stream",
     "text": [
      "---이름이 es로 끝나는 고객의 정보---\n",
      "(11, \"B's Beverages\", 'Victoria Ashworth', 'Fauntleroy Circus', 'London', 'EC2 5NT', 'UK')\n",
      "(23, 'Folies gourmandes', 'Martine Rancé', '184, chaussée de Tournai', 'Lille', '59000', 'France')\n",
      "(31, 'Gourmet Lanchonetes', 'André Fonseca', 'Av. Brasil, 442', 'Campinas', '04876-786', 'Brazil')\n",
      "\n",
      "---이름에 mer가 들어가는 고객의 정보---\n",
      "(13, 'Centro comercial Moctezuma', 'Francisco Chang', 'Sierras de Granada 9993', 'México D.F.', '5022', 'Mexico')\n",
      "(46, 'LILA-Supermercado', 'Carlos González', 'Carrera 52 con Ave. Bolívar #65-98 Llano Largo', 'Barquisimeto', '3508', 'Venezuela')\n",
      "(69, 'Romero y tomillo', 'Alejandra Camino', 'Gran Vía, 1', 'Madrid', '28001', 'Spain')\n",
      "\n",
      "---도시 이름이 첫 글자를 제외하고 ondon으로 이루어진 고객의 정보---\n",
      "(4, 'Around the Horn', 'Thomas Hardy', '120 Hanover Sq.', 'London', 'WA1 1DP', 'UK')\n",
      "(11, \"B's Beverages\", 'Victoria Ashworth', 'Fauntleroy Circus', 'London', 'EC2 5NT', 'UK')\n",
      "(16, 'Consolidated Holdings', 'Elizabeth Brown', 'Berkeley Gardens 12 Brewery', 'London', 'WX1 6LT', 'UK')\n",
      "\n",
      "---도시 이름이 L로 시작하고 on으로 끝나는 6글자인 고객의 정보---\n",
      "(4, 'Around the Horn', 'Thomas Hardy', '120 Hanover Sq.', 'London', 'WA1 1DP', 'UK')\n",
      "(11, \"B's Beverages\", 'Victoria Ashworth', 'Fauntleroy Circus', 'London', 'EC2 5NT', 'UK')\n",
      "(16, 'Consolidated Holdings', 'Elizabeth Brown', 'Berkeley Gardens 12 Brewery', 'London', 'WX1 6LT', 'UK')\n",
      "\n",
      "---고객의 이름이 b 또는 s 또는 p로 시작하는 고객의 정보---\n",
      "(5, 'Berglunds snabbköp', 'Christina Berglund', 'Berguvsvägen 8', 'Luleå', 'S-958 22', 'Sweden')\n",
      "(6, 'Blauer See Delikatessen', 'Hanna Moos', 'Forsterstr. 57', 'Mannheim', '68306', 'Germany')\n",
      "(7, 'Blondel père et fils', 'Frédérique Citeaux', '24, place Kléber', 'Strasbourg', '67000', 'France')\n",
      "\n",
      "---고객의 이름이 a 부터 f 까지의 알파벳으로 시작하는 고객의 정보---\n",
      "(2, 'Ana Trujillo Emparedados y helados', 'Ana Trujillo', 'Avda. de la Constitución 2222', 'México D.F.', '5021', 'Mexico')\n",
      "(3, 'Antonio Moreno Taquería', 'Antonio Moreno', 'Mataderos 2312', 'México D.F.', '5023', 'Mexico')\n",
      "(4, 'Around the Horn', 'Thomas Hardy', '120 Hanover Sq.', 'London', 'WA1 1DP', 'UK')\n",
      "\n"
     ]
    }
   ],
   "source": [
    "# SQL Wildcards\n",
    "\n",
    "cs.execute(\"SELECT * FROM customers \\\n",
    "           WHERE customername LIKE '%es';\")\n",
    "rows = cs.fetchmany(3)\n",
    "print('---이름이 es로 끝나는 고객의 정보---')\n",
    "for row in rows:\n",
    "    print(row)\n",
    "print()\n",
    "\n",
    "cs.execute(\"SELECT * FROM customers \\\n",
    "           WHERE customername LIKE '%mer%';\")\n",
    "rows = cs.fetchmany(3)\n",
    "print('---이름에 mer가 들어가는 고객의 정보---')\n",
    "for row in rows:\n",
    "    print(row)\n",
    "print()\n",
    "\n",
    "cs.execute(\"SELECT * FROM customers \\\n",
    "           WHERE city LIKE '_ondon';\")\n",
    "rows = cs.fetchmany(3)\n",
    "print('---도시 이름이 첫 글자를 제외하고 ondon으로 이루어진 고객의 정보---')\n",
    "for row in rows:\n",
    "    print(row)\n",
    "print()\n",
    "\n",
    "cs.execute(\"SELECT * FROM customers \\\n",
    "           WHERE city LIKE 'L___on';\")\n",
    "rows = cs.fetchmany(3)\n",
    "print('---도시 이름이 L로 시작하고 on으로 끝나는 6글자인 고객의 정보---')\n",
    "for row in rows:\n",
    "    print(row)\n",
    "print()\n",
    "\n",
    "# SQLite에서는 []와일드카드를 사용할 수 없다.\n",
    "# 대신 Unix의 파일 이름 탐색 방식인 GLOB을 사용할 수 있다.\n",
    "# GLOB은 LIKE와는 달리 Case sensitive 하고, LIKE에서 %의 역할을 하는 와일드카드는 *로 사용된다.\n",
    "\n",
    "cs.execute(\"SELECT * FROM customers \\\n",
    "           WHERE customername GLOB '[bspBSP]*';\")\n",
    "rows = cs.fetchmany(3)\n",
    "print('---고객의 이름이 b 또는 s 또는 p로 시작하는 고객의 정보---')\n",
    "for row in rows:\n",
    "    print(row)\n",
    "print()\n",
    "\n",
    "cs.execute(\"SELECT * FROM customers \\\n",
    "           WHERE customername GLOB '[a-fA-F]*';\")\n",
    "rows = cs.fetchmany(3)\n",
    "print('---고객의 이름이 a 부터 f 까지의 알파벳으로 시작하는 고객의 정보---')\n",
    "for row in rows:\n",
    "    print(row)\n",
    "print()"
   ]
  },
  {
   "cell_type": "code",
   "execution_count": 26,
   "id": "fb67bd0d",
   "metadata": {},
   "outputs": [],
   "source": [
    "with open('orders.sql', 'r') as file:\n",
    "    sql = file.read()\n",
    "\n",
    "cs.executescript(sql)\n",
    "\n",
    "conn.commit()"
   ]
  },
  {
   "cell_type": "code",
   "execution_count": 27,
   "id": "fcf1ef85",
   "metadata": {},
   "outputs": [
    {
     "name": "stdout",
     "output_type": "stream",
     "text": [
      "---국가가 독일, 프랑스, 영국인 고객의 정보---\n",
      "(4, 'Around the Horn', 'Thomas Hardy', '120 Hanover Sq.', 'London', 'WA1 1DP', 'UK')\n",
      "(6, 'Blauer See Delikatessen', 'Hanna Moos', 'Forsterstr. 57', 'Mannheim', '68306', 'Germany')\n",
      "(7, 'Blondel père et fils', 'Frédérique Citeaux', '24, place Kléber', 'Strasbourg', '67000', 'France')\n",
      "(9, \"Bon app'\", 'Laurence Lebihans', '12, rue des Bouchers', 'Marseille', '13008', 'France')\n",
      "(11, \"B's Beverages\", 'Victoria Ashworth', 'Fauntleroy Circus', 'London', 'EC2 5NT', 'UK')\n",
      "\n",
      "---국가가 독일, 프랑스, 영국이 아닌 고객의 정보---\n",
      "(2, 'Ana Trujillo Emparedados y helados', 'Ana Trujillo', 'Avda. de la Constitución 2222', 'México D.F.', '5021', 'Mexico')\n",
      "(3, 'Antonio Moreno Taquería', 'Antonio Moreno', 'Mataderos 2312', 'México D.F.', '5023', 'Mexico')\n",
      "(5, 'Berglunds snabbköp', 'Christina Berglund', 'Berguvsvägen 8', 'Luleå', 'S-958 22', 'Sweden')\n",
      "(8, 'Bólido Comidas preparadas', 'Martín Sommer', 'C/ Araquil, 67', 'Madrid', '28023', 'Spain')\n",
      "(10, 'Bottom-Dollar Marketse', 'Elizabeth Lincoln', '23 Tsawassen Blvd.', 'Tsawassen', 'T2F 8M4', 'Canada')\n",
      "\n",
      "---실제로 주문을 한 고객의 고객 정보---\n",
      "(2, 'Ana Trujillo Emparedados y helados', 'Ana Trujillo', 'Avda. de la Constitución 2222', 'México D.F.', '5021', 'Mexico')\n",
      "(3, 'Antonio Moreno Taquería', 'Antonio Moreno', 'Mataderos 2312', 'México D.F.', '5023', 'Mexico')\n",
      "(4, 'Around the Horn', 'Thomas Hardy', '120 Hanover Sq.', 'London', 'WA1 1DP', 'UK')\n",
      "(5, 'Berglunds snabbköp', 'Christina Berglund', 'Berguvsvägen 8', 'Luleå', 'S-958 22', 'Sweden')\n",
      "(7, 'Blondel père et fils', 'Frédérique Citeaux', '24, place Kléber', 'Strasbourg', '67000', 'France')\n",
      "\n"
     ]
    }
   ],
   "source": [
    "# SQL In\n",
    "\n",
    "cs.execute(\"SELECT * FROM customers \\\n",
    "           WHERE country IN ('Germany', 'France', 'UK');\")\n",
    "rows = cs.fetchmany(5)\n",
    "print(\"---국가가 독일, 프랑스, 영국인 고객의 정보---\")\n",
    "for row in rows:\n",
    "    print(row)\n",
    "print()\n",
    "\n",
    "cs.execute(\"SELECT * FROM customers \\\n",
    "           WHERE country NOT IN ('Germany', 'France', 'UK');\")\n",
    "rows = cs.fetchmany(5)\n",
    "print(\"---국가가 독일, 프랑스, 영국이 아닌 고객의 정보---\")\n",
    "for row in rows:\n",
    "    print(row)\n",
    "print()\n",
    "\n",
    "cs.execute(\"SELECT * FROM customers \\\n",
    "           WHERE customerid IN (SELECT customerid FROM orders)\")\n",
    "rows = cs.fetchmany(5)\n",
    "print(\"---실제로 주문을 한 고객의 고객 정보---\")\n",
    "for row in rows:\n",
    "    print(row)\n",
    "print()"
   ]
  },
  {
   "cell_type": "code",
   "execution_count": 28,
   "id": "16064d17",
   "metadata": {},
   "outputs": [
    {
     "name": "stdout",
     "output_type": "stream",
     "text": [
      "---가격이 10달러와 20달러 사이인 상품의 정보---\n",
      "(1, 'Chais', 1, 1, '10 boxes x 20 bags', 18)\n",
      "(2, 'Chang', 1, 1, '24 - 12 oz bottles', 19)\n",
      "(3, 'Aniseed Syrup', 1, 2, '12 - 550 ml bottles', 10)\n",
      "---가격이 10달러와 20달러 사이가 아닌 상품의 정보---\n",
      "(4, \"Chef Anton's Cajun Seasoning\", 2, 2, '48 - 6 oz jars', 22)\n",
      "(5, \"Chef Anton's Gumbo Mix\", 2, 2, '36 boxes', 21.35)\n",
      "(6, \"Grandma's Boysenberry Spread\", 3, 2, '12 - 8 oz jars', 25)\n",
      "---가격이 10달러와 20달러 사이면서 카테고리 번호가 1, 2 또는 3인 상품의 정보---\n",
      "(1, 'Chais', 1, 1, '10 boxes x 20 bags', 18)\n",
      "(2, 'Chang', 1, 1, '24 - 12 oz bottles', 19)\n",
      "(3, 'Aniseed Syrup', 1, 2, '12 - 550 ml bottles', 10)\n",
      "---상품 명이 사전 상으로 Carnarvon Tigers와 Chef Anton''s Cajun Seasoning 사이에 있는 상품의 정보---\n",
      "(18, 'Carnarvon Tigers', 7, 8, '16 kg pkg.', 62.5)\n",
      "(1, 'Chais', 1, 1, '10 boxes x 20 bags', 18)\n",
      "(2, 'Chang', 1, 1, '24 - 12 oz bottles', 19)\n",
      "\n",
      "---상품 명이 사전 상으로 Carnarvon Tigers와 Chef Anton''s Cajun Seasoning 사이에 있지 않은 상품의 정보---\n",
      "(17, 'Alice Mutton', 7, 6, '20 - 1 kg tins', 39)\n",
      "(3, 'Aniseed Syrup', 1, 2, '12 - 550 ml bottles', 10)\n",
      "(40, 'Boston Crab Meat', 19, 8, '24 - 4 oz tins', 18.4)\n",
      "\n",
      "---주문 날짜가 1996.07.01 ~ 1996.07.31 사이인 주문의 정보1---\n",
      "(10248, 90, 5, '1996-07-04', 3)\n",
      "(10249, 81, 6, '1996-07-05', 1)\n",
      "(10250, 34, 4, '1996-07-08', 2)\n",
      "\n",
      "---주문 날짜가 1996.07.01 ~ 1996.07.31 사이인 주문의 정보2---\n",
      "(10248, 90, 5, '1996-07-04', 3)\n",
      "(10249, 81, 6, '1996-07-05', 1)\n",
      "(10250, 34, 4, '1996-07-08', 2)\n",
      "\n"
     ]
    }
   ],
   "source": [
    "# SQL Between\n",
    "\n",
    "cs.execute(\"SELECT * FROM products \\\n",
    "           WHERE price BETWEEN 10 AND 20;\")\n",
    "rows = cs.fetchmany(3)\n",
    "print(\"---가격이 10달러와 20달러 사이인 상품의 정보---\")\n",
    "for row in rows:\n",
    "    print(row)\n",
    "\n",
    "cs.execute(\"SELECT * FROM products \\\n",
    "           WHERE price NOT BETWEEN 10 AND 20;\")\n",
    "rows = cs.fetchmany(3)\n",
    "print(\"---가격이 10달러와 20달러 사이가 아닌 상품의 정보---\")\n",
    "for row in rows:\n",
    "    print(row)\n",
    "\n",
    "cs.execute(\"SELECT * FROM products \\\n",
    "           WHERE price BETWEEN 10 AND 20 \\\n",
    "           AND categoryid IN (1, 2, 3);\")\n",
    "rows = cs.fetchmany(3)\n",
    "print(\"---가격이 10달러와 20달러 사이면서 카테고리 번호가 1, 2 또는 3인 상품의 정보---\")\n",
    "for row in rows:\n",
    "    print(row)\n",
    "\n",
    "cs.execute(\"SELECT * FROM products \\\n",
    "           WHERE productname BETWEEN 'Carnarvon Tigers' AND 'Chef Anton''s Cajun Seasoning' \\\n",
    "           ORDER BY productname;\")\n",
    "rows = cs.fetchmany(3)\n",
    "print(\"---상품 명이 사전 상으로 Carnarvon Tigers와 Chef Anton''s Cajun Seasoning 사이에 있는 상품의 정보---\")\n",
    "for row in rows:\n",
    "    print(row)\n",
    "print()\n",
    "\n",
    "cs.execute(\"SELECT * FROM products \\\n",
    "           WHERE productname NOT BETWEEN 'Carnarvon Tigers' AND 'Chef Anton''s Cajun Seasoning' \\\n",
    "           ORDER BY productname;\")\n",
    "rows = cs.fetchmany(3)\n",
    "print(\"---상품 명이 사전 상으로 Carnarvon Tigers와 Chef Anton''s Cajun Seasoning 사이에 있지 않은 상품의 정보---\")\n",
    "for row in rows:\n",
    "    print(row)\n",
    "print()\n",
    "\n",
    "# SQLite에서는 직접적인 날짜 자료 타입이 존재하지 않으며, 날짜를 처리할 수 있는 함수만이 존재한다.\n",
    "# 날짜 함수는 'YYYY-MM-DD'와 같은 포맷만을 지원한다.\n",
    "# Orders 테이블의 orderdate를 'YYYY-MM-DD' 형태로 바꿔 테이블 생성\n",
    "\n",
    "# 단순 문자비교\n",
    "cs.execute(\"SELECT * FROM orders \\\n",
    "            WHERE orderdate BETWEEN '1996-07-01' AND '1996-07-31';\")\n",
    "rows = cs.fetchmany(3)\n",
    "print(\"---주문 날짜가 1996.07.01 ~ 1996.07.31 사이인 주문의 정보1---\")\n",
    "for row in rows:\n",
    "    print(row)\n",
    "print()\n",
    "\n",
    "# DATE 함수를 이용한 비교\n",
    "cs.execute(\"SELECT * FROM orders \\\n",
    "            WHERE DATE(orderdate) \\\n",
    "            BETWEEN DATE('1996-07-01') AND DATE('1996-07-31');\")\n",
    "rows = cs.fetchmany(3)\n",
    "print(\"---주문 날짜가 1996.07.01 ~ 1996.07.31 사이인 주문의 정보2---\")\n",
    "for row in rows:\n",
    "    print(row)\n",
    "print()"
   ]
  },
  {
   "cell_type": "code",
   "execution_count": 29,
   "id": "008fdf28",
   "metadata": {},
   "outputs": [
    {
     "name": "stdout",
     "output_type": "stream",
     "text": [
      "---Alias를 사용한 속성 선택---\n",
      "(2,)\n",
      "(3,)\n",
      "(4,)\n",
      "------\n",
      "(2,)\n",
      "(3,)\n",
      "(4,)\n",
      "\n",
      "---여러 속성에 Alias 적용---\n",
      "(2, 'Ana Trujillo Emparedados y helados')\n",
      "(3, 'Antonio Moreno Taquería')\n",
      "(4, 'Around the Horn')\n",
      "\n",
      "---공백이 포함된 Alias---\n",
      "('Chais',)\n",
      "('Chang',)\n",
      "('Aniseed Syrup',)\n",
      "------\n",
      "('Chais',)\n",
      "('Chang',)\n",
      "('Aniseed Syrup',)\n"
     ]
    }
   ],
   "source": [
    "# SQL Aliases\n",
    "\n",
    "print(\"---Alias를 사용한 속성 선택---\")\n",
    "cs.execute(\"SELECT customerid AS id \\\n",
    "           FROM customers\")\n",
    "rows = cs.fetchmany(3)\n",
    "for row in rows:\n",
    "    print(row)\n",
    "\n",
    "# AS 생략\n",
    "print(\"------\")\n",
    "cs.execute(\"SELECT customerid id \\\n",
    "           FROM customers\")\n",
    "rows = cs.fetchmany(3)\n",
    "for row in rows:\n",
    "    print(row)\n",
    "print()\n",
    "\n",
    "print(\"---여러 속성에 Alias 적용---\")\n",
    "cs.execute(\"SELECT customerid AS id, customername AS customer \\\n",
    "           FROM customers\")\n",
    "rows = cs.fetchmany(3)\n",
    "for row in rows:\n",
    "    print(row)\n",
    "print()\n",
    "\n",
    "print(\"---공백이 포함된 Alias---\")\n",
    "cs.execute(\"SELECT productname AS [My Great Product] \\\n",
    "           FROM products\")\n",
    "rows = cs.fetchmany(3)\n",
    "for row in rows:\n",
    "    print(row)\n",
    "print(\"------\")\n",
    "cs.execute(\"SELECT productname AS 'My Great Product' \\\n",
    "           FROM products\")\n",
    "rows = cs.fetchmany(3)\n",
    "for row in rows:\n",
    "    print(row)"
   ]
  },
  {
   "cell_type": "code",
   "execution_count": 30,
   "id": "5d7d6cf6",
   "metadata": {},
   "outputs": [
    {
     "name": "stdout",
     "output_type": "stream",
     "text": [
      "---주문 고객의 이름과 주문 날짜 정보---\n",
      "(10248, 'Wilman Kala', '1996-07-04')\n",
      "(10249, 'Tradição Hipermercados', '1996-07-05')\n",
      "(10250, 'Hanari Carnes', '1996-07-08')\n",
      "\n"
     ]
    }
   ],
   "source": [
    "# SQL Joins\n",
    "\n",
    "cs.execute(\"SELECT orders.orderid, customers.customername, orders.orderdate \\\n",
    "           FROM orders \\\n",
    "           INNER JOIN customers ON orders.customerid = customers.customerid\")\n",
    "rows = cs.fetchmany(3)\n",
    "print(\"---주문 고객의 이름과 주문 날짜 정보---\")\n",
    "for row in rows:\n",
    "    print(row)\n",
    "print()"
   ]
  },
  {
   "cell_type": "code",
   "execution_count": 31,
   "id": "17f2657b",
   "metadata": {},
   "outputs": [],
   "source": [
    "with open('categories.sql', 'r') as file:\n",
    "    sql = file.read()\n",
    "\n",
    "cs.executescript(sql)\n",
    "\n",
    "with open('shippers.sql', 'r') as file:\n",
    "    sql = file.read()\n",
    "\n",
    "cs.executescript(sql)\n",
    "\n",
    "conn.commit()"
   ]
  },
  {
   "cell_type": "code",
   "execution_count": 32,
   "id": "57e8b321",
   "metadata": {},
   "outputs": [
    {
     "name": "stdout",
     "output_type": "stream",
     "text": [
      "---상품 별 카테고리의 이름---\n",
      "(1, 'Chais', 'Beverages')\n",
      "(2, 'Chang', 'Beverages')\n",
      "(3, 'Aniseed Syrup', 'Condiments')\n",
      "\n",
      "---상품 별 카테고리의 이름2---\n",
      "(1, 'Chais', 'Beverages')\n",
      "(2, 'Chang', 'Beverages')\n",
      "(3, 'Aniseed Syrup', 'Condiments')\n",
      "\n",
      "---상품 별 카테고리의 이름3---\n",
      "(1, 'Chais', 'Beverages')\n",
      "(2, 'Chang', 'Beverages')\n",
      "(3, 'Aniseed Syrup', 'Condiments')\n",
      "\n",
      "---주문별 주문자의 이름과 운송회사---\n",
      "(10248, 'Wilman Kala', 'Federal Shipping')\n",
      "(10249, 'Tradição Hipermercados', 'Speedy Express')\n",
      "(10250, 'Hanari Carnes', 'United Package')\n"
     ]
    }
   ],
   "source": [
    "# SQL Inner Join\n",
    "\n",
    "cs.execute(\"SELECT productid, productname, categoryname \\\n",
    "           FROM products \\\n",
    "           INNER JOIN categories ON products.categoryid = categories.categoryid;\")\n",
    "rows = cs.fetchmany(3)\n",
    "print(\"---상품 별 카테고리의 이름---\")\n",
    "for row in rows:\n",
    "    print(row)\n",
    "print()\n",
    "\n",
    "# 속성 명 직접 명시\n",
    "cs.execute(\"SELECT products.productid, products.productname, categories.categoryname \\\n",
    "           FROM products \\\n",
    "           INNER JOIN categories ON products.categoryid = categories.categoryid;\")\n",
    "rows = cs.fetchmany(3)\n",
    "print(\"---상품 별 카테고리의 이름2---\")\n",
    "for row in rows:\n",
    "    print(row)\n",
    "print()\n",
    "\n",
    "# INNER JOIN 대신 JOIN 사용\n",
    "cs.execute(\"SELECT products.productid, products.productname, categories.categoryname \\\n",
    "           FROM products \\\n",
    "           JOIN categories ON products.categoryid = categories.categoryid;\")\n",
    "rows = cs.fetchmany(3)\n",
    "print(\"---상품 별 카테고리의 이름3---\")\n",
    "for row in rows:\n",
    "    print(row)\n",
    "print()\n",
    "\n",
    "# 세 테이블 조인\n",
    "cs.execute(\"SELECT orders.orderid, customers.customername, shippers.shippername \\\n",
    "           FROM ((orders \\\n",
    "           INNER JOIN customers ON orders.customerid = customers.customerid) \\\n",
    "           INNER JOIN shippers ON orders.shipperid = shippers.shipperid)\")\n",
    "rows = cs.fetchmany(3)\n",
    "print(\"---주문별 주문자의 이름과 운송회사---\")\n",
    "for row in rows:\n",
    "    print(row)"
   ]
  },
  {
   "cell_type": "code",
   "execution_count": 33,
   "id": "04151c0b",
   "metadata": {},
   "outputs": [
    {
     "name": "stdout",
     "output_type": "stream",
     "text": [
      "---고객의 이름과 주문 존재시 주문 번호 정보---\n",
      "('Ana Trujillo Emparedados y helados', 10308)\n",
      "('Antonio Moreno Taquería', 10365)\n",
      "('Around the Horn', 10355)\n"
     ]
    }
   ],
   "source": [
    "# SQL Left Join\n",
    "\n",
    "cs.execute(\"SELECT customers.customername, orders.orderid \\\n",
    "           FROM customers \\\n",
    "           LEFT JOIN orders ON customers.customerid = orders.customerid \\\n",
    "           ORDER BY customers.customername\")\n",
    "rows = cs.fetchmany(3)\n",
    "print(\"---고객의 이름과 주문 존재시 주문 번호 정보---\")\n",
    "for row in rows:\n",
    "    print(row)"
   ]
  },
  {
   "cell_type": "code",
   "execution_count": 34,
   "id": "c3930009",
   "metadata": {},
   "outputs": [],
   "source": [
    "with open('employees.sql', 'r') as file:\n",
    "    sql = file.read()\n",
    "\n",
    "cs.executescript(sql)\n",
    "\n",
    "conn.commit()"
   ]
  },
  {
   "cell_type": "code",
   "execution_count": 35,
   "id": "81acc5db",
   "metadata": {},
   "outputs": [
    {
     "name": "stdout",
     "output_type": "stream",
     "text": [
      "---직원의 이름과 주문이 존재할 시 주문 번호 정보---\n",
      "(None, 'West', 'Adam')\n",
      "(10248, 'Buchanan', 'Steven')\n",
      "(10249, 'Suyama', 'Michael')\n"
     ]
    }
   ],
   "source": [
    "# SQL Right Join\n",
    "\n",
    "cs.execute(\"SELECT orders.orderid, employees.lastname, employees.firstname \\\n",
    "           FROM orders \\\n",
    "           RIGHT JOIN employees ON orders.employeeid = employees.employeeid \\\n",
    "           ORDER BY orders.orderid\")\n",
    "rows = cs.fetchmany(3)\n",
    "print(\"---직원의 이름과 주문이 존재할 시 주문 번호 정보---\")\n",
    "for row in rows:\n",
    "    print(row)"
   ]
  },
  {
   "cell_type": "code",
   "execution_count": 36,
   "id": "c5ebdb6a",
   "metadata": {},
   "outputs": [
    {
     "name": "stdout",
     "output_type": "stream",
     "text": [
      "---한쪽 데이터 존재 여부와 관계없이 고객 이름과 주문 번호 정보---\n",
      "('Ana Trujillo Emparedados y helados', 10308)\n",
      "('Antonio Moreno Taquería', 10365)\n",
      "('Around the Horn', 10355)\n"
     ]
    }
   ],
   "source": [
    "# SQL Full Join\n",
    "\n",
    "cs.execute(\"SELECT customers.customername, orders.orderid \\\n",
    "           FROM customers \\\n",
    "           FULL OUTER JOIN orders ON customers.customerid = orders.customerid \\\n",
    "           ORDER BY customers.customername\")\n",
    "rows = cs.fetchmany(3)\n",
    "print(\"---한쪽 데이터 존재 여부와 관계없이 고객 이름과 주문 번호 정보---\")\n",
    "for row in rows:\n",
    "    print(row)"
   ]
  },
  {
   "cell_type": "code",
   "execution_count": 37,
   "id": "0a9c4108",
   "metadata": {},
   "outputs": [
    {
     "name": "stdout",
     "output_type": "stream",
     "text": [
      "---같은 도시에 사는 고객들의 이름과 도시 정보---\n",
      "('Cactus Comidas para llevar', 'Océano Atlántico Ltda.', 'Buenos Aires')\n",
      "('Cactus Comidas para llevar', 'Rancho grande', 'Buenos Aires')\n",
      "('Océano Atlántico Ltda.', 'Cactus Comidas para llevar', 'Buenos Aires')\n",
      "('Océano Atlántico Ltda.', 'Rancho grande', 'Buenos Aires')\n",
      "('Rancho grande', 'Cactus Comidas para llevar', 'Buenos Aires')\n"
     ]
    }
   ],
   "source": [
    "# SQL Self Join\n",
    "\n",
    "cs.execute(\"SELECT A.customername AS CustomerName1, B.customername AS Customername2, A.city \\\n",
    "           FROM customers A, customers B \\\n",
    "           WHERE A.customerid <> B.customerid \\\n",
    "           AND A.city = B.city \\\n",
    "           ORDER BY A.city\")\n",
    "rows = cs.fetchmany(5)\n",
    "print(\"---같은 도시에 사는 고객들의 이름과 도시 정보---\")\n",
    "for row in rows:\n",
    "    print(row)\n"
   ]
  },
  {
   "cell_type": "code",
   "execution_count": 38,
   "id": "8f459405",
   "metadata": {},
   "outputs": [],
   "source": [
    "with open('suppliers.sql', 'r') as file:\n",
    "    sql = file.read()\n",
    "\n",
    "cs.executescript(sql)\n",
    "\n",
    "conn.commit()"
   ]
  },
  {
   "cell_type": "code",
   "execution_count": 39,
   "id": "9930b8a1",
   "metadata": {},
   "outputs": [
    {
     "name": "stdout",
     "output_type": "stream",
     "text": [
      "---고객과 판매자의 중복을 제외한 모든 도시 정보---\n",
      "('Aachen',)\n",
      "('Albuquerque',)\n",
      "('Anchorage',)\n",
      "('Ann Arbor',)\n",
      "('Annecy',)\n",
      "\n",
      "---고객과 판매자의 중복을 포함한 모든 도시 정보---\n",
      "('Aachen',)\n",
      "('Albuquerque',)\n",
      "('Anchorage',)\n",
      "\n",
      "---독일에 사는 고객과 판매자의 중복을 제외한 모든 도시 정보---\n",
      "('Aachen',)\n",
      "('Berlin',)\n",
      "('Brandenburg',)\n",
      "\n",
      "---독일에 사는 고객과 판매자의 중복을 포함한 모든 도시 정보---\n",
      "('Aachen',)\n",
      "('Berlin',)\n",
      "('Brandenburg',)\n",
      "\n",
      "---고객과 판매자를 구분해 데이터 병합---\n",
      "('Customer', 'Alejandra Camino', 'Madrid', 'Spain')\n",
      "('Customer', 'Alexander Feuer', 'Leipzig', 'Germany')\n",
      "('Customer', 'Ana Trujillo', 'México D.F.', 'Mexico')\n"
     ]
    }
   ],
   "source": [
    "# SQL Union\n",
    "\n",
    "cs.execute(\"SELECT city FROM customers \\\n",
    "           UNION \\\n",
    "           SELECT city FROM suppliers \\\n",
    "           ORDER BY city\")\n",
    "rows = cs.fetchmany(5)\n",
    "print(\"---고객과 판매자의 중복을 제외한 모든 도시 정보---\")\n",
    "for row in rows:\n",
    "    print(row)\n",
    "print()\n",
    "\n",
    "cs.execute(\"SELECT city FROM customers \\\n",
    "           UNION ALL\\\n",
    "           SELECT city FROM suppliers \\\n",
    "           ORDER BY city\")\n",
    "rows = cs.fetchmany(3)\n",
    "print(\"---고객과 판매자의 중복을 포함한 모든 도시 정보---\")\n",
    "for row in rows:\n",
    "    print(row)\n",
    "print()\n",
    "\n",
    "cs.execute(\"SELECT city FROM customers \\\n",
    "           WHERE country = 'Germany' \\\n",
    "           UNION\\\n",
    "           SELECT city FROM suppliers \\\n",
    "           WHERE country = 'Germany' \\\n",
    "           ORDER BY city\")\n",
    "rows = cs.fetchmany(3)\n",
    "print(\"---독일에 사는 고객과 판매자의 중복을 제외한 모든 도시 정보---\")\n",
    "for row in rows:\n",
    "    print(row)\n",
    "print()\n",
    "\n",
    "cs.execute(\"SELECT city FROM customers \\\n",
    "           WHERE country = 'Germany' \\\n",
    "           UNION ALL\\\n",
    "           SELECT city FROM suppliers \\\n",
    "           WHERE country = 'Germany' \\\n",
    "           ORDER BY city\")\n",
    "rows = cs.fetchmany(3)\n",
    "print(\"---독일에 사는 고객과 판매자의 중복을 포함한 모든 도시 정보---\")\n",
    "for row in rows:\n",
    "    print(row)\n",
    "print()\n",
    "\n",
    "\n",
    "cs.execute(\"SELECT 'Customer' AS type, contactname, city, country \\\n",
    "           FROM customers \\\n",
    "           UNION \\\n",
    "           SELECT 'Supplier', contactname, city, country \\\n",
    "           FROM suppliers\")\n",
    "rows = cs.fetchmany(3)\n",
    "print(\"---고객과 판매자를 구분해 데이터 병합---\")\n",
    "for row in rows:\n",
    "    print(row)"
   ]
  },
  {
   "cell_type": "code",
   "execution_count": 40,
   "id": "fe8403fe",
   "metadata": {},
   "outputs": [
    {
     "name": "stdout",
     "output_type": "stream",
     "text": [
      "---국가별 고객의 수---\n",
      "(3, 'Argentina')\n",
      "(2, 'Austria')\n",
      "(2, 'Belgium')\n",
      "\n",
      "---국가별 고객의 수 내림차순 정렬---\n",
      "(13, 'USA')\n",
      "(11, 'France')\n",
      "(10, 'Germany')\n",
      "\n",
      "----운송회사별 주문의 수---\n",
      "('Federal Shipping', 68)\n",
      "('Speedy Express', 54)\n",
      "('United Package', 74)\n",
      "\n"
     ]
    }
   ],
   "source": [
    "# SQL Group By\n",
    "\n",
    "cs.execute(\"SELECT COUNT(customerid), country \\\n",
    "           FROM customers \\\n",
    "           GROUP BY country;\")\n",
    "rows = cs.fetchmany(3)\n",
    "print(\"---국가별 고객의 수---\")\n",
    "for row in rows:\n",
    "    print(row)\n",
    "print()\n",
    "\n",
    "cs.execute(\"SELECT COUNT(customerid), country \\\n",
    "           FROM customers \\\n",
    "           GROUP BY country \\\n",
    "           ORDER BY COUNT(customerid) DESC;\")\n",
    "rows = cs.fetchmany(3)\n",
    "print(\"---국가별 고객의 수 내림차순 정렬---\")\n",
    "for row in rows:\n",
    "    print(row)\n",
    "print()\n",
    "\n",
    "cs.execute(\"SELECT shippers.shippername, COUNT(orders.orderid) AS NumberOfOrders \\\n",
    "           FROM orders \\\n",
    "           LEFT JOIN shippers ON orders.shipperid = shippers.shipperid \\\n",
    "           GROUP BY shippername;\")\n",
    "rows = cs.fetchmany(3)\n",
    "print(\"----운송회사별 주문의 수---\")\n",
    "for row in rows:\n",
    "    print(row)\n",
    "print()"
   ]
  },
  {
   "cell_type": "code",
   "execution_count": 41,
   "id": "c3099c5a",
   "metadata": {},
   "outputs": [
    {
     "name": "stdout",
     "output_type": "stream",
     "text": [
      "---고객의 수가 5명보다 많은 국가---\n",
      "(9, 'Brazil')\n",
      "(11, 'France')\n",
      "(10, 'Germany')\n",
      "\n",
      "---고객의 수가 5명보다 많은 국가 내림차순 정렬---\n",
      "(13, 'USA')\n",
      "(11, 'France')\n",
      "(10, 'Germany')\n",
      "\n",
      "---직원별 주문의 개수--\n",
      "('Buchanan', 11)\n",
      "('Callahan', 27)\n",
      "('Davolio', 29)\n",
      "\n",
      "---성이 'Davolio' 혹은 'Fuller'인 직원 중 주문 수가 25개를 넘는 직원---\n",
      "('Davolio', 29)\n",
      "\n"
     ]
    }
   ],
   "source": [
    "# SQL Having\n",
    "\n",
    "cs.execute(\"SELECT COUNT(customerid), country \\\n",
    "           FROM customers \\\n",
    "           GROUP BY country \\\n",
    "           HAVING COUNT(customerid) > 5;\")\n",
    "rows = cs.fetchmany(3)\n",
    "print(\"---고객의 수가 5명보다 많은 국가---\")\n",
    "for row in rows:\n",
    "    print(row)\n",
    "print()\n",
    "\n",
    "cs.execute(\"SELECT COUNT(customerid), country \\\n",
    "           FROM customers \\\n",
    "           GROUP BY country \\\n",
    "           HAVING COUNT(customerid) > 5 \\\n",
    "           ORDER BY COUNT(customerid) DESC;\")\n",
    "rows = cs.fetchmany(3)\n",
    "print(\"---고객의 수가 5명보다 많은 국가 내림차순 정렬---\")\n",
    "for row in rows:\n",
    "    print(row)\n",
    "print()\n",
    "\n",
    "\n",
    "cs.execute(\"SELECT employees.lastname, COUNT(orders.orderid) AS NumberOfOrders \\\n",
    "           FROM (orders \\\n",
    "           INNER JOIN employees ON orders.employeeid = employees.employeeid) \\\n",
    "           GROUP BY lastname \\\n",
    "           HAVING COUNT(orders.orderid) > 10\")\n",
    "rows = cs.fetchmany(3)\n",
    "print(\"---직원별 주문의 개수--\")\n",
    "for row in rows:\n",
    "    print(row)\n",
    "print()\n",
    "\n",
    "cs.execute(\"SELECT employees.lastname, COUNT(orders.orderid) AS NumberOfOrders \\\n",
    "           FROM orders \\\n",
    "           INNER JOIN employees ON orders.employeeid = employees.employeeid \\\n",
    "           WHERE lastname = 'Davolio' OR lastname = 'Fuller' \\\n",
    "           GROUP BY lastname \\\n",
    "           HAVING COUNT(orders.orderid) > 25\")\n",
    "rows = cs.fetchall()\n",
    "print(\"---성이 'Davolio' 혹은 'Fuller'인 직원 중 주문 수가 25개를 넘는 직원---\")\n",
    "for row in rows:\n",
    "    print(row)\n",
    "print()"
   ]
  },
  {
   "cell_type": "code",
   "execution_count": 42,
   "id": "70117f5c",
   "metadata": {},
   "outputs": [
    {
     "name": "stdout",
     "output_type": "stream",
     "text": [
      "---가격 20불 아래의 상품을 판매하는 판매자 정보---\n",
      "('Exotic Liquid',)\n",
      "('New Orleans Cajun Delights',)\n",
      "('Tokyo Traders',)\n",
      "(\"Mayumi's\",)\n",
      "('Pavlova, Ltd.',)\n",
      "\n",
      "---가격이 22불인 상품을 판매하는 판매자 정보---\n",
      "('New Orleans Cajun Delights',)\n",
      "\n"
     ]
    }
   ],
   "source": [
    "# SQL Exists\n",
    "\n",
    "cs.execute(\"SELECT suppliername \\\n",
    "           FROM suppliers \\\n",
    "           WHERE EXISTS (SELECT productname FROM products \\\n",
    "                            WHERE products.supplierid = suppliers.supplierid AND price < 20)\")\n",
    "rows = cs.fetchmany(5)\n",
    "print(\"---가격 20불 아래의 상품을 판매하는 판매자 정보---\")\n",
    "for row in rows:\n",
    "    print(row)\n",
    "print()\n",
    "\n",
    "cs.execute(\"SELECT suppliername \\\n",
    "           FROM suppliers \\\n",
    "           WHERE EXISTS (SELECT productname FROM products \\\n",
    "                            WHERE products.supplierid = suppliers.supplierid AND price = 22)\")\n",
    "rows = cs.fetchall()\n",
    "print(\"---가격이 22불인 상품을 판매하는 판매자 정보---\")\n",
    "for row in rows:\n",
    "    print(row)\n",
    "print()"
   ]
  },
  {
   "cell_type": "code",
   "execution_count": 43,
   "id": "08b2a51e",
   "metadata": {},
   "outputs": [
    {
     "name": "stdout",
     "output_type": "stream",
     "text": [
      "---주문 개수가 10개인 상품에 대한 정보---\n",
      "('Chais',)\n",
      "('Chang',)\n",
      "(\"Chef Anton's Cajun Seasoning\",)\n",
      "\n",
      "---주문 개수가 100개 이상인 상품에 대한 정보---\n",
      "('Steeleye Stout',)\n",
      "('Pâté chinois',)\n",
      "\n",
      "---주문 개수가 1001개 이상인 상품에 대한 정보---\n",
      "\n",
      "---모든 상품 이름 정보---\n",
      "('Chais',)\n",
      "('Chang',)\n",
      "('Aniseed Syrup',)\n"
     ]
    }
   ],
   "source": [
    "# SQL Any, All\n",
    "\n",
    "# SQLite에는 Any Operator가 없다.\n",
    "# IN을 이용해 구현해야 한다.\n",
    "cs.execute(\"SELECT productname FROM products \\\n",
    "           WHERE productid IN (SELECT productid \\\n",
    "                                    FROM orderdetails \\\n",
    "                                    WHERE quantity = 10);\")\n",
    "rows = cs.fetchmany(3)\n",
    "print(\"---주문 개수가 10개인 상품에 대한 정보---\")\n",
    "for row in rows:\n",
    "    print(row)\n",
    "print()\n",
    "\n",
    "cs.execute(\"SELECT productname FROM products \\\n",
    "           WHERE productid IN (SELECT productid \\\n",
    "                                    FROM orderdetails \\\n",
    "                                    WHERE quantity > 99);\")\n",
    "rows = cs.fetchmany(3)\n",
    "print(\"---주문 개수가 100개 이상인 상품에 대한 정보---\")\n",
    "for row in rows:\n",
    "    print(row)\n",
    "print()\n",
    "\n",
    "cs.execute(\"SELECT productname FROM products \\\n",
    "           WHERE productid IN (SELECT productid \\\n",
    "                                    FROM orderdetails \\\n",
    "                                    WHERE quantity > 1000);\")\n",
    "rows = cs.fetchmany(3)\n",
    "print(\"---주문 개수가 1001개 이상인 상품에 대한 정보---\")\n",
    "for row in rows:\n",
    "    print(row)\n",
    "print()\n",
    "\n",
    "# SQLite에서는 All Operator를 SELECT문에서만 사용 가능하다.\n",
    "cs.execute(\"SELECT ALL productname FROM products \\\n",
    "           WHERE TRUE\")\n",
    "print(\"---모든 상품 이름 정보---\")\n",
    "rows = cs.fetchmany(3)\n",
    "for row in rows:\n",
    "    print(row)"
   ]
  },
  {
   "cell_type": "code",
   "execution_count": 44,
   "id": "e7ef7141",
   "metadata": {},
   "outputs": [
    {
     "name": "stdout",
     "output_type": "stream",
     "text": [
      "---백업한 고객 정보---\n",
      "(2, 'Ana Trujillo Emparedados y helados', 'Ana Trujillo', 'Avda. de la Constitución 2222', 'México D.F.', '5021', 'Mexico')\n",
      "(3, 'Antonio Moreno Taquería', 'Antonio Moreno', 'Mataderos 2312', 'México D.F.', '5023', 'Mexico')\n",
      "(4, 'Around the Horn', 'Thomas Hardy', '120 Hanover Sq.', 'London', 'WA1 1DP', 'UK')\n",
      "\n",
      "---독일인 고객만 복사한 고객 정보---\n",
      "(6, 'Blauer See Delikatessen', 'Hanna Moos', 'Forsterstr. 57', 'Mannheim', '68306', 'Germany')\n",
      "(17, 'Drachenblut Delikatessend', 'Sven Ottlieb', 'Walserweg 21', 'Aachen', '52066', 'Germany')\n",
      "(25, 'Frankenversand', 'Peter Franken', 'Berliner Platz 43', 'München', '80805', 'Germany')\n",
      "\n",
      "---고객명과 주문 정보를 백업한 정보---\n",
      "('Ana Trujillo Emparedados y helados', 10308)\n",
      "('Antonio Moreno Taquería', 10365)\n",
      "('Around the Horn', 10355)\n",
      "\n",
      "---판매자의 일부 정보만 고객 테이블에 저장---\n",
      "---추가된 정보---\n",
      "(93, 'Exotic Liquid', None, None, 'Londona', None, 'UK')\n",
      "(94, 'New Orleans Cajun Delights', None, None, 'New Orleans', None, 'USA')\n",
      "(95, \"Grandma Kelly's Homestead\", None, None, 'Ann Arbor', None, 'USA')\n",
      "\n",
      "저장 전 고객 테이블 레코드 개수: (91,)\n",
      "---판매자의 모든 정보를 고객 테이블에 저장---\n",
      "---저장된 판매자 정보---\n",
      "(93, 'Exotic Liquid', 'Charlotte Cooper', '49 Gilbert St.', 'Londona', 'EC1 4SD', 'UK')\n",
      "(94, 'New Orleans Cajun Delights', 'Shelley Burke', 'P.O. Box 78934', 'New Orleans', '70117', 'USA')\n",
      "(95, \"Grandma Kelly's Homestead\", 'Regina Murphy', '707 Oxford Rd.', 'Ann Arbor', '48104', 'USA')\n",
      "\n",
      "---독일 판매자의 일부 정보만 고객 테이블에 저장---\n",
      "---추가된 정보---\n",
      "(93, 'Heli Süßwaren GmbH & Co. KG', None, None, 'Berlin', None, 'Germany')\n",
      "(94, 'Plutzer Lebensmittelgroßmärkte AG', None, None, 'Frankfurt', None, 'Germany')\n",
      "(95, 'Nord-Ost-Fisch Handelsgesellschaft mbH', None, None, 'Cuxhaven', None, 'Germany')\n",
      "\n"
     ]
    }
   ],
   "source": [
    "# Select Into\n",
    "# Insert Into Select\n",
    "\n",
    "# SQLite는 SELECT INTO 구문을 지원하지 않음.\n",
    "# INSERT INTO SELECT를 사용해 구현.\n",
    "\n",
    "# 충돌 방지\n",
    "cs.execute(\"DROP TABLE IF EXISTS customersbackup\")\n",
    "cs.execute(\"CREATE TABLE customersbackup( \\\n",
    "           CustomerID\tINTEGER, \\\n",
    "           CustomerName\tTEXT, \\\n",
    "           ContactName\tTEXT, \\\n",
    "           Address\tTEXT, \\\n",
    "           City\tTEXT, \\\n",
    "           PostalCode\tTEXT, \\\n",
    "           Country\tTEXT, \\\n",
    "           PRIMARY KEY (CustomerID))\")\n",
    "cs.execute(\"INSERT INTO customersbackup(customerid, customername, contactname, address, city, postalcode, country) \\\n",
    "           SELECT * FROM customers\")\n",
    "conn.commit()\n",
    "cs.execute(\"SELECT * FROM customersbackup\")\n",
    "rows = cs.fetchmany(3)\n",
    "print(\"---백업한 고객 정보---\")\n",
    "for row in rows:\n",
    "    print(row)\n",
    "print()\n",
    "\n",
    "cs.execute(\"DROP TABLE IF EXISTS customersgermany\")\n",
    "cs.execute(\"CREATE TABLE customersgermany( \\\n",
    "           CustomerID\tINTEGER, \\\n",
    "           CustomerName\tTEXT, \\\n",
    "           ContactName\tTEXT, \\\n",
    "           Address\tTEXT, \\\n",
    "           City\tTEXT, \\\n",
    "           PostalCode\tTEXT, \\\n",
    "           Country\tTEXT, \\\n",
    "           PRIMARY KEY (CustomerID))\")\n",
    "cs.execute(\"INSERT INTO customersgermany \\\n",
    "           SELECT * FROM customers \\\n",
    "           WHERE country = 'Germany'\")\n",
    "conn.commit()\n",
    "cs.execute(\"SELECT * FROM customersgermany\")\n",
    "rows = cs.fetchmany(3)\n",
    "print(\"---독일인 고객만 복사한 고객 정보---\")\n",
    "for row in rows:\n",
    "    print(row)\n",
    "print()\n",
    "\n",
    "cs.execute(\"DROP TABLE IF EXISTS customersorderbackup\")\n",
    "cs.execute(\"CREATE TABLE customersorderbackup( \\\n",
    "           CustomerName\tTEXT, \\\n",
    "           OrderID\tINTEGER)\") \n",
    "\n",
    "cs.execute(\"INSERT INTO customersorderbackup \\\n",
    "           SELECT customers.customername, orders.orderid \\\n",
    "           FROM customers \\\n",
    "           LEFT JOIN orders ON customers.customerid = orders.customerid\")\n",
    "conn.commit()\n",
    "cs.execute(\"SELECT * FROM customersorderbackup\")\n",
    "rows = cs.fetchmany(3)\n",
    "print(\"---고객명과 주문 정보를 백업한 정보---\")\n",
    "for row in rows:\n",
    "    print(row)\n",
    "print()\n",
    "\n",
    "cs.execute(\"INSERT INTO customers (customername, city, country)\\\n",
    "           SELECT suppliername, city, country FROM suppliers;\")\n",
    "print(\"---판매자의 일부 정보만 고객 테이블에 저장---\")\n",
    "cs.execute(\"SELECT * FROM customers WHERE contactname IS NULL\")\n",
    "rows = cs.fetchmany(3)\n",
    "print(\"---추가된 정보---\")\n",
    "for row in rows:\n",
    "    print(row)\n",
    "print()\n",
    "conn.rollback()\n",
    "\n",
    "cs.execute(\"SELECT COUNT(*) FROM customers\")\n",
    "print(f\"저장 전 고객 테이블 레코드 개수: {cs.fetchone()}\")\n",
    "cs.execute(\"INSERT INTO customers (CustomerName, ContactName, Address, City, PostalCode, Country)\\\n",
    "           SELECT SupplierName, ContactName, Address, City, PostalCode, Country FROM suppliers;\")\n",
    "print(\"---판매자의 모든 정보를 고객 테이블에 저장---\")\n",
    "cs.execute(\"SELECT * FROM customers WHERE customerid > 92\")\n",
    "rows = cs.fetchmany(3)\n",
    "print(f\"---저장된 판매자 정보---\")\n",
    "for row in rows:\n",
    "    print(row)\n",
    "print()\n",
    "conn.rollback()\n",
    "\n",
    "cs.execute(\"INSERT INTO customers (customername, city, country)\\\n",
    "           SELECT suppliername, city, country FROM suppliers WHERE country = 'Germany';\")\n",
    "print(\"---독일 판매자의 일부 정보만 고객 테이블에 저장---\")\n",
    "cs.execute(\"SELECT * FROM customers WHERE contactname IS NULL\")\n",
    "rows = cs.fetchmany(3)\n",
    "print(\"---추가된 정보---\")\n",
    "for row in rows:\n",
    "    print(row)\n",
    "print()\n",
    "conn.rollback()\n"
   ]
  },
  {
   "cell_type": "code",
   "execution_count": 45,
   "id": "3586a9b6",
   "metadata": {},
   "outputs": [
    {
     "name": "stdout",
     "output_type": "stream",
     "text": [
      "---주문 개수별 구분---\n",
      "(10248, 12, 'The quantity is under 30')\n",
      "(10248, 10, 'The quantity is under 30')\n",
      "(10248, 5, 'The quantity is under 30')\n",
      "\n",
      "---도시와 국가 정보(도시 정보가 없으면 국가로 대체)---\n",
      "('Drachenblut Delikatessend', 'Aachen', 'Germany')\n",
      "('Rattlesnake Canyon Grocery', 'Albuquerque', 'USA')\n",
      "('Old World Delicatessen', 'Anchorage', 'USA')\n",
      "('Galería del gastrónomo', 'Barcelona', 'Spain')\n",
      "('LILA-Supermercado', 'Barquisimeto', 'Venezuela')\n",
      "('Magazzini Alimentari Riuniti', 'Bergamo', 'Italy')\n",
      "('Chop-suey Chinese', 'Bern', 'Switzerland')\n",
      "('Save-a-lot Markets', 'Boise', 'USA')\n",
      "('Königlich Essen', 'Brandenburg', 'Germany')\n",
      "('Maison Dewey', 'Bruxelles', 'Belgium')\n"
     ]
    }
   ],
   "source": [
    "# SQL Case\n",
    "\n",
    "cs.execute(\"SELECT orderid, quantity, \\\n",
    "           CASE \\\n",
    "            WHEN quantity > 30 THEN 'The quantity is greater than 30' \\\n",
    "            WHEN quantity = 30 THEN 'The quantity is 30' \\\n",
    "            ELSE 'The quantity is under 30' \\\n",
    "           END QuantityText \\\n",
    "           FROM orderdetails\")\n",
    "rows = cs.fetchmany(3)\n",
    "print(\"---주문 개수별 구분---\")\n",
    "for row in rows:\n",
    "    print(row)\n",
    "print()\n",
    "\n",
    "cs.execute(\"SELECT customername, city, country \\\n",
    "           FROM customers \\\n",
    "           ORDER BY ( \\\n",
    "            CASE \\\n",
    "                WHEN city IS NULL THEN country \\\n",
    "                ELSE city \\\n",
    "            END)\")\n",
    "rows = cs.fetchmany(10)\n",
    "print(\"---도시와 국가 정보(도시 정보가 없으면 국가로 대체)---\")\n",
    "for row in rows:\n",
    "    print(row)"
   ]
  },
  {
   "cell_type": "code",
   "execution_count": 46,
   "id": "0adc75bb",
   "metadata": {},
   "outputs": [],
   "source": [
    "cs.execute(\"DROP TABLE IF EXISTS newproducts\")\n",
    "cs.execute(\"CREATE TABLE newproducts( \\\n",
    "                productname TEXT, \\\n",
    "                unitprice REAL, \\\n",
    "                unitsinstock INTEGER, \\\n",
    "                unitsonorder INTEGER)\")\n",
    "\n",
    "cs.execute(\"INSERT INTO newproducts(productname, unitprice, unitsinstock, unitsonorder) VALUES \\\n",
    "           ('Jarlsberg', '10.45', '16', '15'), \\\n",
    "           ('Mascarpone', '32.56', '23', ''), \\\n",
    "           ('Gorgonzola', '15.67', '9', '20')\")\n",
    "conn.commit()"
   ]
  },
  {
   "cell_type": "code",
   "execution_count": 47,
   "id": "2c9ebb22",
   "metadata": {},
   "outputs": [
    {
     "name": "stdout",
     "output_type": "stream",
     "text": [
      "---주문을 포함한 전체 상품의 가치---\n",
      "('Jarlsberg', 323.95)\n",
      "('Mascarpone', 748.8800000000001)\n",
      "('Gorgonzola', 454.43)\n"
     ]
    }
   ],
   "source": [
    "# SQL Null Functions\n",
    "\n",
    "cs.execute(\"SELECT productname, unitprice * (unitsinstock + IFNULL(unitsonorder, 0)) \\\n",
    "           FROM newproducts\")\n",
    "rows = cs.fetchmany(10)\n",
    "print(\"---주문을 포함한 전체 상품의 가치---\")\n",
    "for row in rows:\n",
    "    print(row)"
   ]
  },
  {
   "cell_type": "code",
   "execution_count": 48,
   "id": "4e41fd42",
   "metadata": {},
   "outputs": [
    {
     "name": "stdout",
     "output_type": "stream",
     "text": [
      "---정적 문자열로 쿼리---\n",
      "(2, 'Ana Trujillo Emparedados y helados', 'Ana Trujillo', 'Avda. de la Constitución 2222', 'México D.F.', '5021', 'Mexico')\n",
      "(3, 'Antonio Moreno Taquería', 'Antonio Moreno', 'Mataderos 2312', 'México D.F.', '5023', 'Mexico')\n",
      "(4, 'Around the Horn', 'Thomas Hardy', '120 Hanover Sq.', 'London', 'WA1 1DP', 'UK')\n",
      "(5, 'Berglunds snabbköp', 'Christina Berglund', 'Berguvsvägen 8', 'Luleå', 'S-958 22', 'Sweden')\n",
      "(6, 'Blauer See Delikatessen', 'Hanna Moos', 'Forsterstr. 57', 'Mannheim', '68306', 'Germany')\n",
      "\n",
      "---함수를 통한 동적 문자열 반환으로 쿼리---\n",
      "(4, 'Around the Horn', 'Thomas Hardy', '120 Hanover Sq.', 'London', 'WA1 1DP', 'UK')\n",
      "(11, \"B's Beverages\", 'Victoria Ashworth', 'Fauntleroy Circus', 'London', 'EC2 5NT', 'UK')\n",
      "(16, 'Consolidated Holdings', 'Elizabeth Brown', 'Berkeley Gardens 12 Brewery', 'London', 'WX1 6LT', 'UK')\n",
      "(19, 'Eastern Connection', 'Ann Devon', '35 King George', 'London', 'WX3 6FW', 'UK')\n",
      "(53, 'North/South', 'Simon Crowther', 'South House 300 Queensbridge', 'London', 'SW7 1RZ', 'UK')\n",
      "\n"
     ]
    }
   ],
   "source": [
    "# SQLite에는 Stored Procedure가 존재하지 않음.\n",
    "# 파이썬의 문자열을 이용해 사용하는 방법은 가능\n",
    "\n",
    "selectallcust = \"SELECT * FROM customers\"\n",
    "cs.execute(selectallcust)\n",
    "rows = cs.fetchmany(5)\n",
    "print(\"---정적 문자열로 쿼리---\")\n",
    "for row in rows:\n",
    "    print(row)\n",
    "print()\n",
    "\n",
    "def custsfromcity(city):\n",
    "    return f\"SELECT * FROM Customers WHERE city = '{city}'\"\n",
    "\n",
    "cs.execute(custsfromcity(\"London\"))\n",
    "rows = cs.fetchmany(5)\n",
    "print(\"---함수를 통한 동적 문자열 반환으로 쿼리---\")\n",
    "for row in rows:\n",
    "    print(row)\n",
    "print()"
   ]
  },
  {
   "cell_type": "code",
   "execution_count": 49,
   "id": "d5600790",
   "metadata": {},
   "outputs": [
    {
     "name": "stdout",
     "output_type": "stream",
     "text": [
      "(1, 'Chais', 1, 1, '10 boxes x 20 bags', 18)\n",
      "(2, 'Chang', 1, 1, '24 - 12 oz bottles', 19)\n",
      "(3, 'Aniseed Syrup', 1, 2, '12 - 550 ml bottles', 10)\n",
      "(4, \"Chef Anton's Cajun Seasoning\", 2, 2, '48 - 6 oz jars', 22)\n",
      "(5, \"Chef Anton's Gumbo Mix\", 2, 2, '36 boxes', 21.35)\n",
      "\n",
      "(10248, 90, 5, '1996-07-04', 3)\n",
      "(10249, 81, 6, '1996-07-05', 1)\n",
      "(10250, 34, 4, '1996-07-08', 2)\n",
      "(10251, 84, 3, '1996-07-08', 1)\n",
      "(10252, 76, 4, '1996-07-09', 2)\n",
      "\n",
      "('Ana Trujillo Emparedados y helados', 'Mexico')\n",
      "('Antonio Moreno Taquería', 'Mexico')\n",
      "('Around the Horn', 'UK')\n",
      "('Berglunds snabbköp', 'Sweden')\n",
      "('Blauer See Delikatessen', 'Germany')\n",
      "\n"
     ]
    }
   ],
   "source": [
    "# SQL Comments\n",
    "\n",
    "# 끝에 줄바꿈을 해줘야 해당 부분까지만 주석처리가 된다.\n",
    "cs.execute(\"-- SELECT * FROM customers;\\n \\\n",
    "           SELECT * FROM products\")\n",
    "rows = cs.fetchmany(5)\n",
    "for row in rows:\n",
    "    print(row)\n",
    "print()\n",
    "\n",
    "cs.execute(\"/*SELECT * FROM customers \\\n",
    "           SELECT * FROM products*/ \\\n",
    "           SELECT * FROM orders\")\n",
    "rows = cs.fetchmany(5)\n",
    "for row in rows:\n",
    "    print(row)\n",
    "print()\n",
    "\n",
    "cs.execute(\"SELECT customername, /*city, */ country FROM customers\")\n",
    "rows = cs.fetchmany(5)\n",
    "for row in rows:\n",
    "    print(row)\n",
    "print()"
   ]
  },
  {
   "cell_type": "code",
   "execution_count": 50,
   "id": "aaf7942a",
   "metadata": {},
   "outputs": [
    {
     "name": "stdout",
     "output_type": "stream",
     "text": [
      "---SQL Arithmetic Operators---\n",
      "SELECT 20 + 30 = (50,)\n",
      "SELECT 30 - 20 = (10,)\n",
      "SELECT 3 * 2 = (6,)\n",
      "SELECT 7 / 3 = (2,)\n",
      "SELECT 7 % 3 = (1,)\n",
      "\n",
      "---SQL Bitwise Operators---\n",
      "SELECT 7 & 3 = (3,)\n",
      "SELECT 7 | 3 = (7,)\n",
      "SELECT 7 ^ 3 Not Supported.\n",
      "\n",
      "---SQL Comparison Operators---\n",
      "SELECT * FROM Products WHERE Price = 18 = (1, 'Chais', 1, 1, '10 boxes x 20 bags', 18)\n",
      "SELECT * FROM Products WHERE Price < 30 = (1, 'Chais', 1, 1, '10 boxes x 20 bags', 18)\n",
      "SELECT * FROM Products WHERE Price > 30 = (8, 'Northwoods Cranberry Sauce', 3, 2, '12 - 12 oz jars', 40)\n",
      "SELECT * FROM Products WHERE Price <= 30 = (1, 'Chais', 1, 1, '10 boxes x 20 bags', 18)\n",
      "SELECT * FROM Products WHERE Price >= 30 = (7, \"Uncle Bob's Organic Dried Pears\", 3, 7, '12 - 1 lb pkgs.', 30)\n",
      "SELECT * FROM Products WHERE Price <> 18 = (2, 'Chang', 1, 1, '24 - 12 oz bottles', 19)\n",
      "\n",
      "---SQL Compound Operators Not Supported---\n",
      "\n",
      "\n",
      "---SQL Logical Operators---\n",
      "SELECT * FROM Customers WHERE City = 'London' AND Country = 'UK';\n",
      "-> 국가는 영국, 도시는 런던인 고객: (4, 'Around the Horn', 'Thomas Hardy', '120 Hanover Sq.', 'London', 'WA1 1DP', 'UK')\n",
      "SELECT * FROM Products WHERE Price BETWEEN 50 AND 60;\n",
      "-> 가격이 50과 60 사이인 상품: (51, 'Manjimup Dried Apples', 24, 7, '50 - 300 g pkgs.', 53)\n",
      "SELECT SupplierName FROM Suppliers WHERE EXISTS (SELECT ProductName FROM Products WHERE Products.SupplierID = Suppliers.supplierID AND Price < 20);\n",
      "-> 가격이 20불 밑의 상품을 파는 판매자의 이름: ('Exotic Liquid',)\n",
      "SELECT * FROM Customers WHERE City IN ('Paris','London');\n",
      "-> 도시가 파리 혹은 런던인 고객: (4, 'Around the Horn', 'Thomas Hardy', '120 Hanover Sq.', 'London', 'WA1 1DP', 'UK')\n",
      "SELECT * FROM Customers WHERE City LIKE 's%';\n",
      "-> 도시 이름이 S로 시작하는 고객: (7, 'Blondel père et fils', 'Frédérique Citeaux', '24, place Kléber', 'Strasbourg', '67000', 'France')\n",
      "SELECT * FROM Customers WHERE City NOT LIKE 's%';\n",
      "-> 도시 이름이 S로 시작하지 않는 고객: (2, 'Ana Trujillo Emparedados y helados', 'Ana Trujillo', 'Avda. de la Constitución 2222', 'México D.F.', '5021', 'Mexico')\n",
      "SELECT * FROM Customers WHERE City = 'London' OR Country = 'UK';\n",
      "-> 도시가 런던이거나 국가가 영국인 고객: (4, 'Around the Horn', 'Thomas Hardy', '120 Hanover Sq.', 'London', 'WA1 1DP', 'UK')\n"
     ]
    }
   ],
   "source": [
    "# SQL Operators\n",
    "\n",
    "print(\"---SQL Arithmetic Operators---\")\n",
    "print(f\"SELECT 20 + 30 = {cs.execute('SELECT 20 + 30;').fetchone()}\")\n",
    "print(f\"SELECT 30 - 20 = {cs.execute('SELECT 30 - 20;').fetchone()}\")\n",
    "print(f\"SELECT 3 * 2 = {cs.execute('SELECT 3 * 2;').fetchone()}\")\n",
    "print(f\"SELECT 7 / 3 = {cs.execute('SELECT 7 / 3;').fetchone()}\")\n",
    "print(f\"SELECT 7 % 3 = {cs.execute('SELECT 7 % 3;').fetchone()}\")\n",
    "\n",
    "# SQLite에는 XOR 연산자가 없다.\n",
    "print(\"\\n---SQL Bitwise Operators---\")\n",
    "print(f\"SELECT 7 & 3 = {cs.execute('SELECT 7 & 3;').fetchone()}\")\n",
    "print(f\"SELECT 7 | 3 = {cs.execute('SELECT 7 | 3;').fetchone()}\")\n",
    "print(f\"SELECT 7 ^ 3 Not Supported.\")\n",
    "\n",
    "print(\"\\n---SQL Comparison Operators---\")\n",
    "print(f\"SELECT * FROM Products WHERE Price = 18 = {cs.execute('SELECT * FROM Products WHERE Price = 18').fetchone()}\")\n",
    "print(f\"SELECT * FROM Products WHERE Price < 30 = {cs.execute('SELECT * FROM Products WHERE Price < 30').fetchone()}\")\n",
    "print(f\"SELECT * FROM Products WHERE Price > 30 = {cs.execute('SELECT * FROM Products WHERE Price > 30').fetchone()}\")\n",
    "print(f\"SELECT * FROM Products WHERE Price <= 30 = {cs.execute('SELECT * FROM Products WHERE Price <= 30').fetchone()}\")\n",
    "print(f\"SELECT * FROM Products WHERE Price >= 30 = {cs.execute('SELECT * FROM Products WHERE Price >= 30').fetchone()}\")\n",
    "print(f\"SELECT * FROM Products WHERE Price <> 18 = {cs.execute('SELECT * FROM Products WHERE Price <> 18').fetchone()}\")\n",
    "\n",
    "print(\"\\n---SQL Compound Operators Not Supported---\\n\")\n",
    "print(\"\\n---SQL Logical Operators---\")\n",
    "sql = \"SELECT * FROM Customers WHERE City = 'London' AND Country = 'UK';\"\n",
    "print(sql)\n",
    "print(f\"-> 국가는 영국, 도시는 런던인 고객: {cs.execute(sql).fetchone()}\")\n",
    "sql = \"SELECT * FROM Products WHERE Price BETWEEN 50 AND 60;\"\n",
    "print(sql)\n",
    "print(f\"-> 가격이 50과 60 사이인 상품: {cs.execute(sql).fetchone()}\")\n",
    "sql = \"SELECT SupplierName FROM Suppliers WHERE EXISTS (SELECT ProductName FROM Products WHERE Products.SupplierID = Suppliers.supplierID AND Price < 20);\"\n",
    "print(sql)\n",
    "print(f\"-> 가격이 20불 밑의 상품을 파는 판매자의 이름: {cs.execute(sql).fetchone()}\")\n",
    "sql = \"SELECT * FROM Customers WHERE City IN ('Paris','London');\"\n",
    "print(sql)\n",
    "print(f\"-> 도시가 파리 혹은 런던인 고객: {cs.execute(sql).fetchone()}\")\n",
    "sql = \"SELECT * FROM Customers WHERE City LIKE 's%';\"\n",
    "print(sql)\n",
    "print(f\"-> 도시 이름이 S로 시작하는 고객: {cs.execute(sql).fetchone()}\")\n",
    "sql = \"SELECT * FROM Customers WHERE City NOT LIKE 's%';\"\n",
    "print(sql)\n",
    "print(f\"-> 도시 이름이 S로 시작하지 않는 고객: {cs.execute(sql).fetchone()}\")\n",
    "sql = \"SELECT * FROM Customers WHERE City = 'London' OR Country = 'UK';\"\n",
    "print(sql)\n",
    "print(f\"-> 도시가 런던이거나 국가가 영국인 고객: {cs.execute(sql).fetchone()}\")\n"
   ]
  },
  {
   "cell_type": "code",
   "execution_count": 51,
   "id": "f323b279",
   "metadata": {},
   "outputs": [],
   "source": [
    "conn.close()"
   ]
  },
  {
   "cell_type": "markdown",
   "id": "82ca42f9",
   "metadata": {},
   "source": [
    "# SQLite3를 이용한 SQL Tutorial\n",
    "\n",
    "## 특이사항\n",
    "- 커서를 사용해 query와 fetch를 수행해야 해 쉽지않았음.\n",
    "- 지원하지 않는 기능에 대해 비슷한 결과를 얻기 위해 고민함.\n",
    "- SQL문의 의미를 최대한 문장으로 풀어내려함.\n",
    "\n",
    "## 어려웠던 Keyword(Operator)\n",
    "- ALL, ANY, EXIST의 차이\n",
    "-> ALL, ANY는 비교 연산자와 함께 사용되고 EXIST는 단독으로 서브쿼리의 결과가 존재하는지 판단하기 위해 사용됨."
   ]
  }
 ],
 "metadata": {
  "kernelspec": {
   "display_name": ".venv",
   "language": "python",
   "name": ".venv"
  },
  "language_info": {
   "codemirror_mode": {
    "name": "ipython",
    "version": 3
   },
   "file_extension": ".py",
   "mimetype": "text/x-python",
   "name": "python",
   "nbconvert_exporter": "python",
   "pygments_lexer": "ipython3",
   "version": "3.11.13"
  }
 },
 "nbformat": 4,
 "nbformat_minor": 5
}
