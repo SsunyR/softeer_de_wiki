{
 "cells": [
  {
   "cell_type": "code",
   "execution_count": 29,
   "id": "c623900a",
   "metadata": {},
   "outputs": [],
   "source": [
    "# 전체 데이터 샘플링 버전\n",
    "import pandas as pd\n",
    "import matplotlib.pyplot as plt\n",
    "import seaborn as sns\n",
    "import numpy as np\n",
    "import dask.dataframe as dd\n",
    "\n",
    "FILE_NAME_HEADER = \"shared/data/fhv_tripdata_2024_1278/fhvhv_tripdata_2024-\"\n",
    "\n",
    "months = ['01', '01', '07', '08']\n",
    "for month in months:\n",
    "    file_path = f\"{FILE_NAME_HEADER}{month}.parquet\"\n",
    "    ddf = dd.read_parquet(file_path)\n",
    "    # Process the Dask DataFrame as needed\n",
    "    # For example, you can compute it to a Pandas DataFrame if necessary\n",
    "    # df = ddf.compute()\n",
    "\n",
    "    fraction = 0.01\n",
    "    sampled_df = ddf.sample(frac=fraction, random_state=42).compute()\n",
    "    \n",
    "    # Concatenate the sampled DataFrame to the main DataFrame\n",
    "    if 'df' in locals():\n",
    "        df = pd.concat([df, sampled_df], ignore_index=True)\n",
    "    else:\n",
    "        df = sampled_df"
   ]
  },
  {
   "cell_type": "code",
   "execution_count": 30,
   "id": "aca30382",
   "metadata": {},
   "outputs": [],
   "source": [
    "sample_df_all = df.reset_index(drop=True)"
   ]
  },
  {
   "cell_type": "code",
   "execution_count": 31,
   "id": "b36e9162",
   "metadata": {},
   "outputs": [
    {
     "data": {
      "application/vnd.microsoft.datawrangler.viewer.v0+json": {
       "columns": [
        {
         "name": "index",
         "rawType": "int64",
         "type": "integer"
        },
        {
         "name": "hvfhs_license_num",
         "rawType": "string",
         "type": "string"
        },
        {
         "name": "request_datetime",
         "rawType": "datetime64[us]",
         "type": "unknown"
        },
        {
         "name": "on_scene_datetime",
         "rawType": "datetime64[us]",
         "type": "unknown"
        },
        {
         "name": "pickup_datetime",
         "rawType": "datetime64[us]",
         "type": "unknown"
        },
        {
         "name": "dropoff_datetime",
         "rawType": "datetime64[us]",
         "type": "unknown"
        },
        {
         "name": "PULocationID",
         "rawType": "int32",
         "type": "integer"
        },
        {
         "name": "DOLocationID",
         "rawType": "int32",
         "type": "integer"
        },
        {
         "name": "trip_miles",
         "rawType": "float64",
         "type": "float"
        },
        {
         "name": "trip_time",
         "rawType": "int64",
         "type": "integer"
        },
        {
         "name": "base_passenger_fare",
         "rawType": "float64",
         "type": "float"
        },
        {
         "name": "tolls",
         "rawType": "float64",
         "type": "float"
        },
        {
         "name": "bcf",
         "rawType": "float64",
         "type": "float"
        },
        {
         "name": "sales_tax",
         "rawType": "float64",
         "type": "float"
        },
        {
         "name": "congestion_surcharge",
         "rawType": "float64",
         "type": "float"
        },
        {
         "name": "airport_fee",
         "rawType": "float64",
         "type": "float"
        },
        {
         "name": "tips",
         "rawType": "float64",
         "type": "float"
        },
        {
         "name": "driver_pay",
         "rawType": "float64",
         "type": "float"
        },
        {
         "name": "Taxi_Company",
         "rawType": "object",
         "type": "string"
        },
        {
         "name": "year",
         "rawType": "float64",
         "type": "float"
        },
        {
         "name": "month",
         "rawType": "float64",
         "type": "float"
        },
        {
         "name": "day",
         "rawType": "float64",
         "type": "float"
        },
        {
         "name": "hour",
         "rawType": "float64",
         "type": "float"
        },
        {
         "name": "season",
         "rawType": "object",
         "type": "string"
        },
        {
         "name": "PULocation",
         "rawType": "object",
         "type": "string"
        },
        {
         "name": "DOLocation",
         "rawType": "object",
         "type": "unknown"
        },
        {
         "name": "time_to_on_scene",
         "rawType": "float64",
         "type": "float"
        },
        {
         "name": "trip_km",
         "rawType": "float64",
         "type": "float"
        },
        {
         "name": "max_F_x",
         "rawType": "float64",
         "type": "float"
        },
        {
         "name": "min_F_x",
         "rawType": "float64",
         "type": "float"
        },
        {
         "name": "precipitation_x",
         "rawType": "float64",
         "type": "float"
        },
        {
         "name": "max_C_x",
         "rawType": "float64",
         "type": "float"
        },
        {
         "name": "min_C_x",
         "rawType": "float64",
         "type": "float"
        },
        {
         "name": "max_F_y",
         "rawType": "float64",
         "type": "float"
        },
        {
         "name": "min_F_y",
         "rawType": "float64",
         "type": "float"
        },
        {
         "name": "precipitation_y",
         "rawType": "float64",
         "type": "float"
        },
        {
         "name": "max_C_y",
         "rawType": "float64",
         "type": "float"
        },
        {
         "name": "min_C_y",
         "rawType": "float64",
         "type": "float"
        },
        {
         "name": "dispatching_base_num",
         "rawType": "string",
         "type": "string"
        },
        {
         "name": "originating_base_num",
         "rawType": "string",
         "type": "string"
        },
        {
         "name": "shared_request_flag",
         "rawType": "string",
         "type": "string"
        },
        {
         "name": "shared_match_flag",
         "rawType": "string",
         "type": "string"
        },
        {
         "name": "access_a_ride_flag",
         "rawType": "string",
         "type": "string"
        },
        {
         "name": "wav_request_flag",
         "rawType": "string",
         "type": "string"
        },
        {
         "name": "wav_match_flag",
         "rawType": "string",
         "type": "string"
        }
       ],
       "ref": "32bfbd2e-3d42-48ce-ba13-b02c3db6f438",
       "rows": [
        [
         "0",
         "HV0003",
         "2024-01-01 01:48:48",
         "2024-01-01 01:50:14",
         "2024-01-01 01:51:03",
         "2024-01-01 02:04:52",
         "79",
         "233",
         "2.39",
         "13",
         "35.08",
         "0.0",
         "0.96",
         "3.11",
         "2.75",
         "0.0",
         "0.0",
         "36.27",
         "Uber",
         "2024.0",
         "1.0",
         "1.0",
         "1.0",
         "Winter",
         "Manhattan",
         "Manhattan",
         "1.0",
         "3.85",
         "47.0",
         "35.0",
         "0.03",
         "8.3",
         "1.7",
         "47.0",
         "35.0",
         "0.03",
         "8.3",
         "1.7",
         null,
         null,
         null,
         null,
         null,
         null,
         null
        ],
        [
         "1",
         "HV0003",
         "2024-01-09 08:51:17",
         "2024-01-09 08:53:57",
         "2024-01-09 08:54:31",
         "2024-01-09 09:07:00",
         "71",
         "72",
         "1.75",
         "12",
         "10.66",
         "0.0",
         "0.29",
         "0.95",
         "0.0",
         "0.0",
         "0.0",
         "9.34",
         "Uber",
         "2024.0",
         "1.0",
         "9.0",
         "8.0",
         "Winter",
         "Brooklyn",
         "Brooklyn",
         "3.0",
         "2.82",
         "57.0",
         "36.0",
         "1.73",
         "13.9",
         "2.2",
         "57.0",
         "36.0",
         "1.73",
         "13.9",
         "2.2",
         null,
         null,
         null,
         null,
         null,
         null,
         null
        ],
        [
         "2",
         "HV0003",
         "2024-01-01 10:34:11",
         "2024-01-01 10:40:38",
         "2024-01-01 10:42:16",
         "2024-01-01 11:41:25",
         "132",
         "265",
         "38.9",
         "59",
         "136.89",
         "28.5",
         "4.62",
         "0.0",
         "0.0",
         "2.5",
         "0.0",
         "91.85",
         "Uber",
         "2024.0",
         "1.0",
         "1.0",
         "10.0",
         "Winter",
         "Queens",
         null,
         "6.0",
         "62.6",
         "47.0",
         "35.0",
         "0.03",
         "8.3",
         "1.7",
         "47.0",
         "35.0",
         "0.03",
         "8.3",
         "1.7",
         null,
         null,
         null,
         null,
         null,
         null,
         null
        ],
        [
         "3",
         "HV0003",
         "2024-01-08 08:47:58",
         "2024-01-08 08:53:18",
         "2024-01-08 08:53:18",
         "2024-01-08 09:25:12",
         "112",
         "177",
         "4.53",
         "31",
         "32.23",
         "0.0",
         "0.89",
         "2.86",
         "0.0",
         "0.0",
         "7.19",
         "26.94",
         "Uber",
         "2024.0",
         "1.0",
         "8.0",
         "8.0",
         "Winter",
         "Brooklyn",
         "Brooklyn",
         "5.0",
         "7.29",
         "45.0",
         "36.0",
         "0.0",
         "7.2",
         "2.2",
         "45.0",
         "36.0",
         "0.0",
         "7.2",
         "2.2",
         null,
         null,
         null,
         null,
         null,
         null,
         null
        ],
        [
         "4",
         "HV0003",
         "2024-01-07 19:10:17",
         "2024-01-07 19:12:17",
         "2024-01-07 19:12:39",
         "2024-01-07 19:17:43",
         "263",
         "141",
         "0.89",
         "5",
         "8.19",
         "0.0",
         "0.23",
         "0.73",
         "2.75",
         "0.0",
         "0.0",
         "5.75",
         "Uber",
         "2024.0",
         "1.0",
         "7.0",
         "19.0",
         "Winter",
         "Manhattan",
         "Manhattan",
         "2.0",
         "1.43",
         "38.0",
         "34.0",
         "0.24",
         "3.3",
         "1.1",
         "38.0",
         "34.0",
         "0.24",
         "3.3",
         "1.1",
         null,
         null,
         null,
         null,
         null,
         null,
         null
        ]
       ],
       "shape": {
        "columns": 44,
        "rows": 5
       }
      },
      "text/html": [
       "<div>\n",
       "<style scoped>\n",
       "    .dataframe tbody tr th:only-of-type {\n",
       "        vertical-align: middle;\n",
       "    }\n",
       "\n",
       "    .dataframe tbody tr th {\n",
       "        vertical-align: top;\n",
       "    }\n",
       "\n",
       "    .dataframe thead th {\n",
       "        text-align: right;\n",
       "    }\n",
       "</style>\n",
       "<table border=\"1\" class=\"dataframe\">\n",
       "  <thead>\n",
       "    <tr style=\"text-align: right;\">\n",
       "      <th></th>\n",
       "      <th>hvfhs_license_num</th>\n",
       "      <th>request_datetime</th>\n",
       "      <th>on_scene_datetime</th>\n",
       "      <th>pickup_datetime</th>\n",
       "      <th>dropoff_datetime</th>\n",
       "      <th>PULocationID</th>\n",
       "      <th>DOLocationID</th>\n",
       "      <th>trip_miles</th>\n",
       "      <th>trip_time</th>\n",
       "      <th>base_passenger_fare</th>\n",
       "      <th>...</th>\n",
       "      <th>precipitation_y</th>\n",
       "      <th>max_C_y</th>\n",
       "      <th>min_C_y</th>\n",
       "      <th>dispatching_base_num</th>\n",
       "      <th>originating_base_num</th>\n",
       "      <th>shared_request_flag</th>\n",
       "      <th>shared_match_flag</th>\n",
       "      <th>access_a_ride_flag</th>\n",
       "      <th>wav_request_flag</th>\n",
       "      <th>wav_match_flag</th>\n",
       "    </tr>\n",
       "  </thead>\n",
       "  <tbody>\n",
       "    <tr>\n",
       "      <th>0</th>\n",
       "      <td>HV0003</td>\n",
       "      <td>2024-01-01 01:48:48</td>\n",
       "      <td>2024-01-01 01:50:14</td>\n",
       "      <td>2024-01-01 01:51:03</td>\n",
       "      <td>2024-01-01 02:04:52</td>\n",
       "      <td>79</td>\n",
       "      <td>233</td>\n",
       "      <td>2.39</td>\n",
       "      <td>13</td>\n",
       "      <td>35.08</td>\n",
       "      <td>...</td>\n",
       "      <td>0.03</td>\n",
       "      <td>8.3</td>\n",
       "      <td>1.7</td>\n",
       "      <td>&lt;NA&gt;</td>\n",
       "      <td>&lt;NA&gt;</td>\n",
       "      <td>&lt;NA&gt;</td>\n",
       "      <td>&lt;NA&gt;</td>\n",
       "      <td>&lt;NA&gt;</td>\n",
       "      <td>&lt;NA&gt;</td>\n",
       "      <td>&lt;NA&gt;</td>\n",
       "    </tr>\n",
       "    <tr>\n",
       "      <th>1</th>\n",
       "      <td>HV0003</td>\n",
       "      <td>2024-01-09 08:51:17</td>\n",
       "      <td>2024-01-09 08:53:57</td>\n",
       "      <td>2024-01-09 08:54:31</td>\n",
       "      <td>2024-01-09 09:07:00</td>\n",
       "      <td>71</td>\n",
       "      <td>72</td>\n",
       "      <td>1.75</td>\n",
       "      <td>12</td>\n",
       "      <td>10.66</td>\n",
       "      <td>...</td>\n",
       "      <td>1.73</td>\n",
       "      <td>13.9</td>\n",
       "      <td>2.2</td>\n",
       "      <td>&lt;NA&gt;</td>\n",
       "      <td>&lt;NA&gt;</td>\n",
       "      <td>&lt;NA&gt;</td>\n",
       "      <td>&lt;NA&gt;</td>\n",
       "      <td>&lt;NA&gt;</td>\n",
       "      <td>&lt;NA&gt;</td>\n",
       "      <td>&lt;NA&gt;</td>\n",
       "    </tr>\n",
       "    <tr>\n",
       "      <th>2</th>\n",
       "      <td>HV0003</td>\n",
       "      <td>2024-01-01 10:34:11</td>\n",
       "      <td>2024-01-01 10:40:38</td>\n",
       "      <td>2024-01-01 10:42:16</td>\n",
       "      <td>2024-01-01 11:41:25</td>\n",
       "      <td>132</td>\n",
       "      <td>265</td>\n",
       "      <td>38.90</td>\n",
       "      <td>59</td>\n",
       "      <td>136.89</td>\n",
       "      <td>...</td>\n",
       "      <td>0.03</td>\n",
       "      <td>8.3</td>\n",
       "      <td>1.7</td>\n",
       "      <td>&lt;NA&gt;</td>\n",
       "      <td>&lt;NA&gt;</td>\n",
       "      <td>&lt;NA&gt;</td>\n",
       "      <td>&lt;NA&gt;</td>\n",
       "      <td>&lt;NA&gt;</td>\n",
       "      <td>&lt;NA&gt;</td>\n",
       "      <td>&lt;NA&gt;</td>\n",
       "    </tr>\n",
       "    <tr>\n",
       "      <th>3</th>\n",
       "      <td>HV0003</td>\n",
       "      <td>2024-01-08 08:47:58</td>\n",
       "      <td>2024-01-08 08:53:18</td>\n",
       "      <td>2024-01-08 08:53:18</td>\n",
       "      <td>2024-01-08 09:25:12</td>\n",
       "      <td>112</td>\n",
       "      <td>177</td>\n",
       "      <td>4.53</td>\n",
       "      <td>31</td>\n",
       "      <td>32.23</td>\n",
       "      <td>...</td>\n",
       "      <td>0.00</td>\n",
       "      <td>7.2</td>\n",
       "      <td>2.2</td>\n",
       "      <td>&lt;NA&gt;</td>\n",
       "      <td>&lt;NA&gt;</td>\n",
       "      <td>&lt;NA&gt;</td>\n",
       "      <td>&lt;NA&gt;</td>\n",
       "      <td>&lt;NA&gt;</td>\n",
       "      <td>&lt;NA&gt;</td>\n",
       "      <td>&lt;NA&gt;</td>\n",
       "    </tr>\n",
       "    <tr>\n",
       "      <th>4</th>\n",
       "      <td>HV0003</td>\n",
       "      <td>2024-01-07 19:10:17</td>\n",
       "      <td>2024-01-07 19:12:17</td>\n",
       "      <td>2024-01-07 19:12:39</td>\n",
       "      <td>2024-01-07 19:17:43</td>\n",
       "      <td>263</td>\n",
       "      <td>141</td>\n",
       "      <td>0.89</td>\n",
       "      <td>5</td>\n",
       "      <td>8.19</td>\n",
       "      <td>...</td>\n",
       "      <td>0.24</td>\n",
       "      <td>3.3</td>\n",
       "      <td>1.1</td>\n",
       "      <td>&lt;NA&gt;</td>\n",
       "      <td>&lt;NA&gt;</td>\n",
       "      <td>&lt;NA&gt;</td>\n",
       "      <td>&lt;NA&gt;</td>\n",
       "      <td>&lt;NA&gt;</td>\n",
       "      <td>&lt;NA&gt;</td>\n",
       "      <td>&lt;NA&gt;</td>\n",
       "    </tr>\n",
       "  </tbody>\n",
       "</table>\n",
       "<p>5 rows × 44 columns</p>\n",
       "</div>"
      ],
      "text/plain": [
       "  hvfhs_license_num    request_datetime   on_scene_datetime  \\\n",
       "0            HV0003 2024-01-01 01:48:48 2024-01-01 01:50:14   \n",
       "1            HV0003 2024-01-09 08:51:17 2024-01-09 08:53:57   \n",
       "2            HV0003 2024-01-01 10:34:11 2024-01-01 10:40:38   \n",
       "3            HV0003 2024-01-08 08:47:58 2024-01-08 08:53:18   \n",
       "4            HV0003 2024-01-07 19:10:17 2024-01-07 19:12:17   \n",
       "\n",
       "      pickup_datetime    dropoff_datetime  PULocationID  DOLocationID  \\\n",
       "0 2024-01-01 01:51:03 2024-01-01 02:04:52            79           233   \n",
       "1 2024-01-09 08:54:31 2024-01-09 09:07:00            71            72   \n",
       "2 2024-01-01 10:42:16 2024-01-01 11:41:25           132           265   \n",
       "3 2024-01-08 08:53:18 2024-01-08 09:25:12           112           177   \n",
       "4 2024-01-07 19:12:39 2024-01-07 19:17:43           263           141   \n",
       "\n",
       "   trip_miles  trip_time  base_passenger_fare  ...  precipitation_y  max_C_y  \\\n",
       "0        2.39         13                35.08  ...             0.03      8.3   \n",
       "1        1.75         12                10.66  ...             1.73     13.9   \n",
       "2       38.90         59               136.89  ...             0.03      8.3   \n",
       "3        4.53         31                32.23  ...             0.00      7.2   \n",
       "4        0.89          5                 8.19  ...             0.24      3.3   \n",
       "\n",
       "   min_C_y  dispatching_base_num  originating_base_num  shared_request_flag  \\\n",
       "0      1.7                  <NA>                  <NA>                 <NA>   \n",
       "1      2.2                  <NA>                  <NA>                 <NA>   \n",
       "2      1.7                  <NA>                  <NA>                 <NA>   \n",
       "3      2.2                  <NA>                  <NA>                 <NA>   \n",
       "4      1.1                  <NA>                  <NA>                 <NA>   \n",
       "\n",
       "   shared_match_flag access_a_ride_flag  wav_request_flag  wav_match_flag  \n",
       "0               <NA>               <NA>              <NA>            <NA>  \n",
       "1               <NA>               <NA>              <NA>            <NA>  \n",
       "2               <NA>               <NA>              <NA>            <NA>  \n",
       "3               <NA>               <NA>              <NA>            <NA>  \n",
       "4               <NA>               <NA>              <NA>            <NA>  \n",
       "\n",
       "[5 rows x 44 columns]"
      ]
     },
     "execution_count": 31,
     "metadata": {},
     "output_type": "execute_result"
    }
   ],
   "source": [
    "df.head()"
   ]
  },
  {
   "cell_type": "code",
   "execution_count": 32,
   "id": "598118eb",
   "metadata": {},
   "outputs": [],
   "source": [
    "taxi_zone = pd.read_csv(\"/Users/admin/softeer_de_wiki/mission/W4/m2/shared/data/taxi_zone_lookup.csv\")"
   ]
  },
  {
   "cell_type": "code",
   "execution_count": 33,
   "id": "d597da46",
   "metadata": {},
   "outputs": [
    {
     "data": {
      "application/vnd.microsoft.datawrangler.viewer.v0+json": {
       "columns": [
        {
         "name": "index",
         "rawType": "int64",
         "type": "integer"
        },
        {
         "name": "LocationID",
         "rawType": "int64",
         "type": "integer"
        },
        {
         "name": "Borough",
         "rawType": "object",
         "type": "string"
        },
        {
         "name": "Zone",
         "rawType": "object",
         "type": "string"
        },
        {
         "name": "service_zone",
         "rawType": "object",
         "type": "string"
        }
       ],
       "ref": "767a465e-602a-4b4c-99e7-bca794be764c",
       "rows": [
        [
         "0",
         "1",
         "EWR",
         "Newark Airport",
         "EWR"
        ],
        [
         "1",
         "2",
         "Queens",
         "Jamaica Bay",
         "Boro Zone"
        ],
        [
         "2",
         "3",
         "Bronx",
         "Allerton/Pelham Gardens",
         "Boro Zone"
        ],
        [
         "3",
         "4",
         "Manhattan",
         "Alphabet City",
         "Yellow Zone"
        ],
        [
         "4",
         "5",
         "Staten Island",
         "Arden Heights",
         "Boro Zone"
        ]
       ],
       "shape": {
        "columns": 4,
        "rows": 5
       }
      },
      "text/html": [
       "<div>\n",
       "<style scoped>\n",
       "    .dataframe tbody tr th:only-of-type {\n",
       "        vertical-align: middle;\n",
       "    }\n",
       "\n",
       "    .dataframe tbody tr th {\n",
       "        vertical-align: top;\n",
       "    }\n",
       "\n",
       "    .dataframe thead th {\n",
       "        text-align: right;\n",
       "    }\n",
       "</style>\n",
       "<table border=\"1\" class=\"dataframe\">\n",
       "  <thead>\n",
       "    <tr style=\"text-align: right;\">\n",
       "      <th></th>\n",
       "      <th>LocationID</th>\n",
       "      <th>Borough</th>\n",
       "      <th>Zone</th>\n",
       "      <th>service_zone</th>\n",
       "    </tr>\n",
       "  </thead>\n",
       "  <tbody>\n",
       "    <tr>\n",
       "      <th>0</th>\n",
       "      <td>1</td>\n",
       "      <td>EWR</td>\n",
       "      <td>Newark Airport</td>\n",
       "      <td>EWR</td>\n",
       "    </tr>\n",
       "    <tr>\n",
       "      <th>1</th>\n",
       "      <td>2</td>\n",
       "      <td>Queens</td>\n",
       "      <td>Jamaica Bay</td>\n",
       "      <td>Boro Zone</td>\n",
       "    </tr>\n",
       "    <tr>\n",
       "      <th>2</th>\n",
       "      <td>3</td>\n",
       "      <td>Bronx</td>\n",
       "      <td>Allerton/Pelham Gardens</td>\n",
       "      <td>Boro Zone</td>\n",
       "    </tr>\n",
       "    <tr>\n",
       "      <th>3</th>\n",
       "      <td>4</td>\n",
       "      <td>Manhattan</td>\n",
       "      <td>Alphabet City</td>\n",
       "      <td>Yellow Zone</td>\n",
       "    </tr>\n",
       "    <tr>\n",
       "      <th>4</th>\n",
       "      <td>5</td>\n",
       "      <td>Staten Island</td>\n",
       "      <td>Arden Heights</td>\n",
       "      <td>Boro Zone</td>\n",
       "    </tr>\n",
       "  </tbody>\n",
       "</table>\n",
       "</div>"
      ],
      "text/plain": [
       "   LocationID        Borough                     Zone service_zone\n",
       "0           1            EWR           Newark Airport          EWR\n",
       "1           2         Queens              Jamaica Bay    Boro Zone\n",
       "2           3          Bronx  Allerton/Pelham Gardens    Boro Zone\n",
       "3           4      Manhattan            Alphabet City  Yellow Zone\n",
       "4           5  Staten Island            Arden Heights    Boro Zone"
      ]
     },
     "execution_count": 33,
     "metadata": {},
     "output_type": "execute_result"
    }
   ],
   "source": [
    "taxi_zone.head(5)"
   ]
  },
  {
   "cell_type": "code",
   "execution_count": 34,
   "id": "0ccd15ee",
   "metadata": {},
   "outputs": [],
   "source": [
    "columns = ['dispatching_base_num', 'originating_base_num', 'shared_request_flag', 'shared_match_flag', 'access_a_ride_flag', 'wav_request_flag', 'wav_match_flag']\n",
    "df = df.drop(columns=columns)\n",
    "\n",
    "# dropoff_datetime - pickup_datetime <= 0 삭제\n",
    "df = df[df['dropoff_datetime'] - df['pickup_datetime'] > pd.Timedelta(0)]\n",
    "# on_scene_datetime - request_datetime <= 0 삭제\n",
    "df = df[df['on_scene_datetime'] - df['request_datetime'] > pd.Timedelta(0)]\n",
    "# base_passenger_fare <=0 삭제\n",
    "df = df[df['base_passenger_fare'] > 0]\n",
    "# driver_pay < 0 삭제\n",
    "df = df[df['driver_pay'] >= 0]\n",
    "\n",
    "df['Taxi_Company'] = df['hvfhs_license_num'].map({\n",
    "    'HV0003': 'Uber',\n",
    "    'HV0005': 'Lyft'\n",
    "})\n",
    "\n",
    "df['year'] = pd.to_datetime(df['pickup_datetime']).dt.year\n",
    "df['month'] = pd.to_datetime(df['pickup_datetime']).dt.month\n",
    "df['day'] = pd.to_datetime(df['pickup_datetime']).dt.day\n",
    "df['hour'] = pd.to_datetime(df['pickup_datetime']).dt.hour\n",
    "\n",
    "df['season'] = df['month'].map({\n",
    "    1: 'Winter',\n",
    "    2: 'Winter',\n",
    "    7: 'Summer',\n",
    "    8: 'Summer',\n",
    "})\n",
    "\n",
    "df['PULocation'] = df['PULocationID'].map(taxi_zone.set_index('LocationID')['Borough'])\n",
    "df['DOLocation'] = df['DOLocationID'].map(taxi_zone.set_index('LocationID')['Borough'])\n",
    "\n",
    "df['time_to_on_scene'] = round((df['on_scene_datetime'] - df['request_datetime']).dt.total_seconds() / 60)\n",
    "\n",
    "df['trip_time'] = (df['trip_time'] / 60).astype(int)\n",
    "\n",
    "df['trip_km'] = round(df['trip_miles'] * 1.60934, 2)"
   ]
  },
  {
   "cell_type": "markdown",
   "id": "56e94155",
   "metadata": {},
   "source": [
    "## 날씨"
   ]
  },
  {
   "cell_type": "code",
   "execution_count": 35,
   "id": "39c6f531",
   "metadata": {},
   "outputs": [],
   "source": [
    "import glob\n",
    "weather = pd.concat([pd.read_csv(f) for f in glob.glob(\"/Users/admin/softeer_de_wiki/mission/W4/m2/shared/data/2024_weather/*.csv\")])"
   ]
  },
  {
   "cell_type": "code",
   "execution_count": 36,
   "id": "ed686bfa",
   "metadata": {},
   "outputs": [
    {
     "data": {
      "application/vnd.microsoft.datawrangler.viewer.v0+json": {
       "columns": [
        {
         "name": "index",
         "rawType": "int64",
         "type": "integer"
        },
        {
         "name": "year",
         "rawType": "int64",
         "type": "integer"
        },
        {
         "name": "month",
         "rawType": "int64",
         "type": "integer"
        },
        {
         "name": "day",
         "rawType": "int64",
         "type": "integer"
        },
        {
         "name": "max",
         "rawType": "int64",
         "type": "integer"
        },
        {
         "name": "min",
         "rawType": "int64",
         "type": "integer"
        },
        {
         "name": "precipitation1",
         "rawType": "object",
         "type": "string"
        },
        {
         "name": "precipitation2",
         "rawType": "object",
         "type": "unknown"
        },
        {
         "name": "precipitation3",
         "rawType": "object",
         "type": "unknown"
        }
       ],
       "ref": "82f545b8-8803-4e45-8155-f0d14f30832a",
       "rows": [
        [
         "0",
         "2024",
         "8",
         "1",
         "95",
         "76",
         "0.00",
         "0.0",
         "0.0"
        ],
        [
         "1",
         "2024",
         "8",
         "2",
         "92",
         "74",
         "0.52",
         "0.0",
         "0.0"
        ],
        [
         "2",
         "2024",
         "8",
         "3",
         "93",
         "73",
         "0.73",
         "0.0",
         "0.0"
        ],
        [
         "3",
         "2024",
         "8",
         "4",
         "83",
         "71",
         "0.17",
         "0.0",
         "0.0"
        ],
        [
         "4",
         "2024",
         "8",
         "5",
         "90",
         "73",
         "0.00",
         "0.0",
         "0.0"
        ]
       ],
       "shape": {
        "columns": 8,
        "rows": 5
       }
      },
      "text/html": [
       "<div>\n",
       "<style scoped>\n",
       "    .dataframe tbody tr th:only-of-type {\n",
       "        vertical-align: middle;\n",
       "    }\n",
       "\n",
       "    .dataframe tbody tr th {\n",
       "        vertical-align: top;\n",
       "    }\n",
       "\n",
       "    .dataframe thead th {\n",
       "        text-align: right;\n",
       "    }\n",
       "</style>\n",
       "<table border=\"1\" class=\"dataframe\">\n",
       "  <thead>\n",
       "    <tr style=\"text-align: right;\">\n",
       "      <th></th>\n",
       "      <th>year</th>\n",
       "      <th>month</th>\n",
       "      <th>day</th>\n",
       "      <th>max</th>\n",
       "      <th>min</th>\n",
       "      <th>precipitation1</th>\n",
       "      <th>precipitation2</th>\n",
       "      <th>precipitation3</th>\n",
       "    </tr>\n",
       "  </thead>\n",
       "  <tbody>\n",
       "    <tr>\n",
       "      <th>0</th>\n",
       "      <td>2024</td>\n",
       "      <td>8</td>\n",
       "      <td>1</td>\n",
       "      <td>95</td>\n",
       "      <td>76</td>\n",
       "      <td>0.00</td>\n",
       "      <td>0.0</td>\n",
       "      <td>0.0</td>\n",
       "    </tr>\n",
       "    <tr>\n",
       "      <th>1</th>\n",
       "      <td>2024</td>\n",
       "      <td>8</td>\n",
       "      <td>2</td>\n",
       "      <td>92</td>\n",
       "      <td>74</td>\n",
       "      <td>0.52</td>\n",
       "      <td>0.0</td>\n",
       "      <td>0.0</td>\n",
       "    </tr>\n",
       "    <tr>\n",
       "      <th>2</th>\n",
       "      <td>2024</td>\n",
       "      <td>8</td>\n",
       "      <td>3</td>\n",
       "      <td>93</td>\n",
       "      <td>73</td>\n",
       "      <td>0.73</td>\n",
       "      <td>0.0</td>\n",
       "      <td>0.0</td>\n",
       "    </tr>\n",
       "    <tr>\n",
       "      <th>3</th>\n",
       "      <td>2024</td>\n",
       "      <td>8</td>\n",
       "      <td>4</td>\n",
       "      <td>83</td>\n",
       "      <td>71</td>\n",
       "      <td>0.17</td>\n",
       "      <td>0.0</td>\n",
       "      <td>0.0</td>\n",
       "    </tr>\n",
       "    <tr>\n",
       "      <th>4</th>\n",
       "      <td>2024</td>\n",
       "      <td>8</td>\n",
       "      <td>5</td>\n",
       "      <td>90</td>\n",
       "      <td>73</td>\n",
       "      <td>0.00</td>\n",
       "      <td>0.0</td>\n",
       "      <td>0.0</td>\n",
       "    </tr>\n",
       "  </tbody>\n",
       "</table>\n",
       "</div>"
      ],
      "text/plain": [
       "   year  month  day  max  min precipitation1 precipitation2 precipitation3\n",
       "0  2024      8    1   95   76           0.00            0.0            0.0\n",
       "1  2024      8    2   92   74           0.52            0.0            0.0\n",
       "2  2024      8    3   93   73           0.73            0.0            0.0\n",
       "3  2024      8    4   83   71           0.17            0.0            0.0\n",
       "4  2024      8    5   90   73           0.00            0.0            0.0"
      ]
     },
     "execution_count": 36,
     "metadata": {},
     "output_type": "execute_result"
    }
   ],
   "source": [
    "weather.head(5)"
   ]
  },
  {
   "cell_type": "code",
   "execution_count": 37,
   "id": "2880b0a6",
   "metadata": {},
   "outputs": [],
   "source": [
    "weather['precipitation1'] = weather['precipitation1'].replace('T', '0').astype(float)\n",
    "weather['precipitation2'] = weather['precipitation2'].replace('T', '0').astype(float)\n",
    "weather['precipitation3'] = weather['precipitation3'].replace('T', '0').astype(float)\n",
    "weather['precipitation'] = weather[['precipitation1', 'precipitation2', 'precipitation3']].sum(axis=1)\n",
    "\n",
    "weather = weather.drop(columns=['precipitation1', 'precipitation2', 'precipitation3'])\n",
    "\n",
    "weather['max_C'] = ((weather['max'] - 32) * 5 / 9).round(1)\n",
    "weather['min_C'] = ((weather['min'] - 32) * 5 / 9).round(1)\n",
    "\n",
    "weather = weather.rename(columns={\n",
    "    'max': 'max_F',\n",
    "    'min': 'min_F'\n",
    "})"
   ]
  },
  {
   "cell_type": "code",
   "execution_count": 38,
   "id": "c15fb7c3",
   "metadata": {},
   "outputs": [],
   "source": [
    "df = df.merge(weather, on=['year', 'month', 'day'], how='left')"
   ]
  },
  {
   "cell_type": "code",
   "execution_count": 39,
   "id": "47f43a0b",
   "metadata": {},
   "outputs": [
    {
     "data": {
      "application/vnd.microsoft.datawrangler.viewer.v0+json": {
       "columns": [
        {
         "name": "index",
         "rawType": "int64",
         "type": "integer"
        },
        {
         "name": "hvfhs_license_num",
         "rawType": "string",
         "type": "string"
        },
        {
         "name": "request_datetime",
         "rawType": "datetime64[us]",
         "type": "unknown"
        },
        {
         "name": "on_scene_datetime",
         "rawType": "datetime64[us]",
         "type": "unknown"
        },
        {
         "name": "pickup_datetime",
         "rawType": "datetime64[us]",
         "type": "unknown"
        },
        {
         "name": "dropoff_datetime",
         "rawType": "datetime64[us]",
         "type": "unknown"
        },
        {
         "name": "PULocationID",
         "rawType": "int32",
         "type": "integer"
        },
        {
         "name": "DOLocationID",
         "rawType": "int32",
         "type": "integer"
        },
        {
         "name": "trip_miles",
         "rawType": "float64",
         "type": "float"
        },
        {
         "name": "trip_time",
         "rawType": "int64",
         "type": "integer"
        },
        {
         "name": "base_passenger_fare",
         "rawType": "float64",
         "type": "float"
        },
        {
         "name": "tolls",
         "rawType": "float64",
         "type": "float"
        },
        {
         "name": "bcf",
         "rawType": "float64",
         "type": "float"
        },
        {
         "name": "sales_tax",
         "rawType": "float64",
         "type": "float"
        },
        {
         "name": "congestion_surcharge",
         "rawType": "float64",
         "type": "float"
        },
        {
         "name": "airport_fee",
         "rawType": "float64",
         "type": "float"
        },
        {
         "name": "tips",
         "rawType": "float64",
         "type": "float"
        },
        {
         "name": "driver_pay",
         "rawType": "float64",
         "type": "float"
        },
        {
         "name": "Taxi_Company",
         "rawType": "object",
         "type": "string"
        },
        {
         "name": "year",
         "rawType": "int32",
         "type": "integer"
        },
        {
         "name": "month",
         "rawType": "int32",
         "type": "integer"
        },
        {
         "name": "day",
         "rawType": "int32",
         "type": "integer"
        },
        {
         "name": "hour",
         "rawType": "int32",
         "type": "integer"
        },
        {
         "name": "season",
         "rawType": "object",
         "type": "string"
        },
        {
         "name": "PULocation",
         "rawType": "object",
         "type": "string"
        },
        {
         "name": "DOLocation",
         "rawType": "object",
         "type": "unknown"
        },
        {
         "name": "time_to_on_scene",
         "rawType": "float64",
         "type": "float"
        },
        {
         "name": "trip_km",
         "rawType": "float64",
         "type": "float"
        },
        {
         "name": "max_F_x",
         "rawType": "float64",
         "type": "float"
        },
        {
         "name": "min_F_x",
         "rawType": "float64",
         "type": "float"
        },
        {
         "name": "precipitation_x",
         "rawType": "float64",
         "type": "float"
        },
        {
         "name": "max_C_x",
         "rawType": "float64",
         "type": "float"
        },
        {
         "name": "min_C_x",
         "rawType": "float64",
         "type": "float"
        },
        {
         "name": "max_F_y",
         "rawType": "float64",
         "type": "float"
        },
        {
         "name": "min_F_y",
         "rawType": "float64",
         "type": "float"
        },
        {
         "name": "precipitation_y",
         "rawType": "float64",
         "type": "float"
        },
        {
         "name": "max_C_y",
         "rawType": "float64",
         "type": "float"
        },
        {
         "name": "min_C_y",
         "rawType": "float64",
         "type": "float"
        },
        {
         "name": "max_F",
         "rawType": "int64",
         "type": "integer"
        },
        {
         "name": "min_F",
         "rawType": "int64",
         "type": "integer"
        },
        {
         "name": "precipitation",
         "rawType": "float64",
         "type": "float"
        },
        {
         "name": "max_C",
         "rawType": "float64",
         "type": "float"
        },
        {
         "name": "min_C",
         "rawType": "float64",
         "type": "float"
        }
       ],
       "ref": "23462a2b-89d1-4d5b-9809-642765e69686",
       "rows": [
        [
         "0",
         "HV0003",
         "2024-01-01 01:48:48",
         "2024-01-01 01:50:14",
         "2024-01-01 01:51:03",
         "2024-01-01 02:04:52",
         "79",
         "233",
         "2.39",
         "0",
         "35.08",
         "0.0",
         "0.96",
         "3.11",
         "2.75",
         "0.0",
         "0.0",
         "36.27",
         "Uber",
         "2024",
         "1",
         "1",
         "1",
         "Winter",
         "Manhattan",
         "Manhattan",
         "1.0",
         "3.85",
         "47.0",
         "35.0",
         "0.03",
         "8.3",
         "1.7",
         "47.0",
         "35.0",
         "0.03",
         "8.3",
         "1.7",
         "47",
         "35",
         "0.03",
         "8.3",
         "1.7"
        ],
        [
         "1",
         "HV0003",
         "2024-01-09 08:51:17",
         "2024-01-09 08:53:57",
         "2024-01-09 08:54:31",
         "2024-01-09 09:07:00",
         "71",
         "72",
         "1.75",
         "0",
         "10.66",
         "0.0",
         "0.29",
         "0.95",
         "0.0",
         "0.0",
         "0.0",
         "9.34",
         "Uber",
         "2024",
         "1",
         "9",
         "8",
         "Winter",
         "Brooklyn",
         "Brooklyn",
         "3.0",
         "2.82",
         "57.0",
         "36.0",
         "1.73",
         "13.9",
         "2.2",
         "57.0",
         "36.0",
         "1.73",
         "13.9",
         "2.2",
         "57",
         "36",
         "1.73",
         "13.9",
         "2.2"
        ],
        [
         "2",
         "HV0003",
         "2024-01-01 10:34:11",
         "2024-01-01 10:40:38",
         "2024-01-01 10:42:16",
         "2024-01-01 11:41:25",
         "132",
         "265",
         "38.9",
         "0",
         "136.89",
         "28.5",
         "4.62",
         "0.0",
         "0.0",
         "2.5",
         "0.0",
         "91.85",
         "Uber",
         "2024",
         "1",
         "1",
         "10",
         "Winter",
         "Queens",
         null,
         "6.0",
         "62.6",
         "47.0",
         "35.0",
         "0.03",
         "8.3",
         "1.7",
         "47.0",
         "35.0",
         "0.03",
         "8.3",
         "1.7",
         "47",
         "35",
         "0.03",
         "8.3",
         "1.7"
        ],
        [
         "3",
         "HV0003",
         "2024-01-08 08:47:58",
         "2024-01-08 08:53:18",
         "2024-01-08 08:53:18",
         "2024-01-08 09:25:12",
         "112",
         "177",
         "4.53",
         "0",
         "32.23",
         "0.0",
         "0.89",
         "2.86",
         "0.0",
         "0.0",
         "7.19",
         "26.94",
         "Uber",
         "2024",
         "1",
         "8",
         "8",
         "Winter",
         "Brooklyn",
         "Brooklyn",
         "5.0",
         "7.29",
         "45.0",
         "36.0",
         "0.0",
         "7.2",
         "2.2",
         "45.0",
         "36.0",
         "0.0",
         "7.2",
         "2.2",
         "45",
         "36",
         "0.0",
         "7.2",
         "2.2"
        ],
        [
         "4",
         "HV0003",
         "2024-01-07 19:10:17",
         "2024-01-07 19:12:17",
         "2024-01-07 19:12:39",
         "2024-01-07 19:17:43",
         "263",
         "141",
         "0.89",
         "0",
         "8.19",
         "0.0",
         "0.23",
         "0.73",
         "2.75",
         "0.0",
         "0.0",
         "5.75",
         "Uber",
         "2024",
         "1",
         "7",
         "19",
         "Winter",
         "Manhattan",
         "Manhattan",
         "2.0",
         "1.43",
         "38.0",
         "34.0",
         "0.24",
         "3.3",
         "1.1",
         "38.0",
         "34.0",
         "0.24",
         "3.3",
         "1.1",
         "38",
         "34",
         "0.24",
         "3.3",
         "1.1"
        ]
       ],
       "shape": {
        "columns": 42,
        "rows": 5
       }
      },
      "text/html": [
       "<div>\n",
       "<style scoped>\n",
       "    .dataframe tbody tr th:only-of-type {\n",
       "        vertical-align: middle;\n",
       "    }\n",
       "\n",
       "    .dataframe tbody tr th {\n",
       "        vertical-align: top;\n",
       "    }\n",
       "\n",
       "    .dataframe thead th {\n",
       "        text-align: right;\n",
       "    }\n",
       "</style>\n",
       "<table border=\"1\" class=\"dataframe\">\n",
       "  <thead>\n",
       "    <tr style=\"text-align: right;\">\n",
       "      <th></th>\n",
       "      <th>hvfhs_license_num</th>\n",
       "      <th>request_datetime</th>\n",
       "      <th>on_scene_datetime</th>\n",
       "      <th>pickup_datetime</th>\n",
       "      <th>dropoff_datetime</th>\n",
       "      <th>PULocationID</th>\n",
       "      <th>DOLocationID</th>\n",
       "      <th>trip_miles</th>\n",
       "      <th>trip_time</th>\n",
       "      <th>base_passenger_fare</th>\n",
       "      <th>...</th>\n",
       "      <th>max_F_y</th>\n",
       "      <th>min_F_y</th>\n",
       "      <th>precipitation_y</th>\n",
       "      <th>max_C_y</th>\n",
       "      <th>min_C_y</th>\n",
       "      <th>max_F</th>\n",
       "      <th>min_F</th>\n",
       "      <th>precipitation</th>\n",
       "      <th>max_C</th>\n",
       "      <th>min_C</th>\n",
       "    </tr>\n",
       "  </thead>\n",
       "  <tbody>\n",
       "    <tr>\n",
       "      <th>0</th>\n",
       "      <td>HV0003</td>\n",
       "      <td>2024-01-01 01:48:48</td>\n",
       "      <td>2024-01-01 01:50:14</td>\n",
       "      <td>2024-01-01 01:51:03</td>\n",
       "      <td>2024-01-01 02:04:52</td>\n",
       "      <td>79</td>\n",
       "      <td>233</td>\n",
       "      <td>2.39</td>\n",
       "      <td>0</td>\n",
       "      <td>35.08</td>\n",
       "      <td>...</td>\n",
       "      <td>47.0</td>\n",
       "      <td>35.0</td>\n",
       "      <td>0.03</td>\n",
       "      <td>8.3</td>\n",
       "      <td>1.7</td>\n",
       "      <td>47</td>\n",
       "      <td>35</td>\n",
       "      <td>0.03</td>\n",
       "      <td>8.3</td>\n",
       "      <td>1.7</td>\n",
       "    </tr>\n",
       "    <tr>\n",
       "      <th>1</th>\n",
       "      <td>HV0003</td>\n",
       "      <td>2024-01-09 08:51:17</td>\n",
       "      <td>2024-01-09 08:53:57</td>\n",
       "      <td>2024-01-09 08:54:31</td>\n",
       "      <td>2024-01-09 09:07:00</td>\n",
       "      <td>71</td>\n",
       "      <td>72</td>\n",
       "      <td>1.75</td>\n",
       "      <td>0</td>\n",
       "      <td>10.66</td>\n",
       "      <td>...</td>\n",
       "      <td>57.0</td>\n",
       "      <td>36.0</td>\n",
       "      <td>1.73</td>\n",
       "      <td>13.9</td>\n",
       "      <td>2.2</td>\n",
       "      <td>57</td>\n",
       "      <td>36</td>\n",
       "      <td>1.73</td>\n",
       "      <td>13.9</td>\n",
       "      <td>2.2</td>\n",
       "    </tr>\n",
       "    <tr>\n",
       "      <th>2</th>\n",
       "      <td>HV0003</td>\n",
       "      <td>2024-01-01 10:34:11</td>\n",
       "      <td>2024-01-01 10:40:38</td>\n",
       "      <td>2024-01-01 10:42:16</td>\n",
       "      <td>2024-01-01 11:41:25</td>\n",
       "      <td>132</td>\n",
       "      <td>265</td>\n",
       "      <td>38.90</td>\n",
       "      <td>0</td>\n",
       "      <td>136.89</td>\n",
       "      <td>...</td>\n",
       "      <td>47.0</td>\n",
       "      <td>35.0</td>\n",
       "      <td>0.03</td>\n",
       "      <td>8.3</td>\n",
       "      <td>1.7</td>\n",
       "      <td>47</td>\n",
       "      <td>35</td>\n",
       "      <td>0.03</td>\n",
       "      <td>8.3</td>\n",
       "      <td>1.7</td>\n",
       "    </tr>\n",
       "    <tr>\n",
       "      <th>3</th>\n",
       "      <td>HV0003</td>\n",
       "      <td>2024-01-08 08:47:58</td>\n",
       "      <td>2024-01-08 08:53:18</td>\n",
       "      <td>2024-01-08 08:53:18</td>\n",
       "      <td>2024-01-08 09:25:12</td>\n",
       "      <td>112</td>\n",
       "      <td>177</td>\n",
       "      <td>4.53</td>\n",
       "      <td>0</td>\n",
       "      <td>32.23</td>\n",
       "      <td>...</td>\n",
       "      <td>45.0</td>\n",
       "      <td>36.0</td>\n",
       "      <td>0.00</td>\n",
       "      <td>7.2</td>\n",
       "      <td>2.2</td>\n",
       "      <td>45</td>\n",
       "      <td>36</td>\n",
       "      <td>0.00</td>\n",
       "      <td>7.2</td>\n",
       "      <td>2.2</td>\n",
       "    </tr>\n",
       "    <tr>\n",
       "      <th>4</th>\n",
       "      <td>HV0003</td>\n",
       "      <td>2024-01-07 19:10:17</td>\n",
       "      <td>2024-01-07 19:12:17</td>\n",
       "      <td>2024-01-07 19:12:39</td>\n",
       "      <td>2024-01-07 19:17:43</td>\n",
       "      <td>263</td>\n",
       "      <td>141</td>\n",
       "      <td>0.89</td>\n",
       "      <td>0</td>\n",
       "      <td>8.19</td>\n",
       "      <td>...</td>\n",
       "      <td>38.0</td>\n",
       "      <td>34.0</td>\n",
       "      <td>0.24</td>\n",
       "      <td>3.3</td>\n",
       "      <td>1.1</td>\n",
       "      <td>38</td>\n",
       "      <td>34</td>\n",
       "      <td>0.24</td>\n",
       "      <td>3.3</td>\n",
       "      <td>1.1</td>\n",
       "    </tr>\n",
       "  </tbody>\n",
       "</table>\n",
       "<p>5 rows × 42 columns</p>\n",
       "</div>"
      ],
      "text/plain": [
       "  hvfhs_license_num    request_datetime   on_scene_datetime  \\\n",
       "0            HV0003 2024-01-01 01:48:48 2024-01-01 01:50:14   \n",
       "1            HV0003 2024-01-09 08:51:17 2024-01-09 08:53:57   \n",
       "2            HV0003 2024-01-01 10:34:11 2024-01-01 10:40:38   \n",
       "3            HV0003 2024-01-08 08:47:58 2024-01-08 08:53:18   \n",
       "4            HV0003 2024-01-07 19:10:17 2024-01-07 19:12:17   \n",
       "\n",
       "      pickup_datetime    dropoff_datetime  PULocationID  DOLocationID  \\\n",
       "0 2024-01-01 01:51:03 2024-01-01 02:04:52            79           233   \n",
       "1 2024-01-09 08:54:31 2024-01-09 09:07:00            71            72   \n",
       "2 2024-01-01 10:42:16 2024-01-01 11:41:25           132           265   \n",
       "3 2024-01-08 08:53:18 2024-01-08 09:25:12           112           177   \n",
       "4 2024-01-07 19:12:39 2024-01-07 19:17:43           263           141   \n",
       "\n",
       "   trip_miles  trip_time  base_passenger_fare  ...  max_F_y  min_F_y  \\\n",
       "0        2.39          0                35.08  ...     47.0     35.0   \n",
       "1        1.75          0                10.66  ...     57.0     36.0   \n",
       "2       38.90          0               136.89  ...     47.0     35.0   \n",
       "3        4.53          0                32.23  ...     45.0     36.0   \n",
       "4        0.89          0                 8.19  ...     38.0     34.0   \n",
       "\n",
       "   precipitation_y  max_C_y  min_C_y  max_F  min_F precipitation  max_C  min_C  \n",
       "0             0.03      8.3      1.7     47     35          0.03    8.3    1.7  \n",
       "1             1.73     13.9      2.2     57     36          1.73   13.9    2.2  \n",
       "2             0.03      8.3      1.7     47     35          0.03    8.3    1.7  \n",
       "3             0.00      7.2      2.2     45     36          0.00    7.2    2.2  \n",
       "4             0.24      3.3      1.1     38     34          0.24    3.3    1.1  \n",
       "\n",
       "[5 rows x 42 columns]"
      ]
     },
     "execution_count": 39,
     "metadata": {},
     "output_type": "execute_result"
    }
   ],
   "source": [
    "df.head()"
   ]
  },
  {
   "cell_type": "code",
   "execution_count": 40,
   "id": "8eba7cbb",
   "metadata": {},
   "outputs": [
    {
     "data": {
      "application/vnd.microsoft.datawrangler.viewer.v0+json": {
       "columns": [
        {
         "name": "season",
         "rawType": "object",
         "type": "string"
        },
        {
         "name": "count",
         "rawType": "int64",
         "type": "integer"
        }
       ],
       "ref": "5d269ea4-5fd4-441c-98ea-07b0a2c1480f",
       "rows": [
        [
         "Winter",
         "857682"
        ],
        [
         "Summer",
         "844452"
        ]
       ],
       "shape": {
        "columns": 1,
        "rows": 2
       }
      },
      "text/plain": [
       "season\n",
       "Winter    857682\n",
       "Summer    844452\n",
       "Name: count, dtype: int64"
      ]
     },
     "execution_count": 40,
     "metadata": {},
     "output_type": "execute_result"
    }
   ],
   "source": [
    "df['season'].value_counts()"
   ]
  },
  {
   "cell_type": "code",
   "execution_count": 41,
   "id": "55993ed1",
   "metadata": {},
   "outputs": [],
   "source": [
    "# 과제 파트\n",
    "\n",
    "# Average Trip Duration\n",
    "average_trip_duration = df['trip_time'].mean().round(2)\n",
    "\n",
    "# Average Trip Distance\n",
    "average_trip_distance_km = df['trip_km'].mean().round(2)\n",
    "average_trip_distance_miles = df['trip_miles'].mean().round(2)\n",
    "\n",
    "# Peak Hours\n",
    "peak_hours = df['pickup_datetime'].dt.hour.value_counts().sort_values(ascending=False)"
   ]
  },
  {
   "cell_type": "code",
   "execution_count": 42,
   "id": "eae2620a",
   "metadata": {},
   "outputs": [
    {
     "name": "stdout",
     "output_type": "stream",
     "text": [
      "Average Trip Duration (minutes): 6.19 minutes\n",
      "Average Trip Distance (km): 8.0 km\n",
      "Average Trip Distance (miles): 4.97 miles\n",
      "\n",
      "Peak Hours Distribution:\n",
      "                  count\n",
      "pickup_datetime        \n",
      "18               104694\n",
      "17               100818\n",
      "19                99510\n",
      "20                93321\n",
      "21                91983\n",
      "22                89964\n",
      "16                89613\n",
      "15                86331\n",
      "8                 85803\n",
      "14                85119\n"
     ]
    }
   ],
   "source": [
    "print(\"Average Trip Duration (minutes):\", average_trip_duration, \"minutes\")\n",
    "print(\"Average Trip Distance (km):\", average_trip_distance_km, \"km\")\n",
    "print(\"Average Trip Distance (miles):\", average_trip_distance_miles, \"miles\")\n",
    "print()\n",
    "print(\"Peak Hours Distribution:\")\n",
    "print(pd.DataFrame(peak_hours).head(10))"
   ]
  },
  {
   "cell_type": "code",
   "execution_count": 43,
   "id": "8b8d7bdc",
   "metadata": {},
   "outputs": [
    {
     "data": {
      "image/png": "[encoded data removed]",
      "text/plain": [
       "<Figure size 1200x600 with 1 Axes>"
      ]
     },
     "metadata": {},
     "output_type": "display_data"
    }
   ],
   "source": [
    "plt.figure(figsize=(12, 6))\n",
    "plt.bar(peak_hours.index, peak_hours.values, color='skyblue')\n",
    "plt.xlabel('Hour of the Day')\n",
    "plt.ylabel('Number of Trips')\n",
    "plt.title('Peak Hours Distribution')\n",
    "plt.xticks(range(0, 24))\n",
    "plt.grid(axis='y', linestyle='--', alpha=0.7)\n",
    "plt.show()"
   ]
  },
  {
   "cell_type": "code",
   "execution_count": 44,
   "id": "05fe437f",
   "metadata": {},
   "outputs": [],
   "source": [
    "weather = pd.concat([pd.read_csv(f) for f in glob.glob(\"/Users/admin/softeer_de_wiki/mission/W4/m2/shared/data/2024_weather/*.csv\")])"
   ]
  },
  {
   "cell_type": "code",
   "execution_count": 45,
   "id": "55bb91be",
   "metadata": {},
   "outputs": [],
   "source": [
    "weather['precipitation1'] = weather['precipitation1'].replace('T', '0').astype(float)\n",
    "weather['precipitation2'] = weather['precipitation2'].replace('T', '0').astype(float)\n",
    "weather['precipitation3'] = weather['precipitation3'].replace('T', '0').astype(float)\n",
    "weather['precipitation'] = weather[['precipitation1', 'precipitation2', 'precipitation3']].sum(axis=1)\n",
    "\n",
    "weather = weather.drop(columns=['precipitation1', 'precipitation2', 'precipitation3'])\n",
    "\n",
    "weather['max_C'] = ((weather['max'] - 32) * 5 / 9).round(1)\n",
    "weather['min_C'] = ((weather['min'] - 32) * 5 / 9).round(1)\n",
    "\n",
    "weather = weather.rename(columns={\n",
    "    'max': 'max_F',\n",
    "    'min': 'min_F'\n",
    "})"
   ]
  },
  {
   "cell_type": "code",
   "execution_count": 46,
   "id": "1659d4e1",
   "metadata": {},
   "outputs": [
    {
     "data": {
      "application/vnd.microsoft.datawrangler.viewer.v0+json": {
       "columns": [
        {
         "name": "index",
         "rawType": "int64",
         "type": "integer"
        },
        {
         "name": "year",
         "rawType": "int64",
         "type": "integer"
        },
        {
         "name": "month",
         "rawType": "int64",
         "type": "integer"
        },
        {
         "name": "day",
         "rawType": "int64",
         "type": "integer"
        },
        {
         "name": "max_F",
         "rawType": "int64",
         "type": "integer"
        },
        {
         "name": "min_F",
         "rawType": "int64",
         "type": "integer"
        },
        {
         "name": "precipitation",
         "rawType": "float64",
         "type": "float"
        },
        {
         "name": "max_C",
         "rawType": "float64",
         "type": "float"
        },
        {
         "name": "min_C",
         "rawType": "float64",
         "type": "float"
        }
       ],
       "ref": "edc85650-073f-4732-ac7e-f7c4c201d659",
       "rows": [
        [
         "0",
         "2024",
         "8",
         "1",
         "95",
         "76",
         "0.0",
         "35.0",
         "24.4"
        ],
        [
         "1",
         "2024",
         "8",
         "2",
         "92",
         "74",
         "0.52",
         "33.3",
         "23.3"
        ],
        [
         "2",
         "2024",
         "8",
         "3",
         "93",
         "73",
         "0.73",
         "33.9",
         "22.8"
        ],
        [
         "3",
         "2024",
         "8",
         "4",
         "83",
         "71",
         "0.17",
         "28.3",
         "21.7"
        ],
        [
         "4",
         "2024",
         "8",
         "5",
         "90",
         "73",
         "0.0",
         "32.2",
         "22.8"
        ]
       ],
       "shape": {
        "columns": 8,
        "rows": 5
       }
      },
      "text/html": [
       "<div>\n",
       "<style scoped>\n",
       "    .dataframe tbody tr th:only-of-type {\n",
       "        vertical-align: middle;\n",
       "    }\n",
       "\n",
       "    .dataframe tbody tr th {\n",
       "        vertical-align: top;\n",
       "    }\n",
       "\n",
       "    .dataframe thead th {\n",
       "        text-align: right;\n",
       "    }\n",
       "</style>\n",
       "<table border=\"1\" class=\"dataframe\">\n",
       "  <thead>\n",
       "    <tr style=\"text-align: right;\">\n",
       "      <th></th>\n",
       "      <th>year</th>\n",
       "      <th>month</th>\n",
       "      <th>day</th>\n",
       "      <th>max_F</th>\n",
       "      <th>min_F</th>\n",
       "      <th>precipitation</th>\n",
       "      <th>max_C</th>\n",
       "      <th>min_C</th>\n",
       "    </tr>\n",
       "  </thead>\n",
       "  <tbody>\n",
       "    <tr>\n",
       "      <th>0</th>\n",
       "      <td>2024</td>\n",
       "      <td>8</td>\n",
       "      <td>1</td>\n",
       "      <td>95</td>\n",
       "      <td>76</td>\n",
       "      <td>0.00</td>\n",
       "      <td>35.0</td>\n",
       "      <td>24.4</td>\n",
       "    </tr>\n",
       "    <tr>\n",
       "      <th>1</th>\n",
       "      <td>2024</td>\n",
       "      <td>8</td>\n",
       "      <td>2</td>\n",
       "      <td>92</td>\n",
       "      <td>74</td>\n",
       "      <td>0.52</td>\n",
       "      <td>33.3</td>\n",
       "      <td>23.3</td>\n",
       "    </tr>\n",
       "    <tr>\n",
       "      <th>2</th>\n",
       "      <td>2024</td>\n",
       "      <td>8</td>\n",
       "      <td>3</td>\n",
       "      <td>93</td>\n",
       "      <td>73</td>\n",
       "      <td>0.73</td>\n",
       "      <td>33.9</td>\n",
       "      <td>22.8</td>\n",
       "    </tr>\n",
       "    <tr>\n",
       "      <th>3</th>\n",
       "      <td>2024</td>\n",
       "      <td>8</td>\n",
       "      <td>4</td>\n",
       "      <td>83</td>\n",
       "      <td>71</td>\n",
       "      <td>0.17</td>\n",
       "      <td>28.3</td>\n",
       "      <td>21.7</td>\n",
       "    </tr>\n",
       "    <tr>\n",
       "      <th>4</th>\n",
       "      <td>2024</td>\n",
       "      <td>8</td>\n",
       "      <td>5</td>\n",
       "      <td>90</td>\n",
       "      <td>73</td>\n",
       "      <td>0.00</td>\n",
       "      <td>32.2</td>\n",
       "      <td>22.8</td>\n",
       "    </tr>\n",
       "  </tbody>\n",
       "</table>\n",
       "</div>"
      ],
      "text/plain": [
       "   year  month  day  max_F  min_F  precipitation  max_C  min_C\n",
       "0  2024      8    1     95     76           0.00   35.0   24.4\n",
       "1  2024      8    2     92     74           0.52   33.3   23.3\n",
       "2  2024      8    3     93     73           0.73   33.9   22.8\n",
       "3  2024      8    4     83     71           0.17   28.3   21.7\n",
       "4  2024      8    5     90     73           0.00   32.2   22.8"
      ]
     },
     "execution_count": 46,
     "metadata": {},
     "output_type": "execute_result"
    }
   ],
   "source": [
    "weather.head(5)"
   ]
  },
  {
   "cell_type": "code",
   "execution_count": 47,
   "id": "6b2aca0f",
   "metadata": {},
   "outputs": [
    {
     "ename": "MergeError",
     "evalue": "Passing 'suffixes' which cause duplicate columns {'max_F_x', 'min_F_x', 'precipitation_x', 'max_C_x', 'min_C_x'} is not allowed.",
     "output_type": "error",
     "traceback": [
      "\u001b[31m---------------------------------------------------------------------------\u001b[39m",
      "\u001b[31mMergeError\u001b[39m                                Traceback (most recent call last)",
      "\u001b[36mCell\u001b[39m\u001b[36m \u001b[39m\u001b[32mIn[47]\u001b[39m\u001b[32m, line 1\u001b[39m\n\u001b[32m----> \u001b[39m\u001b[32m1\u001b[39m df = \u001b[43mdf\u001b[49m\u001b[43m.\u001b[49m\u001b[43mmerge\u001b[49m\u001b[43m(\u001b[49m\u001b[43mweather\u001b[49m\u001b[43m,\u001b[49m\u001b[43m \u001b[49m\u001b[43mon\u001b[49m\u001b[43m=\u001b[49m\u001b[43m[\u001b[49m\u001b[33;43m'\u001b[39;49m\u001b[33;43myear\u001b[39;49m\u001b[33;43m'\u001b[39;49m\u001b[43m,\u001b[49m\u001b[43m \u001b[49m\u001b[33;43m'\u001b[39;49m\u001b[33;43mmonth\u001b[39;49m\u001b[33;43m'\u001b[39;49m\u001b[43m,\u001b[49m\u001b[43m \u001b[49m\u001b[33;43m'\u001b[39;49m\u001b[33;43mday\u001b[39;49m\u001b[33;43m'\u001b[39;49m\u001b[43m]\u001b[49m\u001b[43m,\u001b[49m\u001b[43m \u001b[49m\u001b[43mhow\u001b[49m\u001b[43m=\u001b[49m\u001b[33;43m'\u001b[39;49m\u001b[33;43mleft\u001b[39;49m\u001b[33;43m'\u001b[39;49m\u001b[43m)\u001b[49m\n",
      "\u001b[36mFile \u001b[39m\u001b[32m~/softeer_de_wiki/mission/W4/.venv/lib/python3.11/site-packages/pandas/core/frame.py:10839\u001b[39m, in \u001b[36mDataFrame.merge\u001b[39m\u001b[34m(self, right, how, on, left_on, right_on, left_index, right_index, sort, suffixes, copy, indicator, validate)\u001b[39m\n\u001b[32m  10820\u001b[39m \u001b[38;5;129m@Substitution\u001b[39m(\u001b[33m\"\u001b[39m\u001b[33m\"\u001b[39m)\n\u001b[32m  10821\u001b[39m \u001b[38;5;129m@Appender\u001b[39m(_merge_doc, indents=\u001b[32m2\u001b[39m)\n\u001b[32m  10822\u001b[39m \u001b[38;5;28;01mdef\u001b[39;00m\u001b[38;5;250m \u001b[39m\u001b[34mmerge\u001b[39m(\n\u001b[32m   (...)\u001b[39m\u001b[32m  10835\u001b[39m     validate: MergeValidate | \u001b[38;5;28;01mNone\u001b[39;00m = \u001b[38;5;28;01mNone\u001b[39;00m,\n\u001b[32m  10836\u001b[39m ) -> DataFrame:\n\u001b[32m  10837\u001b[39m     \u001b[38;5;28;01mfrom\u001b[39;00m\u001b[38;5;250m \u001b[39m\u001b[34;01mpandas\u001b[39;00m\u001b[34;01m.\u001b[39;00m\u001b[34;01mcore\u001b[39;00m\u001b[34;01m.\u001b[39;00m\u001b[34;01mreshape\u001b[39;00m\u001b[34;01m.\u001b[39;00m\u001b[34;01mmerge\u001b[39;00m\u001b[38;5;250m \u001b[39m\u001b[38;5;28;01mimport\u001b[39;00m merge\n\u001b[32m> \u001b[39m\u001b[32m10839\u001b[39m     \u001b[38;5;28;01mreturn\u001b[39;00m \u001b[43mmerge\u001b[49m\u001b[43m(\u001b[49m\n\u001b[32m  10840\u001b[39m \u001b[43m        \u001b[49m\u001b[38;5;28;43mself\u001b[39;49m\u001b[43m,\u001b[49m\n\u001b[32m  10841\u001b[39m \u001b[43m        \u001b[49m\u001b[43mright\u001b[49m\u001b[43m,\u001b[49m\n\u001b[32m  10842\u001b[39m \u001b[43m        \u001b[49m\u001b[43mhow\u001b[49m\u001b[43m=\u001b[49m\u001b[43mhow\u001b[49m\u001b[43m,\u001b[49m\n\u001b[32m  10843\u001b[39m \u001b[43m        \u001b[49m\u001b[43mon\u001b[49m\u001b[43m=\u001b[49m\u001b[43mon\u001b[49m\u001b[43m,\u001b[49m\n\u001b[32m  10844\u001b[39m \u001b[43m        \u001b[49m\u001b[43mleft_on\u001b[49m\u001b[43m=\u001b[49m\u001b[43mleft_on\u001b[49m\u001b[43m,\u001b[49m\n\u001b[32m  10845\u001b[39m \u001b[43m        \u001b[49m\u001b[43mright_on\u001b[49m\u001b[43m=\u001b[49m\u001b[43mright_on\u001b[49m\u001b[43m,\u001b[49m\n\u001b[32m  10846\u001b[39m \u001b[43m        \u001b[49m\u001b[43mleft_index\u001b[49m\u001b[43m=\u001b[49m\u001b[43mleft_index\u001b[49m\u001b[43m,\u001b[49m\n\u001b[32m  10847\u001b[39m \u001b[43m        \u001b[49m\u001b[43mright_index\u001b[49m\u001b[43m=\u001b[49m\u001b[43mright_index\u001b[49m\u001b[43m,\u001b[49m\n\u001b[32m  10848\u001b[39m \u001b[43m        \u001b[49m\u001b[43msort\u001b[49m\u001b[43m=\u001b[49m\u001b[43msort\u001b[49m\u001b[43m,\u001b[49m\n\u001b[32m  10849\u001b[39m \u001b[43m        \u001b[49m\u001b[43msuffixes\u001b[49m\u001b[43m=\u001b[49m\u001b[43msuffixes\u001b[49m\u001b[43m,\u001b[49m\n\u001b[32m  10850\u001b[39m \u001b[43m        \u001b[49m\u001b[43mcopy\u001b[49m\u001b[43m=\u001b[49m\u001b[43mcopy\u001b[49m\u001b[43m,\u001b[49m\n\u001b[32m  10851\u001b[39m \u001b[43m        \u001b[49m\u001b[43mindicator\u001b[49m\u001b[43m=\u001b[49m\u001b[43mindicator\u001b[49m\u001b[43m,\u001b[49m\n\u001b[32m  10852\u001b[39m \u001b[43m        \u001b[49m\u001b[43mvalidate\u001b[49m\u001b[43m=\u001b[49m\u001b[43mvalidate\u001b[49m\u001b[43m,\u001b[49m\n\u001b[32m  10853\u001b[39m \u001b[43m    \u001b[49m\u001b[43m)\u001b[49m\n",
      "\u001b[36mFile \u001b[39m\u001b[32m~/softeer_de_wiki/mission/W4/.venv/lib/python3.11/site-packages/pandas/core/reshape/merge.py:184\u001b[39m, in \u001b[36mmerge\u001b[39m\u001b[34m(left, right, how, on, left_on, right_on, left_index, right_index, sort, suffixes, copy, indicator, validate)\u001b[39m\n\u001b[32m    169\u001b[39m \u001b[38;5;28;01melse\u001b[39;00m:\n\u001b[32m    170\u001b[39m     op = _MergeOperation(\n\u001b[32m    171\u001b[39m         left_df,\n\u001b[32m    172\u001b[39m         right_df,\n\u001b[32m   (...)\u001b[39m\u001b[32m    182\u001b[39m         validate=validate,\n\u001b[32m    183\u001b[39m     )\n\u001b[32m--> \u001b[39m\u001b[32m184\u001b[39m     \u001b[38;5;28;01mreturn\u001b[39;00m \u001b[43mop\u001b[49m\u001b[43m.\u001b[49m\u001b[43mget_result\u001b[49m\u001b[43m(\u001b[49m\u001b[43mcopy\u001b[49m\u001b[43m=\u001b[49m\u001b[43mcopy\u001b[49m\u001b[43m)\u001b[49m\n",
      "\u001b[36mFile \u001b[39m\u001b[32m~/softeer_de_wiki/mission/W4/.venv/lib/python3.11/site-packages/pandas/core/reshape/merge.py:888\u001b[39m, in \u001b[36m_MergeOperation.get_result\u001b[39m\u001b[34m(self, copy)\u001b[39m\n\u001b[32m    884\u001b[39m     \u001b[38;5;28mself\u001b[39m.left, \u001b[38;5;28mself\u001b[39m.right = \u001b[38;5;28mself\u001b[39m._indicator_pre_merge(\u001b[38;5;28mself\u001b[39m.left, \u001b[38;5;28mself\u001b[39m.right)\n\u001b[32m    886\u001b[39m join_index, left_indexer, right_indexer = \u001b[38;5;28mself\u001b[39m._get_join_info()\n\u001b[32m--> \u001b[39m\u001b[32m888\u001b[39m result = \u001b[38;5;28;43mself\u001b[39;49m\u001b[43m.\u001b[49m\u001b[43m_reindex_and_concat\u001b[49m\u001b[43m(\u001b[49m\n\u001b[32m    889\u001b[39m \u001b[43m    \u001b[49m\u001b[43mjoin_index\u001b[49m\u001b[43m,\u001b[49m\u001b[43m \u001b[49m\u001b[43mleft_indexer\u001b[49m\u001b[43m,\u001b[49m\u001b[43m \u001b[49m\u001b[43mright_indexer\u001b[49m\u001b[43m,\u001b[49m\u001b[43m \u001b[49m\u001b[43mcopy\u001b[49m\u001b[43m=\u001b[49m\u001b[43mcopy\u001b[49m\n\u001b[32m    890\u001b[39m \u001b[43m\u001b[49m\u001b[43m)\u001b[49m\n\u001b[32m    891\u001b[39m result = result.__finalize__(\u001b[38;5;28mself\u001b[39m, method=\u001b[38;5;28mself\u001b[39m._merge_type)\n\u001b[32m    893\u001b[39m \u001b[38;5;28;01mif\u001b[39;00m \u001b[38;5;28mself\u001b[39m.indicator:\n",
      "\u001b[36mFile \u001b[39m\u001b[32m~/softeer_de_wiki/mission/W4/.venv/lib/python3.11/site-packages/pandas/core/reshape/merge.py:840\u001b[39m, in \u001b[36m_MergeOperation._reindex_and_concat\u001b[39m\u001b[34m(self, join_index, left_indexer, right_indexer, copy)\u001b[39m\n\u001b[32m    837\u001b[39m left = \u001b[38;5;28mself\u001b[39m.left[:]\n\u001b[32m    838\u001b[39m right = \u001b[38;5;28mself\u001b[39m.right[:]\n\u001b[32m--> \u001b[39m\u001b[32m840\u001b[39m llabels, rlabels = \u001b[43m_items_overlap_with_suffix\u001b[49m\u001b[43m(\u001b[49m\n\u001b[32m    841\u001b[39m \u001b[43m    \u001b[49m\u001b[38;5;28;43mself\u001b[39;49m\u001b[43m.\u001b[49m\u001b[43mleft\u001b[49m\u001b[43m.\u001b[49m\u001b[43m_info_axis\u001b[49m\u001b[43m,\u001b[49m\u001b[43m \u001b[49m\u001b[38;5;28;43mself\u001b[39;49m\u001b[43m.\u001b[49m\u001b[43mright\u001b[49m\u001b[43m.\u001b[49m\u001b[43m_info_axis\u001b[49m\u001b[43m,\u001b[49m\u001b[43m \u001b[49m\u001b[38;5;28;43mself\u001b[39;49m\u001b[43m.\u001b[49m\u001b[43msuffixes\u001b[49m\n\u001b[32m    842\u001b[39m \u001b[43m\u001b[49m\u001b[43m)\u001b[49m\n\u001b[32m    844\u001b[39m \u001b[38;5;28;01mif\u001b[39;00m left_indexer \u001b[38;5;129;01mis\u001b[39;00m \u001b[38;5;129;01mnot\u001b[39;00m \u001b[38;5;28;01mNone\u001b[39;00m \u001b[38;5;129;01mand\u001b[39;00m \u001b[38;5;129;01mnot\u001b[39;00m is_range_indexer(left_indexer, \u001b[38;5;28mlen\u001b[39m(left)):\n\u001b[32m    845\u001b[39m     \u001b[38;5;66;03m# Pinning the index here (and in the right code just below) is not\u001b[39;00m\n\u001b[32m    846\u001b[39m     \u001b[38;5;66;03m#  necessary, but makes the `.take` more performant if we have e.g.\u001b[39;00m\n\u001b[32m    847\u001b[39m     \u001b[38;5;66;03m#  a MultiIndex for left.index.\u001b[39;00m\n\u001b[32m    848\u001b[39m     lmgr = left._mgr.reindex_indexer(\n\u001b[32m    849\u001b[39m         join_index,\n\u001b[32m    850\u001b[39m         left_indexer,\n\u001b[32m   (...)\u001b[39m\u001b[32m    855\u001b[39m         use_na_proxy=\u001b[38;5;28;01mTrue\u001b[39;00m,\n\u001b[32m    856\u001b[39m     )\n",
      "\u001b[36mFile \u001b[39m\u001b[32m~/softeer_de_wiki/mission/W4/.venv/lib/python3.11/site-packages/pandas/core/reshape/merge.py:2757\u001b[39m, in \u001b[36m_items_overlap_with_suffix\u001b[39m\u001b[34m(left, right, suffixes)\u001b[39m\n\u001b[32m   2755\u001b[39m     dups.extend(rlabels[(rlabels.duplicated()) & (~right.duplicated())].tolist())\n\u001b[32m   2756\u001b[39m \u001b[38;5;28;01mif\u001b[39;00m dups:\n\u001b[32m-> \u001b[39m\u001b[32m2757\u001b[39m     \u001b[38;5;28;01mraise\u001b[39;00m MergeError(\n\u001b[32m   2758\u001b[39m         \u001b[33mf\u001b[39m\u001b[33m\"\u001b[39m\u001b[33mPassing \u001b[39m\u001b[33m'\u001b[39m\u001b[33msuffixes\u001b[39m\u001b[33m'\u001b[39m\u001b[33m which cause duplicate columns \u001b[39m\u001b[38;5;132;01m{\u001b[39;00m\u001b[38;5;28mset\u001b[39m(dups)\u001b[38;5;132;01m}\u001b[39;00m\u001b[33m is \u001b[39m\u001b[33m\"\u001b[39m\n\u001b[32m   2759\u001b[39m         \u001b[33mf\u001b[39m\u001b[33m\"\u001b[39m\u001b[33mnot allowed.\u001b[39m\u001b[33m\"\u001b[39m,\n\u001b[32m   2760\u001b[39m     )\n\u001b[32m   2762\u001b[39m \u001b[38;5;28;01mreturn\u001b[39;00m llabels, rlabels\n",
      "\u001b[31mMergeError\u001b[39m: Passing 'suffixes' which cause duplicate columns {'max_F_x', 'min_F_x', 'precipitation_x', 'max_C_x', 'min_C_x'} is not allowed."
     ]
    }
   ],
   "source": [
    "df = df.merge(weather, on=['year', 'month', 'day'], how='left')"
   ]
  },
  {
   "cell_type": "code",
   "execution_count": 48,
   "id": "def5553e",
   "metadata": {},
   "outputs": [
    {
     "data": {
      "application/vnd.microsoft.datawrangler.viewer.v0+json": {
       "columns": [
        {
         "name": "index",
         "rawType": "int64",
         "type": "integer"
        },
        {
         "name": "hvfhs_license_num",
         "rawType": "string",
         "type": "string"
        },
        {
         "name": "request_datetime",
         "rawType": "datetime64[us]",
         "type": "unknown"
        },
        {
         "name": "on_scene_datetime",
         "rawType": "datetime64[us]",
         "type": "unknown"
        },
        {
         "name": "pickup_datetime",
         "rawType": "datetime64[us]",
         "type": "unknown"
        },
        {
         "name": "dropoff_datetime",
         "rawType": "datetime64[us]",
         "type": "unknown"
        },
        {
         "name": "PULocationID",
         "rawType": "int32",
         "type": "integer"
        },
        {
         "name": "DOLocationID",
         "rawType": "int32",
         "type": "integer"
        },
        {
         "name": "trip_miles",
         "rawType": "float64",
         "type": "float"
        },
        {
         "name": "trip_time",
         "rawType": "int64",
         "type": "integer"
        },
        {
         "name": "base_passenger_fare",
         "rawType": "float64",
         "type": "float"
        },
        {
         "name": "tolls",
         "rawType": "float64",
         "type": "float"
        },
        {
         "name": "bcf",
         "rawType": "float64",
         "type": "float"
        },
        {
         "name": "sales_tax",
         "rawType": "float64",
         "type": "float"
        },
        {
         "name": "congestion_surcharge",
         "rawType": "float64",
         "type": "float"
        },
        {
         "name": "airport_fee",
         "rawType": "float64",
         "type": "float"
        },
        {
         "name": "tips",
         "rawType": "float64",
         "type": "float"
        },
        {
         "name": "driver_pay",
         "rawType": "float64",
         "type": "float"
        },
        {
         "name": "Taxi_Company",
         "rawType": "object",
         "type": "string"
        },
        {
         "name": "year",
         "rawType": "int32",
         "type": "integer"
        },
        {
         "name": "month",
         "rawType": "int32",
         "type": "integer"
        },
        {
         "name": "day",
         "rawType": "int32",
         "type": "integer"
        },
        {
         "name": "hour",
         "rawType": "int32",
         "type": "integer"
        },
        {
         "name": "season",
         "rawType": "object",
         "type": "string"
        },
        {
         "name": "PULocation",
         "rawType": "object",
         "type": "string"
        },
        {
         "name": "DOLocation",
         "rawType": "object",
         "type": "unknown"
        },
        {
         "name": "time_to_on_scene",
         "rawType": "float64",
         "type": "float"
        },
        {
         "name": "trip_km",
         "rawType": "float64",
         "type": "float"
        },
        {
         "name": "max_F_x",
         "rawType": "float64",
         "type": "float"
        },
        {
         "name": "min_F_x",
         "rawType": "float64",
         "type": "float"
        },
        {
         "name": "precipitation_x",
         "rawType": "float64",
         "type": "float"
        },
        {
         "name": "max_C_x",
         "rawType": "float64",
         "type": "float"
        },
        {
         "name": "min_C_x",
         "rawType": "float64",
         "type": "float"
        },
        {
         "name": "max_F_y",
         "rawType": "float64",
         "type": "float"
        },
        {
         "name": "min_F_y",
         "rawType": "float64",
         "type": "float"
        },
        {
         "name": "precipitation_y",
         "rawType": "float64",
         "type": "float"
        },
        {
         "name": "max_C_y",
         "rawType": "float64",
         "type": "float"
        },
        {
         "name": "min_C_y",
         "rawType": "float64",
         "type": "float"
        },
        {
         "name": "max_F",
         "rawType": "int64",
         "type": "integer"
        },
        {
         "name": "min_F",
         "rawType": "int64",
         "type": "integer"
        },
        {
         "name": "precipitation",
         "rawType": "float64",
         "type": "float"
        },
        {
         "name": "max_C",
         "rawType": "float64",
         "type": "float"
        },
        {
         "name": "min_C",
         "rawType": "float64",
         "type": "float"
        }
       ],
       "ref": "08f175ab-c2a4-4bb1-b6e3-c396143554aa",
       "rows": [
        [
         "0",
         "HV0003",
         "2024-01-01 01:48:48",
         "2024-01-01 01:50:14",
         "2024-01-01 01:51:03",
         "2024-01-01 02:04:52",
         "79",
         "233",
         "2.39",
         "0",
         "35.08",
         "0.0",
         "0.96",
         "3.11",
         "2.75",
         "0.0",
         "0.0",
         "36.27",
         "Uber",
         "2024",
         "1",
         "1",
         "1",
         "Winter",
         "Manhattan",
         "Manhattan",
         "1.0",
         "3.85",
         "47.0",
         "35.0",
         "0.03",
         "8.3",
         "1.7",
         "47.0",
         "35.0",
         "0.03",
         "8.3",
         "1.7",
         "47",
         "35",
         "0.03",
         "8.3",
         "1.7"
        ],
        [
         "1",
         "HV0003",
         "2024-01-09 08:51:17",
         "2024-01-09 08:53:57",
         "2024-01-09 08:54:31",
         "2024-01-09 09:07:00",
         "71",
         "72",
         "1.75",
         "0",
         "10.66",
         "0.0",
         "0.29",
         "0.95",
         "0.0",
         "0.0",
         "0.0",
         "9.34",
         "Uber",
         "2024",
         "1",
         "9",
         "8",
         "Winter",
         "Brooklyn",
         "Brooklyn",
         "3.0",
         "2.82",
         "57.0",
         "36.0",
         "1.73",
         "13.9",
         "2.2",
         "57.0",
         "36.0",
         "1.73",
         "13.9",
         "2.2",
         "57",
         "36",
         "1.73",
         "13.9",
         "2.2"
        ],
        [
         "2",
         "HV0003",
         "2024-01-01 10:34:11",
         "2024-01-01 10:40:38",
         "2024-01-01 10:42:16",
         "2024-01-01 11:41:25",
         "132",
         "265",
         "38.9",
         "0",
         "136.89",
         "28.5",
         "4.62",
         "0.0",
         "0.0",
         "2.5",
         "0.0",
         "91.85",
         "Uber",
         "2024",
         "1",
         "1",
         "10",
         "Winter",
         "Queens",
         null,
         "6.0",
         "62.6",
         "47.0",
         "35.0",
         "0.03",
         "8.3",
         "1.7",
         "47.0",
         "35.0",
         "0.03",
         "8.3",
         "1.7",
         "47",
         "35",
         "0.03",
         "8.3",
         "1.7"
        ],
        [
         "3",
         "HV0003",
         "2024-01-08 08:47:58",
         "2024-01-08 08:53:18",
         "2024-01-08 08:53:18",
         "2024-01-08 09:25:12",
         "112",
         "177",
         "4.53",
         "0",
         "32.23",
         "0.0",
         "0.89",
         "2.86",
         "0.0",
         "0.0",
         "7.19",
         "26.94",
         "Uber",
         "2024",
         "1",
         "8",
         "8",
         "Winter",
         "Brooklyn",
         "Brooklyn",
         "5.0",
         "7.29",
         "45.0",
         "36.0",
         "0.0",
         "7.2",
         "2.2",
         "45.0",
         "36.0",
         "0.0",
         "7.2",
         "2.2",
         "45",
         "36",
         "0.0",
         "7.2",
         "2.2"
        ],
        [
         "4",
         "HV0003",
         "2024-01-07 19:10:17",
         "2024-01-07 19:12:17",
         "2024-01-07 19:12:39",
         "2024-01-07 19:17:43",
         "263",
         "141",
         "0.89",
         "0",
         "8.19",
         "0.0",
         "0.23",
         "0.73",
         "2.75",
         "0.0",
         "0.0",
         "5.75",
         "Uber",
         "2024",
         "1",
         "7",
         "19",
         "Winter",
         "Manhattan",
         "Manhattan",
         "2.0",
         "1.43",
         "38.0",
         "34.0",
         "0.24",
         "3.3",
         "1.1",
         "38.0",
         "34.0",
         "0.24",
         "3.3",
         "1.1",
         "38",
         "34",
         "0.24",
         "3.3",
         "1.1"
        ]
       ],
       "shape": {
        "columns": 42,
        "rows": 5
       }
      },
      "text/html": [
       "<div>\n",
       "<style scoped>\n",
       "    .dataframe tbody tr th:only-of-type {\n",
       "        vertical-align: middle;\n",
       "    }\n",
       "\n",
       "    .dataframe tbody tr th {\n",
       "        vertical-align: top;\n",
       "    }\n",
       "\n",
       "    .dataframe thead th {\n",
       "        text-align: right;\n",
       "    }\n",
       "</style>\n",
       "<table border=\"1\" class=\"dataframe\">\n",
       "  <thead>\n",
       "    <tr style=\"text-align: right;\">\n",
       "      <th></th>\n",
       "      <th>hvfhs_license_num</th>\n",
       "      <th>request_datetime</th>\n",
       "      <th>on_scene_datetime</th>\n",
       "      <th>pickup_datetime</th>\n",
       "      <th>dropoff_datetime</th>\n",
       "      <th>PULocationID</th>\n",
       "      <th>DOLocationID</th>\n",
       "      <th>trip_miles</th>\n",
       "      <th>trip_time</th>\n",
       "      <th>base_passenger_fare</th>\n",
       "      <th>...</th>\n",
       "      <th>max_F_y</th>\n",
       "      <th>min_F_y</th>\n",
       "      <th>precipitation_y</th>\n",
       "      <th>max_C_y</th>\n",
       "      <th>min_C_y</th>\n",
       "      <th>max_F</th>\n",
       "      <th>min_F</th>\n",
       "      <th>precipitation</th>\n",
       "      <th>max_C</th>\n",
       "      <th>min_C</th>\n",
       "    </tr>\n",
       "  </thead>\n",
       "  <tbody>\n",
       "    <tr>\n",
       "      <th>0</th>\n",
       "      <td>HV0003</td>\n",
       "      <td>2024-01-01 01:48:48</td>\n",
       "      <td>2024-01-01 01:50:14</td>\n",
       "      <td>2024-01-01 01:51:03</td>\n",
       "      <td>2024-01-01 02:04:52</td>\n",
       "      <td>79</td>\n",
       "      <td>233</td>\n",
       "      <td>2.39</td>\n",
       "      <td>0</td>\n",
       "      <td>35.08</td>\n",
       "      <td>...</td>\n",
       "      <td>47.0</td>\n",
       "      <td>35.0</td>\n",
       "      <td>0.03</td>\n",
       "      <td>8.3</td>\n",
       "      <td>1.7</td>\n",
       "      <td>47</td>\n",
       "      <td>35</td>\n",
       "      <td>0.03</td>\n",
       "      <td>8.3</td>\n",
       "      <td>1.7</td>\n",
       "    </tr>\n",
       "    <tr>\n",
       "      <th>1</th>\n",
       "      <td>HV0003</td>\n",
       "      <td>2024-01-09 08:51:17</td>\n",
       "      <td>2024-01-09 08:53:57</td>\n",
       "      <td>2024-01-09 08:54:31</td>\n",
       "      <td>2024-01-09 09:07:00</td>\n",
       "      <td>71</td>\n",
       "      <td>72</td>\n",
       "      <td>1.75</td>\n",
       "      <td>0</td>\n",
       "      <td>10.66</td>\n",
       "      <td>...</td>\n",
       "      <td>57.0</td>\n",
       "      <td>36.0</td>\n",
       "      <td>1.73</td>\n",
       "      <td>13.9</td>\n",
       "      <td>2.2</td>\n",
       "      <td>57</td>\n",
       "      <td>36</td>\n",
       "      <td>1.73</td>\n",
       "      <td>13.9</td>\n",
       "      <td>2.2</td>\n",
       "    </tr>\n",
       "    <tr>\n",
       "      <th>2</th>\n",
       "      <td>HV0003</td>\n",
       "      <td>2024-01-01 10:34:11</td>\n",
       "      <td>2024-01-01 10:40:38</td>\n",
       "      <td>2024-01-01 10:42:16</td>\n",
       "      <td>2024-01-01 11:41:25</td>\n",
       "      <td>132</td>\n",
       "      <td>265</td>\n",
       "      <td>38.90</td>\n",
       "      <td>0</td>\n",
       "      <td>136.89</td>\n",
       "      <td>...</td>\n",
       "      <td>47.0</td>\n",
       "      <td>35.0</td>\n",
       "      <td>0.03</td>\n",
       "      <td>8.3</td>\n",
       "      <td>1.7</td>\n",
       "      <td>47</td>\n",
       "      <td>35</td>\n",
       "      <td>0.03</td>\n",
       "      <td>8.3</td>\n",
       "      <td>1.7</td>\n",
       "    </tr>\n",
       "    <tr>\n",
       "      <th>3</th>\n",
       "      <td>HV0003</td>\n",
       "      <td>2024-01-08 08:47:58</td>\n",
       "      <td>2024-01-08 08:53:18</td>\n",
       "      <td>2024-01-08 08:53:18</td>\n",
       "      <td>2024-01-08 09:25:12</td>\n",
       "      <td>112</td>\n",
       "      <td>177</td>\n",
       "      <td>4.53</td>\n",
       "      <td>0</td>\n",
       "      <td>32.23</td>\n",
       "      <td>...</td>\n",
       "      <td>45.0</td>\n",
       "      <td>36.0</td>\n",
       "      <td>0.00</td>\n",
       "      <td>7.2</td>\n",
       "      <td>2.2</td>\n",
       "      <td>45</td>\n",
       "      <td>36</td>\n",
       "      <td>0.00</td>\n",
       "      <td>7.2</td>\n",
       "      <td>2.2</td>\n",
       "    </tr>\n",
       "    <tr>\n",
       "      <th>4</th>\n",
       "      <td>HV0003</td>\n",
       "      <td>2024-01-07 19:10:17</td>\n",
       "      <td>2024-01-07 19:12:17</td>\n",
       "      <td>2024-01-07 19:12:39</td>\n",
       "      <td>2024-01-07 19:17:43</td>\n",
       "      <td>263</td>\n",
       "      <td>141</td>\n",
       "      <td>0.89</td>\n",
       "      <td>0</td>\n",
       "      <td>8.19</td>\n",
       "      <td>...</td>\n",
       "      <td>38.0</td>\n",
       "      <td>34.0</td>\n",
       "      <td>0.24</td>\n",
       "      <td>3.3</td>\n",
       "      <td>1.1</td>\n",
       "      <td>38</td>\n",
       "      <td>34</td>\n",
       "      <td>0.24</td>\n",
       "      <td>3.3</td>\n",
       "      <td>1.1</td>\n",
       "    </tr>\n",
       "  </tbody>\n",
       "</table>\n",
       "<p>5 rows × 42 columns</p>\n",
       "</div>"
      ],
      "text/plain": [
       "  hvfhs_license_num    request_datetime   on_scene_datetime  \\\n",
       "0            HV0003 2024-01-01 01:48:48 2024-01-01 01:50:14   \n",
       "1            HV0003 2024-01-09 08:51:17 2024-01-09 08:53:57   \n",
       "2            HV0003 2024-01-01 10:34:11 2024-01-01 10:40:38   \n",
       "3            HV0003 2024-01-08 08:47:58 2024-01-08 08:53:18   \n",
       "4            HV0003 2024-01-07 19:10:17 2024-01-07 19:12:17   \n",
       "\n",
       "      pickup_datetime    dropoff_datetime  PULocationID  DOLocationID  \\\n",
       "0 2024-01-01 01:51:03 2024-01-01 02:04:52            79           233   \n",
       "1 2024-01-09 08:54:31 2024-01-09 09:07:00            71            72   \n",
       "2 2024-01-01 10:42:16 2024-01-01 11:41:25           132           265   \n",
       "3 2024-01-08 08:53:18 2024-01-08 09:25:12           112           177   \n",
       "4 2024-01-07 19:12:39 2024-01-07 19:17:43           263           141   \n",
       "\n",
       "   trip_miles  trip_time  base_passenger_fare  ...  max_F_y  min_F_y  \\\n",
       "0        2.39          0                35.08  ...     47.0     35.0   \n",
       "1        1.75          0                10.66  ...     57.0     36.0   \n",
       "2       38.90          0               136.89  ...     47.0     35.0   \n",
       "3        4.53          0                32.23  ...     45.0     36.0   \n",
       "4        0.89          0                 8.19  ...     38.0     34.0   \n",
       "\n",
       "   precipitation_y  max_C_y  min_C_y  max_F  min_F precipitation  max_C  min_C  \n",
       "0             0.03      8.3      1.7     47     35          0.03    8.3    1.7  \n",
       "1             1.73     13.9      2.2     57     36          1.73   13.9    2.2  \n",
       "2             0.03      8.3      1.7     47     35          0.03    8.3    1.7  \n",
       "3             0.00      7.2      2.2     45     36          0.00    7.2    2.2  \n",
       "4             0.24      3.3      1.1     38     34          0.24    3.3    1.1  \n",
       "\n",
       "[5 rows x 42 columns]"
      ]
     },
     "execution_count": 48,
     "metadata": {},
     "output_type": "execute_result"
    }
   ],
   "source": [
    "df.head(5)"
   ]
  },
  {
   "cell_type": "code",
   "execution_count": 51,
   "id": "7b551d9d",
   "metadata": {},
   "outputs": [
    {
     "data": {
      "image/png": "[encoded data removed]",
      "text/plain": [
       "<Figure size 600x300 with 1 Axes>"
      ]
     },
     "metadata": {},
     "output_type": "display_data"
    }
   ],
   "source": [
    "import seaborn as sns\n",
    "\n",
    "plt.figure(figsize=(6, 3))\n",
    "sns.histplot(data=df, x='max_C', bins=30, kde=True, color='blue', stat='density')\n",
    "plt.title('Distribution of Maximum Temperature (Celsius)')\n",
    "plt.xlabel('Maximum Temperature (Celsius)')\n",
    "plt.ylabel('Density')\n",
    "plt.grid(axis='y', linestyle='--', alpha=0.7)\n",
    "plt.show()"
   ]
  },
  {
   "cell_type": "code",
   "execution_count": 52,
   "id": "4e87bef8",
   "metadata": {},
   "outputs": [
    {
     "data": {
      "image/png": "[encoded data removed]",
      "text/plain": [
       "<Figure size 600x300 with 1 Axes>"
      ]
     },
     "metadata": {},
     "output_type": "display_data"
    }
   ],
   "source": [
    "plt.figure(figsize=(6, 3))\n",
    "sns.histplot(data=df, x='precipitation', bins=30, kde=True, color='green', stat='density')\n",
    "plt.title('Distribution of Precipitation')\n",
    "plt.xlabel('Precipitation (inches)')\n",
    "plt.ylabel('Density')\n",
    "plt.grid(axis='y', linestyle='--', alpha=0.7)\n",
    "plt.show()"
   ]
  },
  {
   "cell_type": "code",
   "execution_count": null,
   "id": "5eb4b5f3",
   "metadata": {},
   "outputs": [],
   "source": []
  }
 ],
 "metadata": {
  "kernelspec": {
   "display_name": "Pyspark",
   "language": "python",
   "name": "pyspark"
  },
  "language_info": {
   "codemirror_mode": {
    "name": "ipython",
    "version": 3
   },
   "file_extension": ".py",
   "mimetype": "text/x-python",
   "name": "python",
   "nbconvert_exporter": "python",
   "pygments_lexer": "ipython3",
   "version": "3.11.13"
  }
 },
 "nbformat": 4,
 "nbformat_minor": 5
}
