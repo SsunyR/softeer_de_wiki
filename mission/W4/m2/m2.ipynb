{
 "cells": [
  {
   "cell_type": "code",
   "execution_count": 21,
   "id": "2c9b3d3f",
   "metadata": {},
   "outputs": [],
   "source": [
    "import pandas as pd\n",
    "from pyarrow import parquet as pq"
   ]
  },
  {
   "cell_type": "code",
   "execution_count": 22,
   "id": "e6c1718c",
   "metadata": {},
   "outputs": [],
   "source": [
    "df = pq.read_table(\"/Users/admin/softeer_de_wiki/mission/W4/m2/shared/data/fhv_tripdata_2024_1278/fhvhv_tripdata_2024-01.parquet\").to_pandas()"
   ]
  },
  {
   "cell_type": "code",
   "execution_count": 23,
   "id": "b776840f",
   "metadata": {},
   "outputs": [
    {
     "data": {
      "application/vnd.microsoft.datawrangler.viewer.v0+json": {
       "columns": [
        {
         "name": "index",
         "rawType": "int64",
         "type": "integer"
        },
        {
         "name": "hvfhs_license_num",
         "rawType": "object",
         "type": "string"
        },
        {
         "name": "dispatching_base_num",
         "rawType": "object",
         "type": "string"
        },
        {
         "name": "originating_base_num",
         "rawType": "object",
         "type": "string"
        },
        {
         "name": "request_datetime",
         "rawType": "datetime64[us]",
         "type": "unknown"
        },
        {
         "name": "on_scene_datetime",
         "rawType": "datetime64[us]",
         "type": "unknown"
        },
        {
         "name": "pickup_datetime",
         "rawType": "datetime64[us]",
         "type": "unknown"
        },
        {
         "name": "dropoff_datetime",
         "rawType": "datetime64[us]",
         "type": "unknown"
        },
        {
         "name": "PULocationID",
         "rawType": "int32",
         "type": "integer"
        },
        {
         "name": "DOLocationID",
         "rawType": "int32",
         "type": "integer"
        },
        {
         "name": "trip_miles",
         "rawType": "float64",
         "type": "float"
        },
        {
         "name": "trip_time",
         "rawType": "int64",
         "type": "integer"
        },
        {
         "name": "base_passenger_fare",
         "rawType": "float64",
         "type": "float"
        },
        {
         "name": "tolls",
         "rawType": "float64",
         "type": "float"
        },
        {
         "name": "bcf",
         "rawType": "float64",
         "type": "float"
        },
        {
         "name": "sales_tax",
         "rawType": "float64",
         "type": "float"
        },
        {
         "name": "congestion_surcharge",
         "rawType": "float64",
         "type": "float"
        },
        {
         "name": "airport_fee",
         "rawType": "float64",
         "type": "float"
        },
        {
         "name": "tips",
         "rawType": "float64",
         "type": "float"
        },
        {
         "name": "driver_pay",
         "rawType": "float64",
         "type": "float"
        },
        {
         "name": "shared_request_flag",
         "rawType": "object",
         "type": "string"
        },
        {
         "name": "shared_match_flag",
         "rawType": "object",
         "type": "string"
        },
        {
         "name": "access_a_ride_flag",
         "rawType": "object",
         "type": "string"
        },
        {
         "name": "wav_request_flag",
         "rawType": "object",
         "type": "string"
        },
        {
         "name": "wav_match_flag",
         "rawType": "object",
         "type": "string"
        }
       ],
       "ref": "087a77b9-87d8-45ac-8ca1-b21d0936acc2",
       "rows": [
        [
         "0",
         "HV0003",
         "B03404",
         "B03404",
         "2024-01-01 00:21:47",
         "2024-01-01 00:25:06",
         "2024-01-01 00:28:08",
         "2024-01-01 01:05:39",
         "161",
         "158",
         "2.83",
         "2251",
         "45.61",
         "0.0",
         "1.25",
         "4.05",
         "2.75",
         "0.0",
         "0.0",
         "40.18",
         "N",
         "N",
         "N",
         "N",
         "N"
        ],
        [
         "1",
         "HV0003",
         "B03404",
         "B03404",
         "2024-01-01 00:10:56",
         "2024-01-01 00:11:08",
         "2024-01-01 00:12:53",
         "2024-01-01 00:20:05",
         "137",
         "79",
         "1.57",
         "432",
         "10.05",
         "0.0",
         "0.28",
         "0.89",
         "2.75",
         "0.0",
         "0.0",
         "6.12",
         "N",
         "N",
         "N",
         "N",
         "N"
        ],
        [
         "2",
         "HV0003",
         "B03404",
         "B03404",
         "2024-01-01 00:20:04",
         "2024-01-01 00:21:51",
         "2024-01-01 00:23:05",
         "2024-01-01 00:35:16",
         "79",
         "186",
         "1.98",
         "731",
         "18.07",
         "0.0",
         "0.5",
         "1.6",
         "2.75",
         "0.0",
         "0.0",
         "9.47",
         "N",
         "N",
         "N",
         "N",
         "N"
        ],
        [
         "3",
         "HV0003",
         "B03404",
         "B03404",
         "2024-01-01 00:35:46",
         "2024-01-01 00:39:59",
         "2024-01-01 00:41:04",
         "2024-01-01 00:56:34",
         "234",
         "148",
         "1.99",
         "930",
         "17.17",
         "0.0",
         "0.47",
         "1.52",
         "2.75",
         "0.0",
         "0.0",
         "11.35",
         "N",
         "N",
         "N",
         "N",
         "N"
        ],
        [
         "4",
         "HV0003",
         "B03404",
         "B03404",
         "2024-01-01 00:48:19",
         "2024-01-01 00:56:23",
         "2024-01-01 00:57:21",
         "2024-01-01 01:10:02",
         "148",
         "97",
         "2.65",
         "761",
         "38.67",
         "0.0",
         "1.06",
         "3.43",
         "2.75",
         "0.0",
         "0.0",
         "28.63",
         "N",
         "N",
         "N",
         "N",
         "N"
        ]
       ],
       "shape": {
        "columns": 24,
        "rows": 5
       }
      },
      "text/html": [
       "<div>\n",
       "<style scoped>\n",
       "    .dataframe tbody tr th:only-of-type {\n",
       "        vertical-align: middle;\n",
       "    }\n",
       "\n",
       "    .dataframe tbody tr th {\n",
       "        vertical-align: top;\n",
       "    }\n",
       "\n",
       "    .dataframe thead th {\n",
       "        text-align: right;\n",
       "    }\n",
       "</style>\n",
       "<table border=\"1\" class=\"dataframe\">\n",
       "  <thead>\n",
       "    <tr style=\"text-align: right;\">\n",
       "      <th></th>\n",
       "      <th>hvfhs_license_num</th>\n",
       "      <th>dispatching_base_num</th>\n",
       "      <th>originating_base_num</th>\n",
       "      <th>request_datetime</th>\n",
       "      <th>on_scene_datetime</th>\n",
       "      <th>pickup_datetime</th>\n",
       "      <th>dropoff_datetime</th>\n",
       "      <th>PULocationID</th>\n",
       "      <th>DOLocationID</th>\n",
       "      <th>trip_miles</th>\n",
       "      <th>...</th>\n",
       "      <th>sales_tax</th>\n",
       "      <th>congestion_surcharge</th>\n",
       "      <th>airport_fee</th>\n",
       "      <th>tips</th>\n",
       "      <th>driver_pay</th>\n",
       "      <th>shared_request_flag</th>\n",
       "      <th>shared_match_flag</th>\n",
       "      <th>access_a_ride_flag</th>\n",
       "      <th>wav_request_flag</th>\n",
       "      <th>wav_match_flag</th>\n",
       "    </tr>\n",
       "  </thead>\n",
       "  <tbody>\n",
       "    <tr>\n",
       "      <th>0</th>\n",
       "      <td>HV0003</td>\n",
       "      <td>B03404</td>\n",
       "      <td>B03404</td>\n",
       "      <td>2024-01-01 00:21:47</td>\n",
       "      <td>2024-01-01 00:25:06</td>\n",
       "      <td>2024-01-01 00:28:08</td>\n",
       "      <td>2024-01-01 01:05:39</td>\n",
       "      <td>161</td>\n",
       "      <td>158</td>\n",
       "      <td>2.83</td>\n",
       "      <td>...</td>\n",
       "      <td>4.05</td>\n",
       "      <td>2.75</td>\n",
       "      <td>0.0</td>\n",
       "      <td>0.0</td>\n",
       "      <td>40.18</td>\n",
       "      <td>N</td>\n",
       "      <td>N</td>\n",
       "      <td>N</td>\n",
       "      <td>N</td>\n",
       "      <td>N</td>\n",
       "    </tr>\n",
       "    <tr>\n",
       "      <th>1</th>\n",
       "      <td>HV0003</td>\n",
       "      <td>B03404</td>\n",
       "      <td>B03404</td>\n",
       "      <td>2024-01-01 00:10:56</td>\n",
       "      <td>2024-01-01 00:11:08</td>\n",
       "      <td>2024-01-01 00:12:53</td>\n",
       "      <td>2024-01-01 00:20:05</td>\n",
       "      <td>137</td>\n",
       "      <td>79</td>\n",
       "      <td>1.57</td>\n",
       "      <td>...</td>\n",
       "      <td>0.89</td>\n",
       "      <td>2.75</td>\n",
       "      <td>0.0</td>\n",
       "      <td>0.0</td>\n",
       "      <td>6.12</td>\n",
       "      <td>N</td>\n",
       "      <td>N</td>\n",
       "      <td>N</td>\n",
       "      <td>N</td>\n",
       "      <td>N</td>\n",
       "    </tr>\n",
       "    <tr>\n",
       "      <th>2</th>\n",
       "      <td>HV0003</td>\n",
       "      <td>B03404</td>\n",
       "      <td>B03404</td>\n",
       "      <td>2024-01-01 00:20:04</td>\n",
       "      <td>2024-01-01 00:21:51</td>\n",
       "      <td>2024-01-01 00:23:05</td>\n",
       "      <td>2024-01-01 00:35:16</td>\n",
       "      <td>79</td>\n",
       "      <td>186</td>\n",
       "      <td>1.98</td>\n",
       "      <td>...</td>\n",
       "      <td>1.60</td>\n",
       "      <td>2.75</td>\n",
       "      <td>0.0</td>\n",
       "      <td>0.0</td>\n",
       "      <td>9.47</td>\n",
       "      <td>N</td>\n",
       "      <td>N</td>\n",
       "      <td>N</td>\n",
       "      <td>N</td>\n",
       "      <td>N</td>\n",
       "    </tr>\n",
       "    <tr>\n",
       "      <th>3</th>\n",
       "      <td>HV0003</td>\n",
       "      <td>B03404</td>\n",
       "      <td>B03404</td>\n",
       "      <td>2024-01-01 00:35:46</td>\n",
       "      <td>2024-01-01 00:39:59</td>\n",
       "      <td>2024-01-01 00:41:04</td>\n",
       "      <td>2024-01-01 00:56:34</td>\n",
       "      <td>234</td>\n",
       "      <td>148</td>\n",
       "      <td>1.99</td>\n",
       "      <td>...</td>\n",
       "      <td>1.52</td>\n",
       "      <td>2.75</td>\n",
       "      <td>0.0</td>\n",
       "      <td>0.0</td>\n",
       "      <td>11.35</td>\n",
       "      <td>N</td>\n",
       "      <td>N</td>\n",
       "      <td>N</td>\n",
       "      <td>N</td>\n",
       "      <td>N</td>\n",
       "    </tr>\n",
       "    <tr>\n",
       "      <th>4</th>\n",
       "      <td>HV0003</td>\n",
       "      <td>B03404</td>\n",
       "      <td>B03404</td>\n",
       "      <td>2024-01-01 00:48:19</td>\n",
       "      <td>2024-01-01 00:56:23</td>\n",
       "      <td>2024-01-01 00:57:21</td>\n",
       "      <td>2024-01-01 01:10:02</td>\n",
       "      <td>148</td>\n",
       "      <td>97</td>\n",
       "      <td>2.65</td>\n",
       "      <td>...</td>\n",
       "      <td>3.43</td>\n",
       "      <td>2.75</td>\n",
       "      <td>0.0</td>\n",
       "      <td>0.0</td>\n",
       "      <td>28.63</td>\n",
       "      <td>N</td>\n",
       "      <td>N</td>\n",
       "      <td>N</td>\n",
       "      <td>N</td>\n",
       "      <td>N</td>\n",
       "    </tr>\n",
       "  </tbody>\n",
       "</table>\n",
       "<p>5 rows × 24 columns</p>\n",
       "</div>"
      ],
      "text/plain": [
       "  hvfhs_license_num dispatching_base_num originating_base_num  \\\n",
       "0            HV0003               B03404               B03404   \n",
       "1            HV0003               B03404               B03404   \n",
       "2            HV0003               B03404               B03404   \n",
       "3            HV0003               B03404               B03404   \n",
       "4            HV0003               B03404               B03404   \n",
       "\n",
       "     request_datetime   on_scene_datetime     pickup_datetime  \\\n",
       "0 2024-01-01 00:21:47 2024-01-01 00:25:06 2024-01-01 00:28:08   \n",
       "1 2024-01-01 00:10:56 2024-01-01 00:11:08 2024-01-01 00:12:53   \n",
       "2 2024-01-01 00:20:04 2024-01-01 00:21:51 2024-01-01 00:23:05   \n",
       "3 2024-01-01 00:35:46 2024-01-01 00:39:59 2024-01-01 00:41:04   \n",
       "4 2024-01-01 00:48:19 2024-01-01 00:56:23 2024-01-01 00:57:21   \n",
       "\n",
       "     dropoff_datetime  PULocationID  DOLocationID  trip_miles  ...  sales_tax  \\\n",
       "0 2024-01-01 01:05:39           161           158        2.83  ...       4.05   \n",
       "1 2024-01-01 00:20:05           137            79        1.57  ...       0.89   \n",
       "2 2024-01-01 00:35:16            79           186        1.98  ...       1.60   \n",
       "3 2024-01-01 00:56:34           234           148        1.99  ...       1.52   \n",
       "4 2024-01-01 01:10:02           148            97        2.65  ...       3.43   \n",
       "\n",
       "   congestion_surcharge  airport_fee  tips  driver_pay  shared_request_flag  \\\n",
       "0                  2.75          0.0   0.0       40.18                    N   \n",
       "1                  2.75          0.0   0.0        6.12                    N   \n",
       "2                  2.75          0.0   0.0        9.47                    N   \n",
       "3                  2.75          0.0   0.0       11.35                    N   \n",
       "4                  2.75          0.0   0.0       28.63                    N   \n",
       "\n",
       "   shared_match_flag  access_a_ride_flag  wav_request_flag wav_match_flag  \n",
       "0                  N                   N                 N              N  \n",
       "1                  N                   N                 N              N  \n",
       "2                  N                   N                 N              N  \n",
       "3                  N                   N                 N              N  \n",
       "4                  N                   N                 N              N  \n",
       "\n",
       "[5 rows x 24 columns]"
      ]
     },
     "execution_count": 23,
     "metadata": {},
     "output_type": "execute_result"
    }
   ],
   "source": [
    "df.head(5)"
   ]
  },
  {
   "cell_type": "code",
   "execution_count": 24,
   "id": "523647ae",
   "metadata": {},
   "outputs": [
    {
     "data": {
      "application/vnd.microsoft.datawrangler.viewer.v0+json": {
       "columns": [
        {
         "name": "index",
         "rawType": "object",
         "type": "string"
        },
        {
         "name": "0",
         "rawType": "int64",
         "type": "integer"
        }
       ],
       "ref": "bb47eef3-e8da-4422-97ef-813b5d45475a",
       "rows": [
        [
         "hvfhs_license_num",
         "0"
        ],
        [
         "dispatching_base_num",
         "0"
        ],
        [
         "originating_base_num",
         "5218737"
        ],
        [
         "request_datetime",
         "0"
        ],
        [
         "on_scene_datetime",
         "5218737"
        ],
        [
         "pickup_datetime",
         "0"
        ],
        [
         "dropoff_datetime",
         "0"
        ],
        [
         "PULocationID",
         "0"
        ],
        [
         "DOLocationID",
         "0"
        ],
        [
         "trip_miles",
         "0"
        ],
        [
         "trip_time",
         "0"
        ],
        [
         "base_passenger_fare",
         "0"
        ],
        [
         "tolls",
         "0"
        ],
        [
         "bcf",
         "0"
        ],
        [
         "sales_tax",
         "0"
        ],
        [
         "congestion_surcharge",
         "0"
        ],
        [
         "airport_fee",
         "0"
        ],
        [
         "tips",
         "0"
        ],
        [
         "driver_pay",
         "0"
        ],
        [
         "shared_request_flag",
         "0"
        ],
        [
         "shared_match_flag",
         "0"
        ],
        [
         "access_a_ride_flag",
         "0"
        ],
        [
         "wav_request_flag",
         "0"
        ],
        [
         "wav_match_flag",
         "0"
        ]
       ],
       "shape": {
        "columns": 1,
        "rows": 24
       }
      },
      "text/plain": [
       "hvfhs_license_num             0\n",
       "dispatching_base_num          0\n",
       "originating_base_num    5218737\n",
       "request_datetime              0\n",
       "on_scene_datetime       5218737\n",
       "pickup_datetime               0\n",
       "dropoff_datetime              0\n",
       "PULocationID                  0\n",
       "DOLocationID                  0\n",
       "trip_miles                    0\n",
       "trip_time                     0\n",
       "base_passenger_fare           0\n",
       "tolls                         0\n",
       "bcf                           0\n",
       "sales_tax                     0\n",
       "congestion_surcharge          0\n",
       "airport_fee                   0\n",
       "tips                          0\n",
       "driver_pay                    0\n",
       "shared_request_flag           0\n",
       "shared_match_flag             0\n",
       "access_a_ride_flag            0\n",
       "wav_request_flag              0\n",
       "wav_match_flag                0\n",
       "dtype: int64"
      ]
     },
     "execution_count": 24,
     "metadata": {},
     "output_type": "execute_result"
    }
   ],
   "source": [
    "# check null values\n",
    "df.isnull().sum()\n",
    "\n",
    "# 손님 수가 0인 행 삭제"
   ]
  },
  {
   "cell_type": "code",
   "execution_count": 25,
   "id": "5bd7f242",
   "metadata": {},
   "outputs": [
    {
     "name": "stdout",
     "output_type": "stream",
     "text": [
      "<class 'pandas.core.frame.DataFrame'>\n",
      "RangeIndex: 19663930 entries, 0 to 19663929\n",
      "Data columns (total 24 columns):\n",
      " #   Column                Dtype         \n",
      "---  ------                -----         \n",
      " 0   hvfhs_license_num     object        \n",
      " 1   dispatching_base_num  object        \n",
      " 2   originating_base_num  object        \n",
      " 3   request_datetime      datetime64[us]\n",
      " 4   on_scene_datetime     datetime64[us]\n",
      " 5   pickup_datetime       datetime64[us]\n",
      " 6   dropoff_datetime      datetime64[us]\n",
      " 7   PULocationID          int32         \n",
      " 8   DOLocationID          int32         \n",
      " 9   trip_miles            float64       \n",
      " 10  trip_time             int64         \n",
      " 11  base_passenger_fare   float64       \n",
      " 12  tolls                 float64       \n",
      " 13  bcf                   float64       \n",
      " 14  sales_tax             float64       \n",
      " 15  congestion_surcharge  float64       \n",
      " 16  airport_fee           float64       \n",
      " 17  tips                  float64       \n",
      " 18  driver_pay            float64       \n",
      " 19  shared_request_flag   object        \n",
      " 20  shared_match_flag     object        \n",
      " 21  access_a_ride_flag    object        \n",
      " 22  wav_request_flag      object        \n",
      " 23  wav_match_flag        object        \n",
      "dtypes: datetime64[us](4), float64(9), int32(2), int64(1), object(8)\n",
      "memory usage: 3.4+ GB\n"
     ]
    }
   ],
   "source": [
    "df.info()"
   ]
  },
  {
   "cell_type": "code",
   "execution_count": 26,
   "id": "d2efb034",
   "metadata": {},
   "outputs": [
    {
     "data": {
      "application/vnd.microsoft.datawrangler.viewer.v0+json": {
       "columns": [
        {
         "name": "index",
         "rawType": "object",
         "type": "string"
        },
        {
         "name": "request_datetime",
         "rawType": "object",
         "type": "unknown"
        },
        {
         "name": "on_scene_datetime",
         "rawType": "object",
         "type": "unknown"
        },
        {
         "name": "pickup_datetime",
         "rawType": "object",
         "type": "unknown"
        },
        {
         "name": "dropoff_datetime",
         "rawType": "object",
         "type": "unknown"
        },
        {
         "name": "PULocationID",
         "rawType": "float64",
         "type": "float"
        },
        {
         "name": "DOLocationID",
         "rawType": "float64",
         "type": "float"
        },
        {
         "name": "trip_miles",
         "rawType": "float64",
         "type": "float"
        },
        {
         "name": "trip_time",
         "rawType": "float64",
         "type": "float"
        },
        {
         "name": "base_passenger_fare",
         "rawType": "float64",
         "type": "float"
        },
        {
         "name": "tolls",
         "rawType": "float64",
         "type": "float"
        },
        {
         "name": "bcf",
         "rawType": "float64",
         "type": "float"
        },
        {
         "name": "sales_tax",
         "rawType": "float64",
         "type": "float"
        },
        {
         "name": "congestion_surcharge",
         "rawType": "float64",
         "type": "float"
        },
        {
         "name": "airport_fee",
         "rawType": "float64",
         "type": "float"
        },
        {
         "name": "tips",
         "rawType": "float64",
         "type": "float"
        },
        {
         "name": "driver_pay",
         "rawType": "float64",
         "type": "float"
        }
       ],
       "ref": "a33084b3-38e8-4bd5-999c-73019834713e",
       "rows": [
        [
         "count",
         "19663930",
         "14445193",
         "19663930",
         "19663930",
         "19663930.0",
         "19663930.0",
         "19663930.0",
         "19663930.0",
         "19663930.0",
         "19663930.0",
         "19663930.0",
         "19663930.0",
         "19663930.0",
         "19663930.0",
         "19663930.0",
         "19663930.0"
        ],
        [
         "mean",
         "2024-01-16 22:16:37.965603",
         "2024-01-17 02:22:41.626253",
         "2024-01-16 22:20:45.530691",
         "2024-01-16 22:39:15.999917",
         "139.13607310440995",
         "142.4193262994732",
         "4.838586508088667",
         "1110.4697250244483",
         "23.959245862347963",
         "1.0552073624143292",
         "0.6905130388482872",
         "2.0261249648468036",
         "1.075129412075816",
         "0.19222517828328317",
         "1.0582556976148716",
         "18.269094473993754"
        ],
        [
         "min",
         "2023-12-31 23:01:55",
         "2023-12-31 22:55:22",
         "2024-01-01 00:00:00",
         "2024-01-01 00:02:35",
         "1.0",
         "1.0",
         "0.0",
         "0.0",
         "-43.09",
         "0.0",
         "0.0",
         "0.0",
         "0.0",
         "0.0",
         "0.0",
         "-67.76"
        ],
        [
         "25%",
         "2024-01-09 14:57:44",
         "2024-01-09 18:12:25",
         "2024-01-09 15:01:51",
         "2024-01-09 15:22:16",
         "75.0",
         "76.0",
         "1.493",
         "571.0",
         "11.63",
         "0.0",
         "0.32",
         "0.98",
         "0.0",
         "0.0",
         "0.0",
         "8.21"
        ],
        [
         "50%",
         "2024-01-17 08:05:05.500000",
         "2024-01-17 13:01:53",
         "2024-01-17 08:11:56",
         "2024-01-17 08:31:05",
         "140.0",
         "142.0",
         "2.83",
         "912.0",
         "18.0",
         "0.0",
         "0.5",
         "1.53",
         "0.0",
         "0.0",
         "0.0",
         "13.57"
        ],
        [
         "75%",
         "2024-01-24 13:28:24.750000",
         "2024-01-24 16:23:39",
         "2024-01-24 13:31:43.750000",
         "2024-01-24 13:52:05.750000",
         "211.0",
         "217.0",
         "5.99",
         "1430.0",
         "28.8",
         "0.0",
         "0.81",
         "2.48",
         "2.75",
         "0.0",
         "0.0",
         "22.83"
        ],
        [
         "max",
         "2024-02-01 00:07:07",
         "2024-01-31 23:59:58",
         "2024-01-31 23:59:59",
         "2024-02-01 02:10:41",
         "265.0",
         "265.0",
         "417.62",
         "52060.0",
         "1911.16",
         "141.02",
         "53.94",
         "152.69",
         "8.25",
         "6.9",
         "196.8",
         "1218.17"
        ],
        [
         "std",
         null,
         null,
         null,
         null,
         "74.90266882758385",
         "77.77902811192267",
         "5.698662365016955",
         "772.2219227477051",
         "20.536568700360373",
         "3.798421597386",
         "0.6311548553109612",
         "1.6768184754748374",
         "1.3441484475609107",
         "0.6691914835598357",
         "3.1270737977209895",
         "15.461167047989626"
        ]
       ],
       "shape": {
        "columns": 16,
        "rows": 8
       }
      },
      "text/html": [
       "<div>\n",
       "<style scoped>\n",
       "    .dataframe tbody tr th:only-of-type {\n",
       "        vertical-align: middle;\n",
       "    }\n",
       "\n",
       "    .dataframe tbody tr th {\n",
       "        vertical-align: top;\n",
       "    }\n",
       "\n",
       "    .dataframe thead th {\n",
       "        text-align: right;\n",
       "    }\n",
       "</style>\n",
       "<table border=\"1\" class=\"dataframe\">\n",
       "  <thead>\n",
       "    <tr style=\"text-align: right;\">\n",
       "      <th></th>\n",
       "      <th>request_datetime</th>\n",
       "      <th>on_scene_datetime</th>\n",
       "      <th>pickup_datetime</th>\n",
       "      <th>dropoff_datetime</th>\n",
       "      <th>PULocationID</th>\n",
       "      <th>DOLocationID</th>\n",
       "      <th>trip_miles</th>\n",
       "      <th>trip_time</th>\n",
       "      <th>base_passenger_fare</th>\n",
       "      <th>tolls</th>\n",
       "      <th>bcf</th>\n",
       "      <th>sales_tax</th>\n",
       "      <th>congestion_surcharge</th>\n",
       "      <th>airport_fee</th>\n",
       "      <th>tips</th>\n",
       "      <th>driver_pay</th>\n",
       "    </tr>\n",
       "  </thead>\n",
       "  <tbody>\n",
       "    <tr>\n",
       "      <th>count</th>\n",
       "      <td>19663930</td>\n",
       "      <td>14445193</td>\n",
       "      <td>19663930</td>\n",
       "      <td>19663930</td>\n",
       "      <td>1.966393e+07</td>\n",
       "      <td>1.966393e+07</td>\n",
       "      <td>1.966393e+07</td>\n",
       "      <td>1.966393e+07</td>\n",
       "      <td>1.966393e+07</td>\n",
       "      <td>1.966393e+07</td>\n",
       "      <td>1.966393e+07</td>\n",
       "      <td>1.966393e+07</td>\n",
       "      <td>1.966393e+07</td>\n",
       "      <td>1.966393e+07</td>\n",
       "      <td>1.966393e+07</td>\n",
       "      <td>1.966393e+07</td>\n",
       "    </tr>\n",
       "    <tr>\n",
       "      <th>mean</th>\n",
       "      <td>2024-01-16 22:16:37.965603</td>\n",
       "      <td>2024-01-17 02:22:41.626253</td>\n",
       "      <td>2024-01-16 22:20:45.530691</td>\n",
       "      <td>2024-01-16 22:39:15.999917</td>\n",
       "      <td>1.391361e+02</td>\n",
       "      <td>1.424193e+02</td>\n",
       "      <td>4.838587e+00</td>\n",
       "      <td>1.110470e+03</td>\n",
       "      <td>2.395925e+01</td>\n",
       "      <td>1.055207e+00</td>\n",
       "      <td>6.905130e-01</td>\n",
       "      <td>2.026125e+00</td>\n",
       "      <td>1.075129e+00</td>\n",
       "      <td>1.922252e-01</td>\n",
       "      <td>1.058256e+00</td>\n",
       "      <td>1.826909e+01</td>\n",
       "    </tr>\n",
       "    <tr>\n",
       "      <th>min</th>\n",
       "      <td>2023-12-31 23:01:55</td>\n",
       "      <td>2023-12-31 22:55:22</td>\n",
       "      <td>2024-01-01 00:00:00</td>\n",
       "      <td>2024-01-01 00:02:35</td>\n",
       "      <td>1.000000e+00</td>\n",
       "      <td>1.000000e+00</td>\n",
       "      <td>0.000000e+00</td>\n",
       "      <td>0.000000e+00</td>\n",
       "      <td>-4.309000e+01</td>\n",
       "      <td>0.000000e+00</td>\n",
       "      <td>0.000000e+00</td>\n",
       "      <td>0.000000e+00</td>\n",
       "      <td>0.000000e+00</td>\n",
       "      <td>0.000000e+00</td>\n",
       "      <td>0.000000e+00</td>\n",
       "      <td>-6.776000e+01</td>\n",
       "    </tr>\n",
       "    <tr>\n",
       "      <th>25%</th>\n",
       "      <td>2024-01-09 14:57:44</td>\n",
       "      <td>2024-01-09 18:12:25</td>\n",
       "      <td>2024-01-09 15:01:51</td>\n",
       "      <td>2024-01-09 15:22:16</td>\n",
       "      <td>7.500000e+01</td>\n",
       "      <td>7.600000e+01</td>\n",
       "      <td>1.493000e+00</td>\n",
       "      <td>5.710000e+02</td>\n",
       "      <td>1.163000e+01</td>\n",
       "      <td>0.000000e+00</td>\n",
       "      <td>3.200000e-01</td>\n",
       "      <td>9.800000e-01</td>\n",
       "      <td>0.000000e+00</td>\n",
       "      <td>0.000000e+00</td>\n",
       "      <td>0.000000e+00</td>\n",
       "      <td>8.210000e+00</td>\n",
       "    </tr>\n",
       "    <tr>\n",
       "      <th>50%</th>\n",
       "      <td>2024-01-17 08:05:05.500000</td>\n",
       "      <td>2024-01-17 13:01:53</td>\n",
       "      <td>2024-01-17 08:11:56</td>\n",
       "      <td>2024-01-17 08:31:05</td>\n",
       "      <td>1.400000e+02</td>\n",
       "      <td>1.420000e+02</td>\n",
       "      <td>2.830000e+00</td>\n",
       "      <td>9.120000e+02</td>\n",
       "      <td>1.800000e+01</td>\n",
       "      <td>0.000000e+00</td>\n",
       "      <td>5.000000e-01</td>\n",
       "      <td>1.530000e+00</td>\n",
       "      <td>0.000000e+00</td>\n",
       "      <td>0.000000e+00</td>\n",
       "      <td>0.000000e+00</td>\n",
       "      <td>1.357000e+01</td>\n",
       "    </tr>\n",
       "    <tr>\n",
       "      <th>75%</th>\n",
       "      <td>2024-01-24 13:28:24.750000</td>\n",
       "      <td>2024-01-24 16:23:39</td>\n",
       "      <td>2024-01-24 13:31:43.750000</td>\n",
       "      <td>2024-01-24 13:52:05.750000</td>\n",
       "      <td>2.110000e+02</td>\n",
       "      <td>2.170000e+02</td>\n",
       "      <td>5.990000e+00</td>\n",
       "      <td>1.430000e+03</td>\n",
       "      <td>2.880000e+01</td>\n",
       "      <td>0.000000e+00</td>\n",
       "      <td>8.100000e-01</td>\n",
       "      <td>2.480000e+00</td>\n",
       "      <td>2.750000e+00</td>\n",
       "      <td>0.000000e+00</td>\n",
       "      <td>0.000000e+00</td>\n",
       "      <td>2.283000e+01</td>\n",
       "    </tr>\n",
       "    <tr>\n",
       "      <th>max</th>\n",
       "      <td>2024-02-01 00:07:07</td>\n",
       "      <td>2024-01-31 23:59:58</td>\n",
       "      <td>2024-01-31 23:59:59</td>\n",
       "      <td>2024-02-01 02:10:41</td>\n",
       "      <td>2.650000e+02</td>\n",
       "      <td>2.650000e+02</td>\n",
       "      <td>4.176200e+02</td>\n",
       "      <td>5.206000e+04</td>\n",
       "      <td>1.911160e+03</td>\n",
       "      <td>1.410200e+02</td>\n",
       "      <td>5.394000e+01</td>\n",
       "      <td>1.526900e+02</td>\n",
       "      <td>8.250000e+00</td>\n",
       "      <td>6.900000e+00</td>\n",
       "      <td>1.968000e+02</td>\n",
       "      <td>1.218170e+03</td>\n",
       "    </tr>\n",
       "    <tr>\n",
       "      <th>std</th>\n",
       "      <td>NaN</td>\n",
       "      <td>NaN</td>\n",
       "      <td>NaN</td>\n",
       "      <td>NaN</td>\n",
       "      <td>7.490267e+01</td>\n",
       "      <td>7.777903e+01</td>\n",
       "      <td>5.698662e+00</td>\n",
       "      <td>7.722219e+02</td>\n",
       "      <td>2.053657e+01</td>\n",
       "      <td>3.798422e+00</td>\n",
       "      <td>6.311549e-01</td>\n",
       "      <td>1.676818e+00</td>\n",
       "      <td>1.344148e+00</td>\n",
       "      <td>6.691915e-01</td>\n",
       "      <td>3.127074e+00</td>\n",
       "      <td>1.546117e+01</td>\n",
       "    </tr>\n",
       "  </tbody>\n",
       "</table>\n",
       "</div>"
      ],
      "text/plain": [
       "                 request_datetime           on_scene_datetime  \\\n",
       "count                    19663930                    14445193   \n",
       "mean   2024-01-16 22:16:37.965603  2024-01-17 02:22:41.626253   \n",
       "min           2023-12-31 23:01:55         2023-12-31 22:55:22   \n",
       "25%           2024-01-09 14:57:44         2024-01-09 18:12:25   \n",
       "50%    2024-01-17 08:05:05.500000         2024-01-17 13:01:53   \n",
       "75%    2024-01-24 13:28:24.750000         2024-01-24 16:23:39   \n",
       "max           2024-02-01 00:07:07         2024-01-31 23:59:58   \n",
       "std                           NaN                         NaN   \n",
       "\n",
       "                  pickup_datetime            dropoff_datetime  PULocationID  \\\n",
       "count                    19663930                    19663930  1.966393e+07   \n",
       "mean   2024-01-16 22:20:45.530691  2024-01-16 22:39:15.999917  1.391361e+02   \n",
       "min           2024-01-01 00:00:00         2024-01-01 00:02:35  1.000000e+00   \n",
       "25%           2024-01-09 15:01:51         2024-01-09 15:22:16  7.500000e+01   \n",
       "50%           2024-01-17 08:11:56         2024-01-17 08:31:05  1.400000e+02   \n",
       "75%    2024-01-24 13:31:43.750000  2024-01-24 13:52:05.750000  2.110000e+02   \n",
       "max           2024-01-31 23:59:59         2024-02-01 02:10:41  2.650000e+02   \n",
       "std                           NaN                         NaN  7.490267e+01   \n",
       "\n",
       "       DOLocationID    trip_miles     trip_time  base_passenger_fare  \\\n",
       "count  1.966393e+07  1.966393e+07  1.966393e+07         1.966393e+07   \n",
       "mean   1.424193e+02  4.838587e+00  1.110470e+03         2.395925e+01   \n",
       "min    1.000000e+00  0.000000e+00  0.000000e+00        -4.309000e+01   \n",
       "25%    7.600000e+01  1.493000e+00  5.710000e+02         1.163000e+01   \n",
       "50%    1.420000e+02  2.830000e+00  9.120000e+02         1.800000e+01   \n",
       "75%    2.170000e+02  5.990000e+00  1.430000e+03         2.880000e+01   \n",
       "max    2.650000e+02  4.176200e+02  5.206000e+04         1.911160e+03   \n",
       "std    7.777903e+01  5.698662e+00  7.722219e+02         2.053657e+01   \n",
       "\n",
       "              tolls           bcf     sales_tax  congestion_surcharge  \\\n",
       "count  1.966393e+07  1.966393e+07  1.966393e+07          1.966393e+07   \n",
       "mean   1.055207e+00  6.905130e-01  2.026125e+00          1.075129e+00   \n",
       "min    0.000000e+00  0.000000e+00  0.000000e+00          0.000000e+00   \n",
       "25%    0.000000e+00  3.200000e-01  9.800000e-01          0.000000e+00   \n",
       "50%    0.000000e+00  5.000000e-01  1.530000e+00          0.000000e+00   \n",
       "75%    0.000000e+00  8.100000e-01  2.480000e+00          2.750000e+00   \n",
       "max    1.410200e+02  5.394000e+01  1.526900e+02          8.250000e+00   \n",
       "std    3.798422e+00  6.311549e-01  1.676818e+00          1.344148e+00   \n",
       "\n",
       "        airport_fee          tips    driver_pay  \n",
       "count  1.966393e+07  1.966393e+07  1.966393e+07  \n",
       "mean   1.922252e-01  1.058256e+00  1.826909e+01  \n",
       "min    0.000000e+00  0.000000e+00 -6.776000e+01  \n",
       "25%    0.000000e+00  0.000000e+00  8.210000e+00  \n",
       "50%    0.000000e+00  0.000000e+00  1.357000e+01  \n",
       "75%    0.000000e+00  0.000000e+00  2.283000e+01  \n",
       "max    6.900000e+00  1.968000e+02  1.218170e+03  \n",
       "std    6.691915e-01  3.127074e+00  1.546117e+01  "
      ]
     },
     "execution_count": 26,
     "metadata": {},
     "output_type": "execute_result"
    }
   ],
   "source": [
    "df.describe()"
   ]
  },
  {
   "cell_type": "code",
   "execution_count": 27,
   "id": "2fdc09ff",
   "metadata": {},
   "outputs": [
    {
     "data": {
      "application/vnd.microsoft.datawrangler.viewer.v0+json": {
       "columns": [
        {
         "name": "index",
         "rawType": "object",
         "type": "string"
        },
        {
         "name": "hvfhs_license_num",
         "rawType": "object",
         "type": "unknown"
        },
        {
         "name": "dispatching_base_num",
         "rawType": "object",
         "type": "unknown"
        },
        {
         "name": "originating_base_num",
         "rawType": "object",
         "type": "unknown"
        },
        {
         "name": "shared_request_flag",
         "rawType": "object",
         "type": "unknown"
        },
        {
         "name": "shared_match_flag",
         "rawType": "object",
         "type": "unknown"
        },
        {
         "name": "access_a_ride_flag",
         "rawType": "object",
         "type": "unknown"
        },
        {
         "name": "wav_request_flag",
         "rawType": "object",
         "type": "unknown"
        },
        {
         "name": "wav_match_flag",
         "rawType": "object",
         "type": "unknown"
        }
       ],
       "ref": "ae6c540d-012e-4aa9-9201-2fdcd4dacc74",
       "rows": [
        [
         "count",
         "19663930",
         "19663930",
         "14445193",
         "19663930",
         "19663930",
         "19663930",
         "19663930",
         "19663930"
        ],
        [
         "unique",
         "2",
         "2",
         "6",
         "2",
         "2",
         "2",
         "2",
         "2"
        ],
        [
         "top",
         "HV0003",
         "B03404",
         "B03404",
         "N",
         "N",
         "N",
         "N",
         "N"
        ],
        [
         "freq",
         "14432755",
         "14432755",
         "14432697",
         "18930120",
         "19435982",
         "19649886",
         "19619397",
         "17891533"
        ]
       ],
       "shape": {
        "columns": 8,
        "rows": 4
       }
      },
      "text/html": [
       "<div>\n",
       "<style scoped>\n",
       "    .dataframe tbody tr th:only-of-type {\n",
       "        vertical-align: middle;\n",
       "    }\n",
       "\n",
       "    .dataframe tbody tr th {\n",
       "        vertical-align: top;\n",
       "    }\n",
       "\n",
       "    .dataframe thead th {\n",
       "        text-align: right;\n",
       "    }\n",
       "</style>\n",
       "<table border=\"1\" class=\"dataframe\">\n",
       "  <thead>\n",
       "    <tr style=\"text-align: right;\">\n",
       "      <th></th>\n",
       "      <th>hvfhs_license_num</th>\n",
       "      <th>dispatching_base_num</th>\n",
       "      <th>originating_base_num</th>\n",
       "      <th>shared_request_flag</th>\n",
       "      <th>shared_match_flag</th>\n",
       "      <th>access_a_ride_flag</th>\n",
       "      <th>wav_request_flag</th>\n",
       "      <th>wav_match_flag</th>\n",
       "    </tr>\n",
       "  </thead>\n",
       "  <tbody>\n",
       "    <tr>\n",
       "      <th>count</th>\n",
       "      <td>19663930</td>\n",
       "      <td>19663930</td>\n",
       "      <td>14445193</td>\n",
       "      <td>19663930</td>\n",
       "      <td>19663930</td>\n",
       "      <td>19663930</td>\n",
       "      <td>19663930</td>\n",
       "      <td>19663930</td>\n",
       "    </tr>\n",
       "    <tr>\n",
       "      <th>unique</th>\n",
       "      <td>2</td>\n",
       "      <td>2</td>\n",
       "      <td>6</td>\n",
       "      <td>2</td>\n",
       "      <td>2</td>\n",
       "      <td>2</td>\n",
       "      <td>2</td>\n",
       "      <td>2</td>\n",
       "    </tr>\n",
       "    <tr>\n",
       "      <th>top</th>\n",
       "      <td>HV0003</td>\n",
       "      <td>B03404</td>\n",
       "      <td>B03404</td>\n",
       "      <td>N</td>\n",
       "      <td>N</td>\n",
       "      <td>N</td>\n",
       "      <td>N</td>\n",
       "      <td>N</td>\n",
       "    </tr>\n",
       "    <tr>\n",
       "      <th>freq</th>\n",
       "      <td>14432755</td>\n",
       "      <td>14432755</td>\n",
       "      <td>14432697</td>\n",
       "      <td>18930120</td>\n",
       "      <td>19435982</td>\n",
       "      <td>19649886</td>\n",
       "      <td>19619397</td>\n",
       "      <td>17891533</td>\n",
       "    </tr>\n",
       "  </tbody>\n",
       "</table>\n",
       "</div>"
      ],
      "text/plain": [
       "       hvfhs_license_num dispatching_base_num originating_base_num  \\\n",
       "count           19663930             19663930             14445193   \n",
       "unique                 2                    2                    6   \n",
       "top               HV0003               B03404               B03404   \n",
       "freq            14432755             14432755             14432697   \n",
       "\n",
       "       shared_request_flag shared_match_flag access_a_ride_flag  \\\n",
       "count             19663930          19663930           19663930   \n",
       "unique                   2                 2                  2   \n",
       "top                      N                 N                  N   \n",
       "freq              18930120          19435982           19649886   \n",
       "\n",
       "       wav_request_flag wav_match_flag  \n",
       "count          19663930       19663930  \n",
       "unique                2              2  \n",
       "top                   N              N  \n",
       "freq           19619397       17891533  "
      ]
     },
     "execution_count": 27,
     "metadata": {},
     "output_type": "execute_result"
    }
   ],
   "source": [
    "df.describe(include='O')"
   ]
  },
  {
   "cell_type": "code",
   "execution_count": 28,
   "id": "bfd4d98e",
   "metadata": {},
   "outputs": [
    {
     "data": {
      "application/vnd.microsoft.datawrangler.viewer.v0+json": {
       "columns": [
        {
         "name": "hvfhs_license_num",
         "rawType": "object",
         "type": "string"
        },
        {
         "name": "count",
         "rawType": "int64",
         "type": "integer"
        }
       ],
       "ref": "1ec1878c-20a5-4086-8d94-bb80e1ca5e39",
       "rows": [
        [
         "HV0003",
         "14432755"
        ],
        [
         "HV0005",
         "5231175"
        ]
       ],
       "shape": {
        "columns": 1,
        "rows": 2
       }
      },
      "text/plain": [
       "hvfhs_license_num\n",
       "HV0003    14432755\n",
       "HV0005     5231175\n",
       "Name: count, dtype: int64"
      ]
     },
     "execution_count": 28,
     "metadata": {},
     "output_type": "execute_result"
    }
   ],
   "source": [
    "df['hvfhs_license_num'].value_counts()"
   ]
  },
  {
   "cell_type": "code",
   "execution_count": 29,
   "id": "e72ffed0",
   "metadata": {},
   "outputs": [
    {
     "data": {
      "text/plain": [
       "(19663930, 24)"
      ]
     },
     "execution_count": 29,
     "metadata": {},
     "output_type": "execute_result"
    }
   ],
   "source": [
    "df.shape"
   ]
  },
  {
   "cell_type": "code",
   "execution_count": 30,
   "id": "ab85a89e",
   "metadata": {},
   "outputs": [],
   "source": [
    "# hvfhs_license_num\n",
    "# • HV0003: Uber\n",
    "# • HV0005: Lyft\n",
    "# 컬럼 추가\n",
    "df['Taxi_Company'] = df['hvfhs_license_num'].map({\n",
    "    'HV0003': 'Uber',\n",
    "    'HV0005': 'Lyft'\n",
    "})"
   ]
  },
  {
   "cell_type": "code",
   "execution_count": null,
   "id": "5a8c9b34",
   "metadata": {},
   "outputs": [],
   "source": [
    "df['season'] = df['pickup_datetime']"
   ]
  },
  {
   "cell_type": "code",
   "execution_count": null,
   "id": "47b623ef",
   "metadata": {},
   "outputs": [],
   "source": [
    "columns = ['dispatching_base_num', 'originating_base_num', 'shared_request_flag', 'shared_match_flag', 'access_a_ride_flag', 'wav_request_flag', 'wav_match_flag']\n",
    "df = df.drop(columns=columns)\n",
    "\n",
    "# dropoff_datetime - pickup_datetime <= 0 삭제\n",
    "df = df[df['dropoff_datetime'] - df['pickup_datetime'] > pd.Timedelta(0)]\n",
    "# on_scene_datetime - request_datetime <= 0 삭제\n",
    "df = df[df['on_scene_datetime'] - df['request_datetime'] > pd.Timedelta(0)]\n",
    "# base_passenger_fare <=0 삭제\n",
    "df = df[df['base_passenger_fare'] > 0]\n",
    "# driver_pay < 0 삭제\n",
    "df = df[df['driver_pay'] >= 0]\n"
   ]
  },
  {
   "cell_type": "code",
   "execution_count": null,
   "id": "d2dbab58",
   "metadata": {},
   "outputs": [],
   "source": []
  },
  {
   "cell_type": "code",
   "execution_count": null,
   "id": "42541cfa",
   "metadata": {},
   "outputs": [],
   "source": [
    "# 어떤 종류의 택시가 제일 빨리 오는지\n",
    "# 가격은 어떤지\n",
    "# 날씨에 따른 가격 차이\n",
    "# 날씨에 따른 택시 도착 시간\n",
    "# 계절별 도착 시간\n",
    "# 계절별 평균 가격\n",
    "# 계절별 사용자 수\n",
    "# 계절별 택시 종류\n",
    "# 계절별 택시 종류별 평균 가격\n",
    "# 계절별 택시 종류별 평균 도착 시간"
   ]
  },
  {
   "cell_type": "code",
   "execution_count": 42,
   "id": "7acf0e88",
   "metadata": {},
   "outputs": [
    {
     "data": {
      "application/vnd.microsoft.datawrangler.viewer.v0+json": {
       "columns": [
        {
         "name": "index",
         "rawType": "int64",
         "type": "integer"
        },
        {
         "name": "hvfhs_license_num",
         "rawType": "object",
         "type": "string"
        },
        {
         "name": "request_datetime",
         "rawType": "datetime64[us]",
         "type": "unknown"
        },
        {
         "name": "on_scene_datetime",
         "rawType": "datetime64[us]",
         "type": "unknown"
        },
        {
         "name": "pickup_datetime",
         "rawType": "datetime64[us]",
         "type": "unknown"
        },
        {
         "name": "dropoff_datetime",
         "rawType": "datetime64[us]",
         "type": "unknown"
        },
        {
         "name": "PULocationID",
         "rawType": "int32",
         "type": "integer"
        },
        {
         "name": "DOLocationID",
         "rawType": "int32",
         "type": "integer"
        },
        {
         "name": "trip_miles",
         "rawType": "float64",
         "type": "float"
        },
        {
         "name": "trip_time",
         "rawType": "int64",
         "type": "integer"
        },
        {
         "name": "base_passenger_fare",
         "rawType": "float64",
         "type": "float"
        },
        {
         "name": "tolls",
         "rawType": "float64",
         "type": "float"
        },
        {
         "name": "bcf",
         "rawType": "float64",
         "type": "float"
        },
        {
         "name": "sales_tax",
         "rawType": "float64",
         "type": "float"
        },
        {
         "name": "congestion_surcharge",
         "rawType": "float64",
         "type": "float"
        },
        {
         "name": "airport_fee",
         "rawType": "float64",
         "type": "float"
        },
        {
         "name": "tips",
         "rawType": "float64",
         "type": "float"
        },
        {
         "name": "driver_pay",
         "rawType": "float64",
         "type": "float"
        },
        {
         "name": "Taxi_Company",
         "rawType": "object",
         "type": "string"
        },
        {
         "name": "season",
         "rawType": "object",
         "type": "unknown"
        }
       ],
       "ref": "819d6f28-a822-4158-b0f5-2149ac08d119",
       "rows": [
        [
         "0",
         "HV0003",
         "2024-01-01 00:21:47",
         "2024-01-01 00:25:06",
         "2024-01-01 00:28:08",
         "2024-01-01 01:05:39",
         "161",
         "158",
         "2.83",
         "2251",
         "45.61",
         "0.0",
         "1.25",
         "4.05",
         "2.75",
         "0.0",
         "0.0",
         "40.18",
         "Uber",
         null
        ],
        [
         "1",
         "HV0003",
         "2024-01-01 00:10:56",
         "2024-01-01 00:11:08",
         "2024-01-01 00:12:53",
         "2024-01-01 00:20:05",
         "137",
         "79",
         "1.57",
         "432",
         "10.05",
         "0.0",
         "0.28",
         "0.89",
         "2.75",
         "0.0",
         "0.0",
         "6.12",
         "Uber",
         null
        ],
        [
         "2",
         "HV0003",
         "2024-01-01 00:20:04",
         "2024-01-01 00:21:51",
         "2024-01-01 00:23:05",
         "2024-01-01 00:35:16",
         "79",
         "186",
         "1.98",
         "731",
         "18.07",
         "0.0",
         "0.5",
         "1.6",
         "2.75",
         "0.0",
         "0.0",
         "9.47",
         "Uber",
         null
        ],
        [
         "3",
         "HV0003",
         "2024-01-01 00:35:46",
         "2024-01-01 00:39:59",
         "2024-01-01 00:41:04",
         "2024-01-01 00:56:34",
         "234",
         "148",
         "1.99",
         "930",
         "17.17",
         "0.0",
         "0.47",
         "1.52",
         "2.75",
         "0.0",
         "0.0",
         "11.35",
         "Uber",
         null
        ],
        [
         "4",
         "HV0003",
         "2024-01-01 00:48:19",
         "2024-01-01 00:56:23",
         "2024-01-01 00:57:21",
         "2024-01-01 01:10:02",
         "148",
         "97",
         "2.65",
         "761",
         "38.67",
         "0.0",
         "1.06",
         "3.43",
         "2.75",
         "0.0",
         "0.0",
         "28.63",
         "Uber",
         null
        ]
       ],
       "shape": {
        "columns": 19,
        "rows": 5
       }
      },
      "text/html": [
       "<div>\n",
       "<style scoped>\n",
       "    .dataframe tbody tr th:only-of-type {\n",
       "        vertical-align: middle;\n",
       "    }\n",
       "\n",
       "    .dataframe tbody tr th {\n",
       "        vertical-align: top;\n",
       "    }\n",
       "\n",
       "    .dataframe thead th {\n",
       "        text-align: right;\n",
       "    }\n",
       "</style>\n",
       "<table border=\"1\" class=\"dataframe\">\n",
       "  <thead>\n",
       "    <tr style=\"text-align: right;\">\n",
       "      <th></th>\n",
       "      <th>hvfhs_license_num</th>\n",
       "      <th>request_datetime</th>\n",
       "      <th>on_scene_datetime</th>\n",
       "      <th>pickup_datetime</th>\n",
       "      <th>dropoff_datetime</th>\n",
       "      <th>PULocationID</th>\n",
       "      <th>DOLocationID</th>\n",
       "      <th>trip_miles</th>\n",
       "      <th>trip_time</th>\n",
       "      <th>base_passenger_fare</th>\n",
       "      <th>tolls</th>\n",
       "      <th>bcf</th>\n",
       "      <th>sales_tax</th>\n",
       "      <th>congestion_surcharge</th>\n",
       "      <th>airport_fee</th>\n",
       "      <th>tips</th>\n",
       "      <th>driver_pay</th>\n",
       "      <th>Taxi_Company</th>\n",
       "      <th>season</th>\n",
       "    </tr>\n",
       "  </thead>\n",
       "  <tbody>\n",
       "    <tr>\n",
       "      <th>0</th>\n",
       "      <td>HV0003</td>\n",
       "      <td>2024-01-01 00:21:47</td>\n",
       "      <td>2024-01-01 00:25:06</td>\n",
       "      <td>2024-01-01 00:28:08</td>\n",
       "      <td>2024-01-01 01:05:39</td>\n",
       "      <td>161</td>\n",
       "      <td>158</td>\n",
       "      <td>2.83</td>\n",
       "      <td>2251</td>\n",
       "      <td>45.61</td>\n",
       "      <td>0.0</td>\n",
       "      <td>1.25</td>\n",
       "      <td>4.05</td>\n",
       "      <td>2.75</td>\n",
       "      <td>0.0</td>\n",
       "      <td>0.0</td>\n",
       "      <td>40.18</td>\n",
       "      <td>Uber</td>\n",
       "      <td>NaN</td>\n",
       "    </tr>\n",
       "    <tr>\n",
       "      <th>1</th>\n",
       "      <td>HV0003</td>\n",
       "      <td>2024-01-01 00:10:56</td>\n",
       "      <td>2024-01-01 00:11:08</td>\n",
       "      <td>2024-01-01 00:12:53</td>\n",
       "      <td>2024-01-01 00:20:05</td>\n",
       "      <td>137</td>\n",
       "      <td>79</td>\n",
       "      <td>1.57</td>\n",
       "      <td>432</td>\n",
       "      <td>10.05</td>\n",
       "      <td>0.0</td>\n",
       "      <td>0.28</td>\n",
       "      <td>0.89</td>\n",
       "      <td>2.75</td>\n",
       "      <td>0.0</td>\n",
       "      <td>0.0</td>\n",
       "      <td>6.12</td>\n",
       "      <td>Uber</td>\n",
       "      <td>NaN</td>\n",
       "    </tr>\n",
       "    <tr>\n",
       "      <th>2</th>\n",
       "      <td>HV0003</td>\n",
       "      <td>2024-01-01 00:20:04</td>\n",
       "      <td>2024-01-01 00:21:51</td>\n",
       "      <td>2024-01-01 00:23:05</td>\n",
       "      <td>2024-01-01 00:35:16</td>\n",
       "      <td>79</td>\n",
       "      <td>186</td>\n",
       "      <td>1.98</td>\n",
       "      <td>731</td>\n",
       "      <td>18.07</td>\n",
       "      <td>0.0</td>\n",
       "      <td>0.50</td>\n",
       "      <td>1.60</td>\n",
       "      <td>2.75</td>\n",
       "      <td>0.0</td>\n",
       "      <td>0.0</td>\n",
       "      <td>9.47</td>\n",
       "      <td>Uber</td>\n",
       "      <td>NaN</td>\n",
       "    </tr>\n",
       "    <tr>\n",
       "      <th>3</th>\n",
       "      <td>HV0003</td>\n",
       "      <td>2024-01-01 00:35:46</td>\n",
       "      <td>2024-01-01 00:39:59</td>\n",
       "      <td>2024-01-01 00:41:04</td>\n",
       "      <td>2024-01-01 00:56:34</td>\n",
       "      <td>234</td>\n",
       "      <td>148</td>\n",
       "      <td>1.99</td>\n",
       "      <td>930</td>\n",
       "      <td>17.17</td>\n",
       "      <td>0.0</td>\n",
       "      <td>0.47</td>\n",
       "      <td>1.52</td>\n",
       "      <td>2.75</td>\n",
       "      <td>0.0</td>\n",
       "      <td>0.0</td>\n",
       "      <td>11.35</td>\n",
       "      <td>Uber</td>\n",
       "      <td>NaN</td>\n",
       "    </tr>\n",
       "    <tr>\n",
       "      <th>4</th>\n",
       "      <td>HV0003</td>\n",
       "      <td>2024-01-01 00:48:19</td>\n",
       "      <td>2024-01-01 00:56:23</td>\n",
       "      <td>2024-01-01 00:57:21</td>\n",
       "      <td>2024-01-01 01:10:02</td>\n",
       "      <td>148</td>\n",
       "      <td>97</td>\n",
       "      <td>2.65</td>\n",
       "      <td>761</td>\n",
       "      <td>38.67</td>\n",
       "      <td>0.0</td>\n",
       "      <td>1.06</td>\n",
       "      <td>3.43</td>\n",
       "      <td>2.75</td>\n",
       "      <td>0.0</td>\n",
       "      <td>0.0</td>\n",
       "      <td>28.63</td>\n",
       "      <td>Uber</td>\n",
       "      <td>NaN</td>\n",
       "    </tr>\n",
       "  </tbody>\n",
       "</table>\n",
       "</div>"
      ],
      "text/plain": [
       "  hvfhs_license_num    request_datetime   on_scene_datetime  \\\n",
       "0            HV0003 2024-01-01 00:21:47 2024-01-01 00:25:06   \n",
       "1            HV0003 2024-01-01 00:10:56 2024-01-01 00:11:08   \n",
       "2            HV0003 2024-01-01 00:20:04 2024-01-01 00:21:51   \n",
       "3            HV0003 2024-01-01 00:35:46 2024-01-01 00:39:59   \n",
       "4            HV0003 2024-01-01 00:48:19 2024-01-01 00:56:23   \n",
       "\n",
       "      pickup_datetime    dropoff_datetime  PULocationID  DOLocationID  \\\n",
       "0 2024-01-01 00:28:08 2024-01-01 01:05:39           161           158   \n",
       "1 2024-01-01 00:12:53 2024-01-01 00:20:05           137            79   \n",
       "2 2024-01-01 00:23:05 2024-01-01 00:35:16            79           186   \n",
       "3 2024-01-01 00:41:04 2024-01-01 00:56:34           234           148   \n",
       "4 2024-01-01 00:57:21 2024-01-01 01:10:02           148            97   \n",
       "\n",
       "   trip_miles  trip_time  base_passenger_fare  tolls   bcf  sales_tax  \\\n",
       "0        2.83       2251                45.61    0.0  1.25       4.05   \n",
       "1        1.57        432                10.05    0.0  0.28       0.89   \n",
       "2        1.98        731                18.07    0.0  0.50       1.60   \n",
       "3        1.99        930                17.17    0.0  0.47       1.52   \n",
       "4        2.65        761                38.67    0.0  1.06       3.43   \n",
       "\n",
       "   congestion_surcharge  airport_fee  tips  driver_pay Taxi_Company season  \n",
       "0                  2.75          0.0   0.0       40.18         Uber    NaN  \n",
       "1                  2.75          0.0   0.0        6.12         Uber    NaN  \n",
       "2                  2.75          0.0   0.0        9.47         Uber    NaN  \n",
       "3                  2.75          0.0   0.0       11.35         Uber    NaN  \n",
       "4                  2.75          0.0   0.0       28.63         Uber    NaN  "
      ]
     },
     "execution_count": 42,
     "metadata": {},
     "output_type": "execute_result"
    }
   ],
   "source": [
    "df.head(5)"
   ]
  },
  {
   "cell_type": "code",
   "execution_count": 36,
   "id": "1bd0e020",
   "metadata": {},
   "outputs": [
    {
     "data": {
      "text/plain": [
       "(14309442, 19)"
      ]
     },
     "execution_count": 36,
     "metadata": {},
     "output_type": "execute_result"
    }
   ],
   "source": [
    "df.shape"
   ]
  },
  {
   "cell_type": "code",
   "execution_count": null,
   "id": "75082f9a",
   "metadata": {},
   "outputs": [],
   "source": []
  }
 ],
 "metadata": {
  "kernelspec": {
   "display_name": "Pyspark",
   "language": "python",
   "name": "pyspark"
  },
  "language_info": {
   "codemirror_mode": {
    "name": "ipython",
    "version": 3
   },
   "file_extension": ".py",
   "mimetype": "text/x-python",
   "name": "python",
   "nbconvert_exporter": "python",
   "pygments_lexer": "ipython3",
   "version": "3.11.13"
  }
 },
 "nbformat": 4,
 "nbformat_minor": 5
}
