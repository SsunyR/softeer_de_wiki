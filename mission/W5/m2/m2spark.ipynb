{
 "cells": [
  {
   "cell_type": "code",
   "execution_count": 1,
   "id": "c55eca19",
   "metadata": {},
   "outputs": [],
   "source": [
    "from pyspark.sql import SparkSession\n",
    "from pyspark.sql.functions import col, avg, sum, to_date, dayofweek, when, count, make_date, regexp_replace, round, floor\n",
    "from pyspark.sql.functions import year, month, dayofmonth"
   ]
  },
  {
   "cell_type": "code",
   "execution_count": 2,
   "id": "f81a2228",
   "metadata": {},
   "outputs": [
    {
     "data": {
      "text/html": [
       "\n",
       "            <div>\n",
       "                <p><b>SparkSession - in-memory</b></p>\n",
       "                \n",
       "        <div>\n",
       "            <p><b>SparkContext</b></p>\n",
       "\n",
       "            <p><a href=\"http://87af5c91a86e:4040\">Spark UI</a></p>\n",
       "\n",
       "            <dl>\n",
       "              <dt>Version</dt>\n",
       "                <dd><code>v3.5.0</code></dd>\n",
       "              <dt>Master</dt>\n",
       "                <dd><code>local[*]</code></dd>\n",
       "              <dt>AppName</dt>\n",
       "                <dd><code>MySparkApp</code></dd>\n",
       "            </dl>\n",
       "        </div>\n",
       "        \n",
       "            </div>\n",
       "        "
      ],
      "text/plain": [
       "<pyspark.sql.session.SparkSession at 0x7227c4288910>"
      ]
     },
     "execution_count": 2,
     "metadata": {},
     "output_type": "execute_result"
    }
   ],
   "source": [
    "spark = SparkSession.builder.appName(\"MySparkApp\").getOrCreate()\n",
    "spark"
   ]
  },
  {
   "cell_type": "code",
   "execution_count": 3,
   "id": "d82ef8f8",
   "metadata": {},
   "outputs": [],
   "source": [
    "FILE_NAME_HEADER = \"work/fhvhv_tripdata_2024_1278/fhvhv_tripdata_2024-01\""
   ]
  },
  {
   "cell_type": "code",
   "execution_count": 4,
   "id": "232b8baa",
   "metadata": {},
   "outputs": [],
   "source": [
    "path = f\"{FILE_NAME_HEADER}.parquet\"\n",
    "df = spark.read.parquet(path)\n"
   ]
  },
  {
   "cell_type": "code",
   "execution_count": 5,
   "id": "65005ab2",
   "metadata": {},
   "outputs": [],
   "source": [
    "columns = [\n",
    "    'request_datetime',\n",
    "    'trip_miles',\n",
    "    'trip_time',\n",
    "    'base_passenger_fare'\n",
    "]\n",
    "\n",
    "reduced_df = df.select(*columns)\n",
    "# reduced_df.show(5)"
   ]
  },
  {
   "cell_type": "code",
   "execution_count": 6,
   "id": "78ff4d11",
   "metadata": {},
   "outputs": [],
   "source": [
    "# reduced_df.printSchema()"
   ]
  },
  {
   "cell_type": "code",
   "execution_count": 7,
   "id": "db09be47",
   "metadata": {},
   "outputs": [],
   "source": [
    "filtered_df = reduced_df.filter((col('base_passenger_fare') > 0))\n",
    "\n",
    "filtered_df = filtered_df.withColumn('date', to_date(col('request_datetime'), 'yyyy-MM-dd'))\n",
    "filtered_df = filtered_df.drop('request_datetime')\n",
    "\n",
    "# Select 2024-01 datas\n",
    "filtered_df = filtered_df.filter(year(col('date')) == 2024).filter(month(col('date')) == 1)"
   ]
  },
  {
   "cell_type": "code",
   "execution_count": 8,
   "id": "cfa7d19c",
   "metadata": {},
   "outputs": [],
   "source": [
    "# 날씨 데이터 로드\n",
    "weather_path_header = \"work/2024_weather/\"\n",
    "weather_df = spark.read.option(\"header\", True).csv(weather_path_header + \"01.csv\")"
   ]
  },
  {
   "cell_type": "code",
   "execution_count": 9,
   "id": "e1e4932b",
   "metadata": {},
   "outputs": [],
   "source": [
    "weather_df = weather_df.withColumn(\"date\", make_date(\"year\", \"month\", \"day\"))\n",
    "weather_df = weather_df.drop(\"year\", \"month\", \"day\")\n",
    "\n",
    "for col_name in ['precipitation1', 'precipitation2', 'precipitation3']:\n",
    "    weather_df = weather_df.withColumn(\n",
    "        col_name,\n",
    "        regexp_replace(col(col_name), 'T', '0')\n",
    "    )\n",
    "\n",
    "# 타입 변경\n",
    "for col_name in ['precipitation1', 'precipitation2', 'precipitation3']:\n",
    "    weather_df = weather_df.withColumn(\n",
    "        col_name,\n",
    "        col(col_name).cast('float')\n",
    "    )\n",
    "\n",
    "# precipitation 합산\n",
    "weather_df = weather_df.withColumn(\n",
    "    \"precipitation\",\n",
    "    round(col(\"precipitation1\") + col(\"precipitation2\") + col(\"precipitation3\"), 2)\n",
    ")\n",
    "\n",
    "weather_df = weather_df.drop(\"precipitation1\", \"precipitation2\", \"precipitation3\")"
   ]
  },
  {
   "cell_type": "code",
   "execution_count": 10,
   "id": "b2ed1728",
   "metadata": {},
   "outputs": [],
   "source": [
    "weather_df = weather_df \\\n",
    "    .withColumn(\"max\", round((col(\"max\") - 32) * 5 / 9, 1).alias(\"max\")) \\\n",
    "    .withColumn(\"min\", round((col(\"min\") - 32) * 5 / 9, 1).alias(\"min\")) \\\n",
    "\n",
    "df_with_weather = filtered_df.join(weather_df, on=\"date\", how=\"left\")"
   ]
  },
  {
   "cell_type": "code",
   "execution_count": 11,
   "id": "6cd7e5ac",
   "metadata": {},
   "outputs": [],
   "source": [
    "df_with_day = df_with_weather.withColumn(\"date\", to_date(col(\"date\"))) \\\n",
    "    .withColumn(\"day_of_week\", dayofweek(col(\"date\"))) \\\n",
    "    .withColumn(\"day_type\", when(col(\"day_of_week\").isin(1, 7), \"weekend\").otherwise(\"weekday\"))"
   ]
  },
  {
   "cell_type": "code",
   "execution_count": 12,
   "id": "8eea1e5f",
   "metadata": {},
   "outputs": [],
   "source": [
    "# df_with_day = df_with_day.cache()"
   ]
  },
  {
   "cell_type": "code",
   "execution_count": 13,
   "id": "763e844c",
   "metadata": {},
   "outputs": [],
   "source": [
    "# 평일/주말 기준 집계\n",
    "result1 = df_with_day.groupBy(\"day_type\").agg(\n",
    "    count(\"*\").alias(\"count\"),\n",
    "    avg(\"trip_miles\").alias(\"avg_trip_miles\"),\n",
    "    avg(\"base_passenger_fare\").alias(\"avg_base_passenger_fare\")\n",
    ")"
   ]
  },
  {
   "cell_type": "code",
   "execution_count": 14,
   "id": "44aea7e0",
   "metadata": {},
   "outputs": [
    {
     "name": "stdout",
     "output_type": "stream",
     "text": [
      "+--------+--------+-----------------+-----------------------+\n",
      "|day_type|   count|   avg_trip_miles|avg_base_passenger_fare|\n",
      "+--------+--------+-----------------+-----------------------+\n",
      "| weekday|14022215|4.852969220483359|       24.4602157754583|\n",
      "| weekend| 5633520|4.802974764268159|      22.74219542665929|\n",
      "+--------+--------+-----------------+-----------------------+\n",
      "\n"
     ]
    }
   ],
   "source": [
    "result1.show(5)"
   ]
  },
  {
   "cell_type": "code",
   "execution_count": 15,
   "id": "167250d7",
   "metadata": {},
   "outputs": [],
   "source": [
    "df_with_day = df_with_day.withColumn(\"temp_group\", floor(col(\"max\") / 5) * 5)\n",
    "\n",
    "result2 = df_with_day.groupBy(\"temp_group\").agg(\n",
    "    count(\"*\").alias(\"count\"),\n",
    "    round(avg(\"trip_miles\"), 2).alias(\"avg_trip_miles\"),\n",
    "    round(avg(\"base_passenger_fare\"), 2).alias(\"avg_base_passenger_fare\")\n",
    ").orderBy(\"temp_group\")"
   ]
  },
  {
   "cell_type": "code",
   "execution_count": 16,
   "id": "eb91d07a",
   "metadata": {},
   "outputs": [
    {
     "name": "stdout",
     "output_type": "stream",
     "text": [
      "+----------+-------+--------------+-----------------------+\n",
      "|temp_group|  count|avg_trip_miles|avg_base_passenger_fare|\n",
      "+----------+-------+--------------+-----------------------+\n",
      "|        -5|2739250|          4.78|                  23.07|\n",
      "|         0|6849524|          4.77|                  23.73|\n",
      "|         5|6783633|          4.98|                  24.49|\n",
      "|        10|1877170|          4.69|                  23.95|\n",
      "|        15|1406158|          4.82|                  24.37|\n",
      "+----------+-------+--------------+-----------------------+\n",
      "\n"
     ]
    }
   ],
   "source": [
    "result2.show(5)"
   ]
  }
 ],
 "metadata": {
  "kernelspec": {
   "display_name": "Python 3 (ipykernel)",
   "language": "python",
   "name": "python3"
  },
  "language_info": {
   "codemirror_mode": {
    "name": "ipython",
    "version": 3
   },
   "file_extension": ".py",
   "mimetype": "text/x-python",
   "name": "python",
   "nbconvert_exporter": "python",
   "pygments_lexer": "ipython3",
   "version": "3.11.6"
  }
 },
 "nbformat": 4,
 "nbformat_minor": 5
}
