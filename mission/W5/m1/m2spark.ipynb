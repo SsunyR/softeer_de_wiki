{
 "cells": [
  {
   "cell_type": "code",
   "execution_count": 1,
   "id": "fc37d381",
   "metadata": {},
   "outputs": [],
   "source": [
    "from pyspark.sql import SparkSession\n",
    "from pyspark import SparkConf, SparkContext\n",
    "\n",
    "import os\n",
    "import shutil"
   ]
  },
  {
   "cell_type": "code",
   "execution_count": 2,
   "id": "09b92130",
   "metadata": {},
   "outputs": [],
   "source": [
    "# Initialize Spark session\n",
    "spark = SparkSession.builder \\\n",
    "    .appName(\"RDD_Analysis\") \\\n",
    "    .getOrCreate()\n",
    "\n",
    "sc = spark.sparkContext"
   ]
  },
  {
   "cell_type": "code",
   "execution_count": 3,
   "id": "4815501a",
   "metadata": {},
   "outputs": [
    {
     "data": {
      "text/html": [
       "\n",
       "        <div>\n",
       "            <p><b>SparkContext</b></p>\n",
       "\n",
       "            <p><a href=\"http://7c6924c35620:4040\">Spark UI</a></p>\n",
       "\n",
       "            <dl>\n",
       "              <dt>Version</dt>\n",
       "                <dd><code>v3.5.0</code></dd>\n",
       "              <dt>Master</dt>\n",
       "                <dd><code>local[*]</code></dd>\n",
       "              <dt>AppName</dt>\n",
       "                <dd><code>RDD_Analysis</code></dd>\n",
       "            </dl>\n",
       "        </div>\n",
       "        "
      ],
      "text/plain": [
       "<SparkContext master=local[*] appName=RDD_Analysis>"
      ]
     },
     "execution_count": 3,
     "metadata": {},
     "output_type": "execute_result"
    }
   ],
   "source": [
    "sc"
   ]
  },
  {
   "cell_type": "code",
   "execution_count": 4,
   "id": "8398cd70",
   "metadata": {},
   "outputs": [],
   "source": [
    "FILE_NAME = \"work/fhvhv_tripdata_2024_1278/fhvhv_tripdata_2024-01.parquet\"\n",
    "\n",
    "df = spark.read.parquet(FILE_NAME)\n",
    "rdd = df.rdd.sample(withReplacement=False, fraction=0.001, seed=42)"
   ]
  },
  {
   "cell_type": "code",
   "execution_count": 5,
   "id": "169c87a1",
   "metadata": {},
   "outputs": [],
   "source": [
    "reduced_rdd = rdd.map(\n",
    "    lambda row: dict(\n",
    "        request_datetime=row.request_datetime,\n",
    "        trip_miles=row.trip_miles,\n",
    "        trip_time=row.trip_time,\n",
    "        base_passenger_fare=row.base_passenger_fare\n",
    "    )\n",
    ")"
   ]
  },
  {
   "cell_type": "code",
   "execution_count": 6,
   "id": "068b01fa",
   "metadata": {},
   "outputs": [],
   "source": [
    "filtered_rdd = reduced_rdd.filter(lambda row: row['request_datetime'].year == 2024 and row['base_passenger_fare'] > 0)\n",
    "\n",
    "filtered_rdd = filtered_rdd.cache()\n",
    "\n",
    "total_revenue_count = filtered_rdd.map(\n",
    "    lambda row: (row['base_passenger_fare'], 1)\n",
    ").reduce(lambda x, y: (x[0] + y[0], x[1] + y[1]))\n"
   ]
  },
  {
   "cell_type": "code",
   "execution_count": 7,
   "id": "ada6c90b",
   "metadata": {},
   "outputs": [],
   "source": [
    "total_revenue, total_count = total_revenue_count\n",
    "\n",
    "average_revenue = total_revenue / total_count\n",
    "average_revenue = round(average_revenue, 2)\n",
    "\n",
    "total_distance = filtered_rdd.map(lambda row: row['trip_miles']).reduce(lambda x, y: x + y)\n",
    "\n",
    "average_distance = total_distance / total_count\n",
    "average_distance = round(average_distance, 2)"
   ]
  },
  {
   "cell_type": "code",
   "execution_count": 8,
   "id": "65011a42",
   "metadata": {},
   "outputs": [],
   "source": [
    "daily_metrics_rdd = filtered_rdd.map(\n",
    "    lambda row: (\n",
    "        row['request_datetime'].date(),  # key: 날짜\n",
    "        (1, row['base_passenger_fare'])  # value: (건수, 수익)\n",
    "    )\n",
    ").reduceByKey(\n",
    "    lambda a, b: (a[0] + b[0], a[1] + b[1])\n",
    ")\n",
    "\n",
    "daily_metrics_sorted = daily_metrics_rdd.sortByKey()\n",
    "\n",
    "summary_rdd = sc.parallelize([\n",
    "    \"total_revenue,total_count,average_distance\",\n",
    "    f\"{round(total_revenue_count[0], 2)},{total_revenue_count[1]},{round(average_distance, 2)}\"\n",
    "])"
   ]
  },
  {
   "cell_type": "code",
   "execution_count": 9,
   "id": "31797c37",
   "metadata": {},
   "outputs": [],
   "source": [
    "# 저장\n",
    "summary_rdd.coalesce(1).saveAsTextFile(\"output/summary\")\n",
    "\n",
    "daily_csv_rdd = daily_metrics_sorted.map(\n",
    "    lambda x: f\"{x[0]},{x[1][0]},{round(x[1][1], 2)}\"\n",
    ")\n",
    "\n",
    "# 하나의 파일로 저장하여 순서 보장\n",
    "daily_csv_rdd.coalesce(1).saveAsTextFile(\"output/daily_metrics\")"
   ]
  },
  {
   "cell_type": "code",
   "execution_count": 10,
   "id": "ff0c8250",
   "metadata": {},
   "outputs": [
    {
     "data": {
      "text/html": [
       "\n",
       "        <div>\n",
       "            <p><b>SparkContext</b></p>\n",
       "\n",
       "            <p><a href=\"http://7c6924c35620:4040\">Spark UI</a></p>\n",
       "\n",
       "            <dl>\n",
       "              <dt>Version</dt>\n",
       "                <dd><code>v3.5.0</code></dd>\n",
       "              <dt>Master</dt>\n",
       "                <dd><code>local[*]</code></dd>\n",
       "              <dt>AppName</dt>\n",
       "                <dd><code>RDD_Analysis</code></dd>\n",
       "            </dl>\n",
       "        </div>\n",
       "        "
      ],
      "text/plain": [
       "<SparkContext master=local[*] appName=RDD_Analysis>"
      ]
     },
     "execution_count": 10,
     "metadata": {},
     "output_type": "execute_result"
    }
   ],
   "source": [
    "sc"
   ]
  },
  {
   "cell_type": "code",
   "execution_count": null,
   "id": "a767987e",
   "metadata": {},
   "outputs": [],
   "source": []
  }
 ],
 "metadata": {
  "kernelspec": {
   "display_name": "Python 3 (ipykernel)",
   "language": "python",
   "name": "python3"
  },
  "language_info": {
   "codemirror_mode": {
    "name": "ipython",
    "version": 3
   },
   "file_extension": ".py",
   "mimetype": "text/x-python",
   "name": "python",
   "nbconvert_exporter": "python",
   "pygments_lexer": "ipython3",
   "version": "3.11.6"
  }
 },
 "nbformat": 4,
 "nbformat_minor": 5
}
